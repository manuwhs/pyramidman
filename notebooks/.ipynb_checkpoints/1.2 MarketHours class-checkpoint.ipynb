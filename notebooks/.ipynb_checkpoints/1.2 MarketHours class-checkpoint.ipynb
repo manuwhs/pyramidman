{
 "cells": [
  {
   "cell_type": "markdown",
   "metadata": {},
   "source": [
    "# MarketHours class\n",
    "\n",
    "One of the biggest pains when dealing with trading data is handling the timestamps. This imposes many challenges due to:\n",
    "- Missing dates.\n",
    "- Holidays \n",
    "- Daytime Light Savings change.\n",
    "- Intraday plottings are inneficient if you plot.\n",
    "- Missalignment between trading natural days and the start of trading sessions.\n",
    "\n",
    "\n",
    "The MarketHours class help us handle all of this operations.\n",
    "\n",
    "Every symbol has a regular market hours like for example:\n",
    "- 8:00 - 17:00 for Europen stocks Monday-Friday\n",
    "- 8:00 - 19:00 for Forex Monday-Saturday\n",
    "\n",
    "This is the normal market hours but there can be several factors to change:\n",
    "- DST: It changes abruptly the hours\n",
    "- Holidays: Not open at all\n",
    "- Special days: Just open a few hours.\n",
    "\n",
    "Most of the functionalities of this class operate with intraday data. For daily candlesticks it can be used to know if a day should be trading or not."
   ]
  },
  {
   "cell_type": "markdown",
   "metadata": {},
   "source": [
    "## The Iso calendar. The nightmare of time zones\n",
    "\n",
    "- DST is more political than rational.\n",
    "- The timestamps could be naive or aware regarding the timezone. If they are naive (no infomation), then UTC is assumed, so when calling isocalendar() we get????\n",
    "- There is the  Coordinated Universal Time (UTC)\n",
    "It is important to have a reference due to all the TimeZones, in our case we normalize to the ISO?"
   ]
  },
  {
   "cell_type": "code",
   "execution_count": 36,
   "metadata": {},
   "outputs": [],
   "source": [
    "import datetime as dt\n",
    "import pandas as pd\n",
    "import pytz \n",
    "from tzlocal import get_localzone\n",
    "from IPython.display import Image\n",
    "%matplotlib qt\n",
    "\n",
    "import sys\n",
    "sys.path.append(\"..\") # Adds higher directory to python modules path.\n",
    "\n",
    "from traphing.data_classes import Velas\n",
    "from traphing.utils import Timeframes, unwrap, MarketHours, SpecialMarketHours\n",
    "from traphing.graph.Gl import gl"
   ]
  },
  {
   "cell_type": "code",
   "execution_count": 37,
   "metadata": {},
   "outputs": [
    {
     "name": "stdout",
     "output_type": "stream",
     "text": [
      "Weekday and week number of  2019-10-04 00:00:00 None\n",
      "Weekday =  4\n",
      "Week number =  40\n"
     ]
    }
   ],
   "source": [
    "datetime_naive = pd.to_datetime(dt.datetime(2019,10,4))\n",
    "print (\"Weekday and week number of \",datetime_naive, datetime_naive.tzname())\n",
    "print (\"Weekday = \", datetime_naive.weekday())\n",
    "print (\"Week number = \", datetime_naive.week)"
   ]
  },
  {
   "cell_type": "code",
   "execution_count": 38,
   "metadata": {},
   "outputs": [
    {
     "name": "stdout",
     "output_type": "stream",
     "text": [
      "None\n",
      "2019-10-04 00:00:00\n",
      "UTC\n",
      "2019-10-04 00:00:00+00:00\n",
      "UTC\n",
      "(2019, 40, 5)\n"
     ]
    }
   ],
   "source": [
    "print(datetime_naive.tz)\n",
    "print(datetime_naive)\n",
    "\n",
    "\n",
    "# get local timezone    \n",
    "local_tz = get_localzone()\n",
    "local_tz = \"UTC\"\n",
    "print(local_tz)\n",
    "tz_aware_time = datetime_naive.tz_localize(local_tz) #Convert naive Timestamp to local time zone, or remove timezone from tz-aware Timestamp.\n",
    "print(tz_aware_time)\n",
    "print(tz_aware_time.tz)\n",
    "print(tz_aware_time.isocalendar())"
   ]
  },
  {
   "cell_type": "code",
   "execution_count": 39,
   "metadata": {},
   "outputs": [
    {
     "name": "stdout",
     "output_type": "stream",
     "text": [
      "ISO weekday and week number of  2019-10-04 00:00:00\n",
      "Weekday =  5\n",
      "Week number =  40\n"
     ]
    }
   ],
   "source": [
    "print (\"ISO weekday and week number of \",datetime_naive)\n",
    "print (\"Weekday = \", datetime_naive.isocalendar()[2])\n",
    "print (\"Week number = \", datetime_naive.isocalendar()[1])"
   ]
  },
  {
   "cell_type": "markdown",
   "metadata": {},
   "source": [
    "## Instance of the class\n",
    "\n",
    "When instanciating the clase we can optionally include:\n",
    "- open_time: The usual open time hours of the symbol\n",
    "- close_time: The usual close time hours of the symbol\n",
    "- trading_days_list: A list with the usual weekdays (as int) when the market is open\n",
    "- special_trading_days_dict: A dictionary with the special days that have irregular market hours. Like holidays, and DST. It also includes the days where we are lacking data. \n",
    "\n",
    "If we do not specify any of the parameters, they will be None. We can give them value later in 2 ways:\n",
    "- Directly operating with the attributes.\n",
    "- Using the estimating functions when given timestamps"
   ]
  },
  {
   "cell_type": "code",
   "execution_count": 40,
   "metadata": {},
   "outputs": [],
   "source": [
    "market_hours = MarketHours()"
   ]
  },
  {
   "cell_type": "code",
   "execution_count": 41,
   "metadata": {},
   "outputs": [
    {
     "name": "stdout",
     "output_type": "stream",
     "text": [
      "<MarketHours>\tobject has children:\n",
      "    <NoneType>\topen_time:\tNone\n",
      "    <NoneType>\tclose_time:\tNone\n",
      "    <NoneType>\ttrading_days_list:\tNone\n",
      "    <NoneType>\tspecial_days_dict:\tNone\n",
      "\n",
      "\n"
     ]
    }
   ],
   "source": [
    "unwrap(market_hours)"
   ]
  },
  {
   "cell_type": "markdown",
   "metadata": {},
   "source": [
    "So far nothing to interesting, we can set this variables externally like for example:\n"
   ]
  },
  {
   "cell_type": "code",
   "execution_count": 42,
   "metadata": {},
   "outputs": [],
   "source": [
    "market_hours.open_time = dt.time(hour = 8, minute = 0, second = 0)\n",
    "market_hours.close_time = dt.time(hour = 16, minute = 0, second = 0)\n",
    "market_hours.trading_days_list = [0, 1, 2, 3 ,4] # Weekdays"
   ]
  },
  {
   "cell_type": "code",
   "execution_count": 43,
   "metadata": {},
   "outputs": [
    {
     "name": "stdout",
     "output_type": "stream",
     "text": [
      "<MarketHours>\tobject has children:\n",
      "    <time>\topen_time:\t08:00:00\n",
      "    <time>\tclose_time:\t16:00:00\n",
      "    <list>\ttrading_days_list\n",
      "    <NoneType>\tspecial_days_dict:\tNone\n",
      "\n",
      "  <list>\ttrading_days_list has children:\n",
      "      <int>\ttrading_days_list[0]:\t0\n",
      "      <int>\ttrading_days_list[1]:\t1\n",
      "      <int>\ttrading_days_list[2]:\t2\n",
      "      <int>\ttrading_days_list[3]:\t3\n",
      "      <int>\ttrading_days_list[4]:\t4\n",
      "\n",
      "\n"
     ]
    }
   ],
   "source": [
    "unwrap(market_hours)"
   ]
  },
  {
   "cell_type": "markdown",
   "metadata": {},
   "source": [
    "### Special market hours class\n",
    "\n",
    "When a day that does not follow the normal trading hours, it is described in an instance of the SpecialMarketHours class which contains:\n",
    "- The speical open and close market hours.\n",
    "- Extra information on why it is a Special day (holidays, DST, lack data...)\n",
    "- Functionalities to check the type of day it is."
   ]
  },
  {
   "cell_type": "code",
   "execution_count": 44,
   "metadata": {},
   "outputs": [],
   "source": [
    "special_date = dt.date(year = 2019, month = 12, day = 25)\n",
    "special_market_hours = SpecialMarketHours(special_date, open_time = dt.time(9,0,0),close_time = dt.time(14,0,0))"
   ]
  },
  {
   "cell_type": "code",
   "execution_count": 45,
   "metadata": {},
   "outputs": [
    {
     "name": "stdout",
     "output_type": "stream",
     "text": [
      "<SpecialMarketHours>\tobject has children:\n",
      "    <date>\tdate:\t2019-12-25\n",
      "    <time>\topen_time:\t09:00:00\n",
      "    <time>\tclose_time:\t14:00:00\n",
      "    <NoneType>\tn_samples:\tNone\n",
      "\n",
      "\n"
     ]
    }
   ],
   "source": [
    "unwrap(special_market_hours)"
   ]
  },
  {
   "cell_type": "markdown",
   "metadata": {},
   "source": [
    "We can then include it into the dictionary of special days to use it later by the market hours obhect"
   ]
  },
  {
   "cell_type": "code",
   "execution_count": 46,
   "metadata": {},
   "outputs": [],
   "source": [
    "market_hours.special_days_dict = {special_market_hours.date: special_market_hours}"
   ]
  },
  {
   "cell_type": "markdown",
   "metadata": {},
   "source": [
    "## Basic functionalities\n",
    "\n",
    "The basic functionalities of an MarketHours object are:\n",
    "- Checking the type of a day: trading day? special? should be a trading day?\n",
    "- Checking if the market is open.\n",
    "- Get extra information about a trading session: Number of samples, or seconds in the session.\n"
   ]
  },
  {
   "cell_type": "markdown",
   "metadata": {},
   "source": [
    "### Date related checkings"
   ]
  },
  {
   "cell_type": "code",
   "execution_count": 47,
   "metadata": {},
   "outputs": [
    {
     "name": "stdout",
     "output_type": "stream",
     "text": [
      "The day 2019-10-02 is a onsdag\n"
     ]
    }
   ],
   "source": [
    "date = dt.date(2019,10,2)\n",
    "print(\"The day \" + str(date) + \" is a \" + date.strftime('%A'))"
   ]
  },
  {
   "cell_type": "code",
   "execution_count": 48,
   "metadata": {},
   "outputs": [
    {
     "data": {
      "text/plain": [
       "True"
      ]
     },
     "execution_count": 48,
     "metadata": {},
     "output_type": "execute_result"
    }
   ],
   "source": [
    "market_hours.is_trading_day(date)"
   ]
  },
  {
   "cell_type": "code",
   "execution_count": 49,
   "metadata": {},
   "outputs": [
    {
     "data": {
      "text/plain": [
       "False"
      ]
     },
     "execution_count": 49,
     "metadata": {},
     "output_type": "execute_result"
    }
   ],
   "source": [
    "market_hours.is_special(date)"
   ]
  },
  {
   "cell_type": "code",
   "execution_count": 50,
   "metadata": {},
   "outputs": [
    {
     "data": {
      "text/plain": [
       "True"
      ]
     },
     "execution_count": 50,
     "metadata": {},
     "output_type": "execute_result"
    }
   ],
   "source": [
    "market_hours.should_be_usual_trading_day(date)"
   ]
  },
  {
   "cell_type": "code",
   "execution_count": 51,
   "metadata": {},
   "outputs": [
    {
     "name": "stdout",
     "output_type": "stream",
     "text": [
      "The day 2019-12-25 is a onsdag\n",
      "is special day? ->  True\n",
      "is trading day? ->  False\n",
      "should be usual trading day? ->  True\n"
     ]
    }
   ],
   "source": [
    "print(\"The day \" + str(special_date) + \" is a \" + special_date.strftime('%A'))\n",
    "print(\"is special day? -> \", market_hours.is_special(special_date))\n",
    "print(\"is trading day? -> \", market_hours.is_trading_day(special_date))\n",
    "print(\"should be usual trading day? -> \", market_hours.should_be_usual_trading_day(special_date))"
   ]
  },
  {
   "cell_type": "markdown",
   "metadata": {},
   "source": [
    "### Datetime related checkings\n",
    "\n",
    "We can check if the market is open at a given day and time."
   ]
  },
  {
   "cell_type": "code",
   "execution_count": 17,
   "metadata": {},
   "outputs": [
    {
     "name": "stdout",
     "output_type": "stream",
     "text": [
      "The day 2019-10-02 07:00:00 is a Wednesday\n",
      "The day 2019-10-02 15:00:00 is a Wednesday\n",
      "The day 2019-12-25 15:00:00 is a Wednesday\n"
     ]
    }
   ],
   "source": [
    "datetime_1 = dt.datetime(2019,10,2, 7,0, 0)\n",
    "datetime_2 = dt.datetime(2019,10,2, 15,0, 0)\n",
    "special_datetime = dt.datetime(special_date.year,special_date.month,special_date.day, 15,0, 0)\n",
    "\n",
    "print(\"The day \" + str(datetime_1) + \" is a \" + datetime_1.strftime('%A'))\n",
    "print(\"The day \" + str(datetime_2) + \" is a \" + datetime_2.strftime('%A'))\n",
    "print(\"The day \" + str(special_datetime) + \" is a \" + datetime_2.strftime('%A'))"
   ]
  },
  {
   "cell_type": "code",
   "execution_count": 18,
   "metadata": {},
   "outputs": [
    {
     "name": "stdout",
     "output_type": "stream",
     "text": [
      "False\n",
      "True\n",
      "False\n"
     ]
    }
   ],
   "source": [
    "print(market_hours.is_market_open(datetime_1))\n",
    "print(market_hours.is_market_open(datetime_2))\n",
    "print(market_hours.is_market_open(special_datetime))"
   ]
  },
  {
   "cell_type": "markdown",
   "metadata": {},
   "source": [
    "### Get extra information about a trading session\n",
    "\n",
    "The extra information utilities are:\n",
    "- The lengh of the trading session in seconds.\n",
    "- The number of samples in the trading session."
   ]
  },
  {
   "cell_type": "code",
   "execution_count": 19,
   "metadata": {},
   "outputs": [
    {
     "name": "stdout",
     "output_type": "stream",
     "text": [
      "(28800, 57600)\n",
      "(18000, 68400)\n"
     ]
    }
   ],
   "source": [
    "print(market_hours.get_length_session_in_seconds(datetime_1.date()))\n",
    "print(market_hours.get_length_session_in_seconds(special_date))"
   ]
  },
  {
   "cell_type": "code",
   "execution_count": 20,
   "metadata": {},
   "outputs": [
    {
     "name": "stdout",
     "output_type": "stream",
     "text": [
      "32\n",
      "20\n"
     ]
    }
   ],
   "source": [
    "print(market_hours.get_number_of_samples_of_trading_session(Timeframes.M15, datetime_1.date()))\n",
    "print(market_hours.get_number_of_samples_of_trading_session(Timeframes.M15, special_date))"
   ]
  },
  {
   "cell_type": "markdown",
   "metadata": {},
   "source": [
    "## Interaction with a timestamps DataTimeIndex\n",
    "\n",
    "The MarketHours class is intended to finally interact with the data from a Velas object, namely its DateTimeIndex timestamps. The Velas object has a set of methods that make use of the MarketHours functionalities in the background. \n",
    "\n",
    "In the following, we will show some examples of the interaction between a MarketHours object and the timestamps from a Velas object.\n",
    "\n",
    "As always, we first need to create a load a Velas object to obtain its timestamps-"
   ]
  },
  {
   "cell_type": "code",
   "execution_count": 21,
   "metadata": {},
   "outputs": [
    {
     "name": "stdout",
     "output_type": "stream",
     "text": [
      "Size ../tests/data/storage/M15/AUDCHF_M15.csv:  100400  rows\n"
     ]
    }
   ],
   "source": [
    "symbol_name = \"AUDCHF\"\n",
    "timeframe = Timeframes.M15\n",
    "storage_folder = \"../tests/data/storage/\"\n",
    "start_time = dt.datetime(2019,7,20)\n",
    "end_time = dt.datetime(2019,8,20)\n",
    "\n",
    "velas = Velas(symbol_name, timeframe)\n",
    "velas.load_data_from_csv(storage_folder)\n",
    "velas.set_time_interval(start_time, end_time, trim = False)\n",
    "\n",
    "timestamps = my_velas_M15.timestamps\n",
    "dates = velas.dates\n",
    "unique_dates = dates.unique()"
   ]
  },
  {
   "cell_type": "markdown",
   "metadata": {},
   "source": [
    "### Grouping timestamps\n",
    "\n",
    "In many ocassions we can to group the \n",
    "- weekday number\n",
    "- Natural days"
   ]
  },
  {
   "cell_type": "code",
   "execution_count": 22,
   "metadata": {},
   "outputs": [
    {
     "data": {
      "text/plain": [
       "{0: 480, 1: 480, 2: 384, 3: 384, 4: 384}"
      ]
     },
     "execution_count": 22,
     "metadata": {},
     "output_type": "execute_result"
    }
   ],
   "source": [
    "market_hours.get_number_of_samples_by_weekday_dict(timestamps_M15)"
   ]
  },
  {
   "cell_type": "code",
   "execution_count": 23,
   "metadata": {},
   "outputs": [
    {
     "data": {
      "text/plain": [
       "{0: 5, 1: 5, 2: 4, 3: 4, 4: 4}"
      ]
     },
     "execution_count": 23,
     "metadata": {},
     "output_type": "execute_result"
    }
   ],
   "source": [
    "market_hours.get_number_of_samples_by_weekday_dict(unique_dates)"
   ]
  },
  {
   "cell_type": "markdown",
   "metadata": {},
   "source": [
    "### Grouping by natural days"
   ]
  },
  {
   "cell_type": "code",
   "execution_count": 24,
   "metadata": {},
   "outputs": [
    {
     "name": "stdout",
     "output_type": "stream",
     "text": [
      "Keys:\n",
      "dict_keys([datetime.date(2019, 7, 22), datetime.date(2019, 7, 23), datetime.date(2019, 7, 24), datetime.date(2019, 7, 25), datetime.date(2019, 7, 26), datetime.date(2019, 7, 29), datetime.date(2019, 7, 30), datetime.date(2019, 7, 31), datetime.date(2019, 8, 1), datetime.date(2019, 8, 2), datetime.date(2019, 8, 5), datetime.date(2019, 8, 6), datetime.date(2019, 8, 7), datetime.date(2019, 8, 8), datetime.date(2019, 8, 9), datetime.date(2019, 8, 12), datetime.date(2019, 8, 13), datetime.date(2019, 8, 14), datetime.date(2019, 8, 15), datetime.date(2019, 8, 16), datetime.date(2019, 8, 19), datetime.date(2019, 8, 20)])\n",
      "\n",
      "First 10 samples:\n",
      "DatetimeIndex(['2019-07-22 00:00:00', '2019-07-22 00:15:00',\n",
      "               '2019-07-22 00:30:00', '2019-07-22 00:45:00',\n",
      "               '2019-07-22 01:00:00', '2019-07-22 01:15:00',\n",
      "               '2019-07-22 01:30:00', '2019-07-22 01:45:00',\n",
      "               '2019-07-22 02:00:00', '2019-07-22 02:15:00'],\n",
      "              dtype='datetime64[ns]', name='Timestamp', freq=None)\n"
     ]
    }
   ],
   "source": [
    "daily_groups = MarketHours.get_index_by_days_dict(timestamps_M15)\n",
    "\n",
    "print(\"Keys:\")\n",
    "print(daily_groups.keys())\n",
    "print(\"\\nFirst 10 samples:\")\n",
    "print (daily_groups[unique_dates[0]][:10])"
   ]
  },
  {
   "cell_type": "markdown",
   "metadata": {},
   "source": [
    "## Estimation the attributes from timestamps\n",
    "\n",
    "Sometimes we will not be sure of the trading hours, or some shit. The things we can estimate are:\n",
    "- timeframe: \n",
    "- open_time and close_time:\n",
    "- usual_trading_days:\n",
    "- special_days:\n",
    "\n",
    "Important: When estimating the properties of a MarketHours object, its attributes are set to the estimated values. In order to make the estimation, extra information like the right open_time can be provided, if not, they will be estimated as well. Except for timeframe which is not part of the MarketHours attributes.\n",
    "\n",
    "The estimation functions in dependency order are the following:"
   ]
  },
  {
   "cell_type": "markdown",
   "metadata": {},
   "source": [
    "### timeframe"
   ]
  },
  {
   "cell_type": "code",
   "execution_count": 25,
   "metadata": {},
   "outputs": [
    {
     "data": {
      "text/plain": [
       "<Timeframes.M15: 15>"
      ]
     },
     "execution_count": 25,
     "metadata": {},
     "output_type": "execute_result"
    }
   ],
   "source": [
    "market_hours.estimate_timeframe(timestamps_M15)"
   ]
  },
  {
   "cell_type": "markdown",
   "metadata": {},
   "source": [
    "### open_time and close_time"
   ]
  },
  {
   "cell_type": "code",
   "execution_count": 26,
   "metadata": {},
   "outputs": [
    {
     "name": "stdout",
     "output_type": "stream",
     "text": [
      "Usual natural day market hours:  00:00:00  -  00:00:00\n"
     ]
    }
   ],
   "source": [
    "open_time, close_time = market_hours.estimate_open_close_time(timestamps_M15)\n",
    "print (\"Usual natural day market hours: \", str(open_time), \" - \", str(close_time))"
   ]
  },
  {
   "cell_type": "markdown",
   "metadata": {},
   "source": [
    "### trading_days_list"
   ]
  },
  {
   "cell_type": "code",
   "execution_count": 27,
   "metadata": {},
   "outputs": [
    {
     "name": "stdout",
     "output_type": "stream",
     "text": [
      "[0, 1, 2, 3, 4]\n"
     ]
    }
   ],
   "source": [
    "normal_trading_days_list = market_hours.estimate_normal_trading_days(timestamps_M15, open_time,close_time, timeframe)\n",
    "print(normal_trading_days_list)"
   ]
  },
  {
   "cell_type": "code",
   "execution_count": 28,
   "metadata": {},
   "outputs": [],
   "source": [
    "special_trading_days_dict = market_hours.estimate_special_trading_days_from_timestamps(timestamps_M15, open_time,close_time, timeframe, normal_trading_days_list)\n",
    "for key in special_trading_days_dict.keys():\n",
    "    print (special_trading_days_dict[key].close_time)"
   ]
  },
  {
   "cell_type": "markdown",
   "metadata": {},
   "source": [
    "## Delete some samples to check functionality"
   ]
  },
  {
   "cell_type": "code",
   "execution_count": 29,
   "metadata": {},
   "outputs": [],
   "source": [
    "timestamps_M15 = timestamps_M15[:-10]\n",
    "n_samples = market_hours.get_number_of_samples_of_trading_session(timeframe)"
   ]
  },
  {
   "cell_type": "code",
   "execution_count": 30,
   "metadata": {},
   "outputs": [
    {
     "name": "stdout",
     "output_type": "stream",
     "text": [
      "Date 2019-08-20 is different:\n",
      "\t Usual open time: \t 00:00:00 \t Special:  00:00:00\n",
      "\t Usual close time: \t 00:00:00 \t Special:  21:30:00\n",
      "\t Usual n samples: \t 96 \t\t Special:  86\n"
     ]
    }
   ],
   "source": [
    "special_trading_days_dict = market_hours.estimate_special_trading_days_from_timestamps(timestamps_M15, open_time,close_time, timeframe, normal_trading_days_list)\n",
    "for key in special_trading_days_dict.keys():\n",
    "    print(\"Date \" + str(key) + \" is different:\")\n",
    "    print(\"\\t Usual open time: \\t\", open_time, \"\\t Special: \", str(special_trading_days_dict[key].open_time))\n",
    "    print(\"\\t Usual close time: \\t\", close_time, \"\\t Special: \", str(special_trading_days_dict[key].close_time))\n",
    "    print(\"\\t Usual n samples: \\t\", n_samples, \"\\t\\t Special: \", str(special_trading_days_dict[key].n_samples))"
   ]
  },
  {
   "cell_type": "markdown",
   "metadata": {},
   "source": [
    "## Use of the object\n",
    "Once the properties of the days have been set or estimated we can use the object to easily obtain the information of everyday."
   ]
  },
  {
   "cell_type": "markdown",
   "metadata": {},
   "source": [
    "### Check if a day is special"
   ]
  },
  {
   "cell_type": "code",
   "execution_count": 31,
   "metadata": {},
   "outputs": [
    {
     "name": "stdout",
     "output_type": "stream",
     "text": [
      "Special date:  2019-08-20\n"
     ]
    }
   ],
   "source": [
    "for date in unique_dates:\n",
    "    if (market_hours.is_special(date)):\n",
    "        print (\"Special date: \", date)"
   ]
  },
  {
   "cell_type": "markdown",
   "metadata": {},
   "source": [
    "### Check if a day is a trading day"
   ]
  },
  {
   "cell_type": "code",
   "execution_count": 32,
   "metadata": {},
   "outputs": [
    {
     "name": "stdout",
     "output_type": "stream",
     "text": [
      "Date 2019-07-23 is trading day? ->  True\n",
      "Date 2019-07-24 is trading day? ->  True\n",
      "Date 2019-07-25 is trading day? ->  True\n",
      "Date 2019-07-26 is trading day? ->  True\n",
      "Date 2019-07-27 is trading day? ->  False\n",
      "Date 2019-07-28 is trading day? ->  False\n",
      "Date 2019-07-29 is trading day? ->  True\n",
      "Date 2019-07-30 is trading day? ->  True\n",
      "Date 2019-07-31 is trading day? ->  True\n",
      "Date 2019-08-01 is trading day? ->  True\n",
      "Date 2019-08-02 is trading day? ->  True\n",
      "Date 2019-08-03 is trading day? ->  False\n",
      "Date 2019-08-04 is trading day? ->  False\n",
      "Date 2019-08-05 is trading day? ->  True\n",
      "Date 2019-08-06 is trading day? ->  True\n",
      "Date 2019-08-07 is trading day? ->  True\n",
      "Date 2019-08-08 is trading day? ->  True\n",
      "Date 2019-08-09 is trading day? ->  True\n",
      "Date 2019-08-10 is trading day? ->  False\n",
      "Date 2019-08-11 is trading day? ->  False\n",
      "Date 2019-08-12 is trading day? ->  True\n",
      "Date 2019-08-13 is trading day? ->  True\n",
      "Date 2019-08-14 is trading day? ->  True\n",
      "Date 2019-08-15 is trading day? ->  True\n",
      "Date 2019-08-16 is trading day? ->  True\n",
      "Date 2019-08-17 is trading day? ->  False\n",
      "Date 2019-08-18 is trading day? ->  False\n",
      "Date 2019-08-19 is trading day? ->  True\n",
      "Date 2019-08-20 is trading day? ->  True\n"
     ]
    }
   ],
   "source": [
    "first_date = unique_dates[0]\n",
    "last_date = unique_dates[-1]\n",
    "\n",
    "date = first_date\n",
    "while (date < last_date):\n",
    "    date += dt.timedelta(days = 1)\n",
    "    is_trading_day = market_hours.is_trading_day(date)\n",
    "    print (\"Date \" + str(date) + \" is trading day? -> \", is_trading_day)\n",
    "        "
   ]
  },
  {
   "cell_type": "markdown",
   "metadata": {},
   "source": [
    "### Unwrapping the object again\n",
    "\n",
    "After the estimations, the internal data of the object is also modified"
   ]
  },
  {
   "cell_type": "code",
   "execution_count": 33,
   "metadata": {
    "scrolled": true
   },
   "outputs": [
    {
     "name": "stdout",
     "output_type": "stream",
     "text": [
      "<MarketHours>\tobject has children:\n",
      "    <time>\topen_time:\t00:00:00\n",
      "    <time>\tclose_time:\t00:00:00\n",
      "    <list>\ttrading_days_list\n",
      "    <dict>\tspecial_days_dict\n",
      "\n",
      "  <dict>\tspecial_days_dict has children:\n",
      "      <SpecialMarketHours>\t2019-08-20\n",
      "\n",
      "    <SpecialMarketHours>\t2019-08-20 has children:\n",
      "        <date>\tdate:\t2019-08-20\n",
      "        <time>\topen_time:\t00:00:00\n",
      "        <time>\tclose_time:\t21:30:00\n",
      "        <int>\tn_samples:\t86\n",
      "\n",
      "  <list>\ttrading_days_list has children:\n",
      "      <int>\ttrading_days_list[0]:\t0\n",
      "      <int>\ttrading_days_list[1]:\t1\n",
      "      <int>\ttrading_days_list[2]:\t2\n",
      "      <int>\ttrading_days_list[3]:\t3\n",
      "      <int>\ttrading_days_list[4]:\t4\n",
      "\n",
      "\n"
     ]
    }
   ],
   "source": [
    "unwrap(market_hours)"
   ]
  }
 ],
 "metadata": {
  "kernelspec": {
   "display_name": "Python 3",
   "language": "python",
   "name": "python3"
  },
  "language_info": {
   "codemirror_mode": {
    "name": "ipython",
    "version": 3
   },
   "file_extension": ".py",
   "mimetype": "text/x-python",
   "name": "python",
   "nbconvert_exporter": "python",
   "pygments_lexer": "ipython3",
   "version": "3.7.4"
  }
 },
 "nbformat": 4,
 "nbformat_minor": 2
}
