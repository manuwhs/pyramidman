{
 "cells": [
  {
   "cell_type": "markdown",
   "metadata": {},
   "source": [
    "## Basics\n",
    "\n",
    "The traphing library is specially designed to interact with the Metatrader 5 (MT5) software in order to fetch the data, make orders... \n",
    "\n",
    "General properties of the socket-based system:\n",
    "- Sadly it requires you to execute a MQL5 scrip in your MT5 to establish the connection.\n",
    "\n",
    "\n",
    "<b>Disclaimer</b>: There is currently a library for interacting with MT5 in python https://pypi.org/project/MetaTrader5/. But it is only available for Windows, ans as good Linux nerds, we could not help it but building the entire communication system from scratch using sockets."
   ]
  },
  {
   "cell_type": "markdown",
   "metadata": {},
   "source": [
    "## MQL5 files\n",
    "\n",
    "A set of MQL5 files are required to be able to run it.\n",
    "\n",
    "The first step needed is to place the MQL5 files in the right directory: \n",
    "\n",
    "![title](./images/MT5/MT5_files.png)\n"
   ]
  },
  {
   "cell_type": "markdown",
   "metadata": {},
   "source": []
  },
  {
   "cell_type": "code",
   "execution_count": 1,
   "metadata": {},
   "outputs": [],
   "source": [
    "import sys\n",
    "sys.path.append(\"..\") # Adds higher directory to python modules path.\n",
    "\n",
    "from traphing.data_classes import Velas\n",
    "from traphing.utils import Timeframes, unwrap\n",
    "\n",
    "from distutils.dir_util import copy_tree\n",
    "\n",
    "def export_MQL5_files(MT5_folder):\n",
    "    src_files_folder = \"../traphing/MQL5/\"\n",
    "    copied_files = copy_tree(src_files_folder, MT5_folder, update = True)\n",
    "    print(\"Copied files from\" + src_files_folder + \" to \" + MT5_folder)\n",
    "    print(\"  \"+ \"\\n  \".join(copied_files) )\n",
    "\n",
    "def import_MQL5_files_for_commit(MT5_folder):\n",
    "    des_files_folder = \"../traphing/MQL5/\"\n",
    "    copied_files = copy_tree(MT5_folder, des_files_folder, update = False)\n",
    "    print(\"Copied files from\" + MT5_folder + \" to \" + des_files_folder)\n",
    "    print(\"  \"+ \"\\n  \".join(copied_files) )\n"
   ]
  },
  {
   "cell_type": "code",
   "execution_count": 2,
   "metadata": {},
   "outputs": [
    {
     "name": "stdout",
     "output_type": "stream",
     "text": [
      "Copied files from../traphing/MQL5/ to ./\n",
      "  ./Include/trading_lib.mqh\n",
      "  ./Include/util.mqh\n",
      "  ./Include/socket_lib.mqh\n",
      "  ./Include/broker_to_csv.mqh\n",
      "  ./Include/print_info.mqh\n",
      "  ./Include/socket_commands.mqh\n",
      "  ./Scripts/library_experiments.ex5\n",
      "  ./Scripts/library_experiments.mq5\n",
      "  ./Scripts/historic_downloader_python.mq5\n",
      "  ./Scripts/historic_downloader_python.ex5\n",
      "  ./Scripts/Server_socket.mq5\n",
      "  ./Scripts/All_data_to_csv_downloader.mq5\n",
      "  ./Scripts/All_data_to_csv_downloader.ex5\n"
     ]
    }
   ],
   "source": [
    "#### CHANGE TO YOUR LOCATION ####\n",
    "MT5_folder = \"../../../MT5/MQL5/\"\n",
    "MT5_folder = \"./\"\n",
    "export_MQL5_files(MT5_folder)"
   ]
  },
  {
   "cell_type": "code",
   "execution_count": null,
   "metadata": {},
   "outputs": [],
   "source": []
  }
 ],
 "metadata": {
  "kernelspec": {
   "display_name": "Python 3",
   "language": "python",
   "name": "python3"
  },
  "language_info": {
   "codemirror_mode": {
    "name": "ipython",
    "version": 3
   },
   "file_extension": ".py",
   "mimetype": "text/x-python",
   "name": "python",
   "nbconvert_exporter": "python",
   "pygments_lexer": "ipython3",
   "version": "3.7.4"
  }
 },
 "nbformat": 4,
 "nbformat_minor": 2
}
