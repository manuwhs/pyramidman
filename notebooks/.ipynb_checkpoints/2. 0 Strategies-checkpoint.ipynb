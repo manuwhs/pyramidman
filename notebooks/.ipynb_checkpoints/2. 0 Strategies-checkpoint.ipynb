{
 "cells": [
  {
   "cell_type": "markdown",
   "metadata": {},
   "source": [
    "# Entry strategies\n",
    "\n",
    "The logic to get into a trade is usually different to the one to exit:\n",
    "- We enter because we have some certainty \n",
    "- We exit if the signal did not evolve as expected. \n",
    "\n",
    "So the strategies are divided into these 2 types"
   ]
  },
  {
   "cell_type": "code",
   "execution_count": null,
   "metadata": {},
   "outputs": [],
   "source": [
    "import datetime as dt\n",
    "import pandas as pd\n",
    "import numpy as np\n",
    "import matplotlib.pyplot as plt \n",
    "\n",
    "import sys\n",
    "sys.path.insert(0, \"..\")  # Adds higher directory to python modules path.\n",
    "\n",
    "from traphing.data_classes import Velas, Portfolio\n",
    "\n",
    "from traphing.strategies.entry import EntryStrategy, CrossingMovingAverages\n",
    "\n",
    "from traphing.utils import Timeframes, unwrap\n",
    "import traphing.utils  as ul\n",
    "\n",
    "from traphing.graph.Gl import gl"
   ]
  },
  {
   "cell_type": "markdown",
   "metadata": {},
   "source": [
    "# EntryStrategy class\n",
    "\n",
    "The Velas class provides a basic interface to interact with the OCHLV candlesticks from Technical Analysis data. An object of this class contains the candlestick data for a given symbol and timeframe in a pandas dataframe; and implements a set of functionalities:\n",
    "<ul>   \n",
    "    <li> Loading and saving the raw candlestick data from different sources (CSV, SQL..).</li>\n",
    "    <li> Handling the data updating, missing data, separating trading sessions...</li>\n",
    "    <li> Technical Analysis indicators: returns, MAs, oscillators...</li>\n",
    "    <li> Common plots.</li>\n",
    "</ul>    "
   ]
  },
  {
   "cell_type": "markdown",
   "metadata": {},
   "source": [
    "## Crossing Moving Averages Entry Strategy\n",
    "\n",
    "A classic, in this strategy, we compute two MAs of the CLOSE price:\n",
    " - The slow MA: \n",
    " - The fast MA: The current trend of the market."
   ]
  },
  {
   "cell_type": "code",
   "execution_count": null,
   "metadata": {},
   "outputs": [],
   "source": []
  }
 ],
 "metadata": {
  "kernelspec": {
   "display_name": "Python 3",
   "language": "python",
   "name": "python3"
  },
  "language_info": {
   "codemirror_mode": {
    "name": "ipython",
    "version": 3
   },
   "file_extension": ".py",
   "mimetype": "text/x-python",
   "name": "python",
   "nbconvert_exporter": "python",
   "pygments_lexer": "ipython3",
   "version": "3.7.4"
  }
 },
 "nbformat": 4,
 "nbformat_minor": 2
}
