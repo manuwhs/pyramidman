{
 "cells": [
  {
   "cell_type": "markdown",
   "metadata": {},
   "source": [
    "# Speech Recognition techniques\n",
    "\n",
    "A walkthough the different functions in pyramidman that handle the recording, playing and processing of audio. It is mainly for didactic and testing purposes."
   ]
  },
  {
   "cell_type": "code",
   "execution_count": 164,
   "metadata": {},
   "outputs": [
    {
     "name": "stdout",
     "output_type": "stream",
     "text": [
      "The autoreload extension is already loaded. To reload it, use:\n",
      "  %reload_ext autoreload\n"
     ]
    }
   ],
   "source": [
    "%load_ext autoreload\n",
    "%autoreload 2\n",
    "\n",
    "from pyramidman.audio_parameters import AudioParameters\n",
    "from pyramidman.basic_audio_IO import play_audio, record_audio\n",
    "from pyramidman.audio_utils import get_available_microphones, get_sysdefault_microphone_index, get_all_devices_str\n",
    "from pyramidman.queue_utils import record_with_queue\n",
    "from pyramidman.unwrapper import unwrap\n",
    "from pyramidman.speech_recognizing import recognize_speech_from_mic\n",
    "\n",
    "from pyramidman.hieroglyph import plot_timeseries_range_slider, create_tabs, plot_spectrogram\n",
    "from pyramidman.hieroglyph import add_word_annotations\n",
    "\n",
    "from pyramidman.audio_utils import calibrate_microphone\n",
    "\n",
    "from pyramidman.deepspeech_tools import transcribe, DeepSpeechArgs\n",
    "from pyramidman.deepspeech_tools import words_from_metadata\n",
    "\n",
    "import speech_recognition as sr\n",
    "import time\n",
    "import numpy as np\n",
    "from scipy import signal\n",
    "from scipy.io import wavfile\n",
    "\n",
    "import matplotlib.pyplot as plt\n",
    "%matplotlib qt\n",
    "\n",
    "import plotly.graph_objs as go\n",
    "from IPython.display import display\n",
    "import ipywidgets as widgets\n",
    "\n",
    "from queue import Queue"
   ]
  },
  {
   "cell_type": "markdown",
   "metadata": {},
   "source": [
    "# Instantiate and calibrate microphone\n",
    "\n",
    "Ideally, we would like a background process in a thread that whenever a sentence is finished, it is translated and plotted. This is the following code."
   ]
  },
  {
   "cell_type": "code",
   "execution_count": 165,
   "metadata": {},
   "outputs": [],
   "source": [
    "audio_params = AudioParameters()\n",
    "audio_params.set_sysdefault_microphone_index()\n",
    "audio_params.set_default_input_parameters()\n",
    "# audio_params.sample_rate = 16000\n"
   ]
  },
  {
   "cell_type": "code",
   "execution_count": 166,
   "metadata": {},
   "outputs": [
    {
     "name": "stdout",
     "output_type": "stream",
     "text": [
      "Calibrating microphone for 3 seconds.\n",
      "Calibrated\n"
     ]
    }
   ],
   "source": [
    "mic = audio_params.get_microphone()\n",
    "r = sr.Recognizer()\n",
    "\n",
    "calibrate_microhpone(mic, r, duration = 3, dynamic_energy_threshold= False )"
   ]
  },
  {
   "cell_type": "code",
   "execution_count": 167,
   "metadata": {},
   "outputs": [
    {
     "data": {
      "text/plain": [
       "0.8"
      ]
     },
     "execution_count": 167,
     "metadata": {},
     "output_type": "execute_result"
    }
   ],
   "source": [
    "r.non_speaking_duration\n",
    "r.pause_threshold"
   ]
  },
  {
   "cell_type": "markdown",
   "metadata": {},
   "source": [
    "## Record example message to process with the recognizers"
   ]
  },
  {
   "cell_type": "code",
   "execution_count": 168,
   "metadata": {},
   "outputs": [],
   "source": [
    "filename_mic = '../audios/temp/hello_world.wav'\n",
    "\n",
    "r.non_speaking_duration = 0.3\n",
    "r.pause_threshold = 0.3\n",
    "\n",
    "with mic as source:\n",
    "    audio = r.listen(source)\n",
    "\n",
    "with open(filename_mic, \"wb\") as f:\n",
    "    f.write(audio.get_wav_data())"
   ]
  },
  {
   "cell_type": "code",
   "execution_count": 169,
   "metadata": {},
   "outputs": [
    {
     "data": {
      "application/vnd.jupyter.widget-view+json": {
       "model_id": "68a39172dad845a5b22a98aff8b32564",
       "version_major": 2,
       "version_minor": 0
      },
      "text/plain": [
       "Tab(children=(FigureWidget({\n",
       "    'data': [{'line': {'color': 'deepskyblue'},\n",
       "              'name': 'AAPL High'…"
      ]
     },
     "metadata": {},
     "output_type": "display_data"
    }
   ],
   "source": [
    "tabs = get_audio_menu_wav_file(filename_mic)\n",
    "display(tabs)"
   ]
  },
  {
   "cell_type": "markdown",
   "metadata": {},
   "source": [
    "# DeepSpeech recognizer\n",
    "\n",
    "We have installed and used this decoder. It has the following peculiarities:\n",
    "- It only works for 16000 sample_rate data, so we need to resample the 48000 recording. Still it is better to record in 48000 and then filter (no just downsamplling) due to aliasing\n",
    "- It can return metadata with the likelihood of the transformation and the start_time and duration of each word.\n",
    "- There seems to be an error in the decoder as it always assings the time 0 to the first letter it decodes, independently of when it happens.\n"
   ]
  },
  {
   "cell_type": "code",
   "execution_count": 158,
   "metadata": {},
   "outputs": [
    {
     "name": "stderr",
     "output_type": "stream",
     "text": [
      "Loading model from file ../deepspeech-0.6.0-models/output_graph.pbmm\n",
      "Loaded model in 0.0223s.\n",
      "Loading language model from files ../deepspeech-0.6.0-models/lm.binary ../deepspeech-0.6.0-models/trie\n",
      "Loaded language model in 0.000509s.\n",
      "Warning: original sample rate (48000) is different than 16000hz. Resampling might produce erratic speech recognition.\n",
      "Running inference.\n",
      "Inference took 3.901s for 17.536s audio file.\n"
     ]
    }
   ],
   "source": [
    "args = DeepSpeechArgs()\n",
    "metadata = transcribe(args, filename_mic)"
   ]
  },
  {
   "cell_type": "code",
   "execution_count": 159,
   "metadata": {},
   "outputs": [
    {
     "data": {
      "text/plain": [
       "[['p', 0.0, 0],\n",
       " ['y', 0.29999998211860657, 15],\n",
       " ['r', 2.119999885559082, 106],\n",
       " ['a', 2.1599998474121094, 108],\n",
       " ['m', 2.299999952316284, 115],\n",
       " ['i', 2.3999998569488525, 120],\n",
       " ['d', 2.440000057220459, 122],\n",
       " [' ', 2.6399998664855957, 132],\n",
       " ['m', 2.740000009536743, 137],\n",
       " ['e', 2.8399999141693115, 142],\n",
       " ['n', 2.859999895095825, 143],\n",
       " [' ', 3.240000009536743, 162],\n",
       " ['p', 3.2799999713897705, 164],\n",
       " ['y', 3.359999895095825, 168],\n",
       " ['r', 3.4600000381469727, 173],\n",
       " ['a', 3.5799999237060547, 179],\n",
       " ['m', 3.6599998474121094, 183],\n",
       " ['i', 3.759999990463257, 188],\n",
       " ['d', 3.7799999713897705, 189],\n",
       " [' ', 4.0, 200],\n",
       " ['m', 4.079999923706055, 204],\n",
       " ['a', 4.179999828338623, 209],\n",
       " ['n', 4.199999809265137, 210],\n",
       " [' ', 4.599999904632568, 230],\n",
       " ['p', 4.619999885559082, 231],\n",
       " ['y', 4.71999979019165, 236],\n",
       " ['r', 4.839999675750732, 242],\n",
       " ['a', 4.960000038146973, 248],\n",
       " ['m', 5.019999980926514, 251],\n",
       " ['i', 5.119999885559082, 256],\n",
       " ['d', 5.159999847412109, 258],\n",
       " [' ', 5.299999713897705, 265],\n",
       " ['m', 5.400000095367432, 270],\n",
       " ['e', 5.5, 275],\n",
       " ['n', 5.519999980926514, 276]]"
      ]
     },
     "execution_count": 159,
     "metadata": {},
     "output_type": "execute_result"
    }
   ],
   "source": [
    "[[item.character,item.start_time, item.timestep] for item in meta.items]"
   ]
  },
  {
   "cell_type": "code",
   "execution_count": 146,
   "metadata": {},
   "outputs": [
    {
     "data": {
      "text/plain": [
       "{'words': [{'word': 'pyramid', 'start_time ': 0.0, 'duration': 2.36},\n",
       "  {'word': 'men', 'start_time ': 2.42, 'duration': 0.12}],\n",
       " 'confidence': -23.9383587455553}"
      ]
     },
     "execution_count": 146,
     "metadata": {},
     "output_type": "execute_result"
    }
   ],
   "source": [
    "caca"
   ]
  },
  {
   "cell_type": "code",
   "execution_count": 136,
   "metadata": {},
   "outputs": [
    {
     "data": {
      "application/vnd.jupyter.widget-view+json": {
       "model_id": "8ba0d3ca5fa94344b172e23512134963",
       "version_major": 2,
       "version_minor": 0
      },
      "text/plain": [
       "Tab(children=(FigureWidget({\n",
       "    'data': [{'line': {'color': 'deepskyblue'},\n",
       "              'name': 'AAPL High'…"
      ]
     },
     "metadata": {},
     "output_type": "display_data"
    }
   ],
   "source": [
    "tabs = get_audio_menu_wav_file(filename_mic)\n",
    "add_word_annotations(tabs.children[0],caca[\"words\"])\n",
    "display(tabs)"
   ]
  },
  {
   "cell_type": "code",
   "execution_count": 117,
   "metadata": {},
   "outputs": [],
   "source": [
    "play_audio(audio_params, filename_mic)"
   ]
  },
  {
   "cell_type": "code",
   "execution_count": null,
   "metadata": {},
   "outputs": [],
   "source": []
  }
 ],
 "metadata": {
  "kernelspec": {
   "display_name": "Python 3",
   "language": "python",
   "name": "python3"
  },
  "language_info": {
   "codemirror_mode": {
    "name": "ipython",
    "version": 3
   },
   "file_extension": ".py",
   "mimetype": "text/x-python",
   "name": "python",
   "nbconvert_exporter": "python",
   "pygments_lexer": "ipython3",
   "version": "3.7.4"
  }
 },
 "nbformat": 4,
 "nbformat_minor": 2
}
