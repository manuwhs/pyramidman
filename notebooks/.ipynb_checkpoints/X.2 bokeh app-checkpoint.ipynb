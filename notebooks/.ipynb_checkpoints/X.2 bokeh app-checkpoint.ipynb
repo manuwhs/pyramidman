{
 "cells": [
  {
   "cell_type": "markdown",
   "metadata": {},
   "source": [
    "## Best shit in the world\n"
   ]
  },
  {
   "cell_type": "code",
   "execution_count": 1,
   "metadata": {},
   "outputs": [],
   "source": [
    "import sys\n",
    "import datetime as dt\n",
    "import pandas as pd\n",
    "import numpy as np\n",
    "import matplotlib.pyplot as plt\n",
    "from IPython.display import Image\n",
    "import logging\n",
    "\n",
    "from bokeh.io import output_file, show,output_notebook \n",
    "from bokeh.plotting import figure, ColumnDataSource\n",
    "from bokeh.models import DatetimeTickFormatter\n",
    "\n",
    "from bokeh.models import HoverTool, RangeTool, Slider\n",
    "\n",
    "from bokeh.models.tools import *\n",
    "from bokeh.models.annotations import Title\n",
    "from bokeh.models import CustomJS\n",
    "from bokeh.layouts import gridplot, grid, column\n",
    "\n",
    "%matplotlib qt "
   ]
  },
  {
   "cell_type": "code",
   "execution_count": 2,
   "metadata": {},
   "outputs": [],
   "source": [
    "sys.path.insert(0,\"..\") # Adds higher directory to python modules path.\n",
    "\n",
    "from traphing.data_classes import Velas, Symbol, Portfolio\n",
    "from traphing.utils import Timeframes, unwrap\n",
    "import traphing.utils as ul\n",
    "from traphing.graph.Gl import gl"
   ]
  },
  {
   "cell_type": "code",
   "execution_count": 3,
   "metadata": {},
   "outputs": [
    {
     "name": "stderr",
     "output_type": "stream",
     "text": [
      "DEBUG:root:test\n"
     ]
    }
   ],
   "source": [
    "logger = logging.getLogger()\n",
    "logger.setLevel(logging.DEBUG)\n",
    "logging.debug(\"test\")"
   ]
  },
  {
   "cell_type": "code",
   "execution_count": 4,
   "metadata": {
    "scrolled": true
   },
   "outputs": [
    {
     "data": {
      "text/html": [
       "\n",
       "    <div class=\"bk-root\">\n",
       "        <a href=\"https://bokeh.pydata.org\" target=\"_blank\" class=\"bk-logo bk-logo-small bk-logo-notebook\"></a>\n",
       "        <span id=\"1001\">Loading BokehJS ...</span>\n",
       "    </div>"
      ]
     },
     "metadata": {},
     "output_type": "display_data"
    },
    {
     "data": {
      "application/javascript": [
       "\n",
       "(function(root) {\n",
       "  function now() {\n",
       "    return new Date();\n",
       "  }\n",
       "\n",
       "  var force = true;\n",
       "\n",
       "  if (typeof root._bokeh_onload_callbacks === \"undefined\" || force === true) {\n",
       "    root._bokeh_onload_callbacks = [];\n",
       "    root._bokeh_is_loading = undefined;\n",
       "  }\n",
       "\n",
       "  var JS_MIME_TYPE = 'application/javascript';\n",
       "  var HTML_MIME_TYPE = 'text/html';\n",
       "  var EXEC_MIME_TYPE = 'application/vnd.bokehjs_exec.v0+json';\n",
       "  var CLASS_NAME = 'output_bokeh rendered_html';\n",
       "\n",
       "  /**\n",
       "   * Render data to the DOM node\n",
       "   */\n",
       "  function render(props, node) {\n",
       "    var script = document.createElement(\"script\");\n",
       "    node.appendChild(script);\n",
       "  }\n",
       "\n",
       "  /**\n",
       "   * Handle when an output is cleared or removed\n",
       "   */\n",
       "  function handleClearOutput(event, handle) {\n",
       "    var cell = handle.cell;\n",
       "\n",
       "    var id = cell.output_area._bokeh_element_id;\n",
       "    var server_id = cell.output_area._bokeh_server_id;\n",
       "    // Clean up Bokeh references\n",
       "    if (id != null && id in Bokeh.index) {\n",
       "      Bokeh.index[id].model.document.clear();\n",
       "      delete Bokeh.index[id];\n",
       "    }\n",
       "\n",
       "    if (server_id !== undefined) {\n",
       "      // Clean up Bokeh references\n",
       "      var cmd = \"from bokeh.io.state import curstate; print(curstate().uuid_to_server['\" + server_id + \"'].get_sessions()[0].document.roots[0]._id)\";\n",
       "      cell.notebook.kernel.execute(cmd, {\n",
       "        iopub: {\n",
       "          output: function(msg) {\n",
       "            var id = msg.content.text.trim();\n",
       "            if (id in Bokeh.index) {\n",
       "              Bokeh.index[id].model.document.clear();\n",
       "              delete Bokeh.index[id];\n",
       "            }\n",
       "          }\n",
       "        }\n",
       "      });\n",
       "      // Destroy server and session\n",
       "      var cmd = \"import bokeh.io.notebook as ion; ion.destroy_server('\" + server_id + \"')\";\n",
       "      cell.notebook.kernel.execute(cmd);\n",
       "    }\n",
       "  }\n",
       "\n",
       "  /**\n",
       "   * Handle when a new output is added\n",
       "   */\n",
       "  function handleAddOutput(event, handle) {\n",
       "    var output_area = handle.output_area;\n",
       "    var output = handle.output;\n",
       "\n",
       "    // limit handleAddOutput to display_data with EXEC_MIME_TYPE content only\n",
       "    if ((output.output_type != \"display_data\") || (!output.data.hasOwnProperty(EXEC_MIME_TYPE))) {\n",
       "      return\n",
       "    }\n",
       "\n",
       "    var toinsert = output_area.element.find(\".\" + CLASS_NAME.split(' ')[0]);\n",
       "\n",
       "    if (output.metadata[EXEC_MIME_TYPE][\"id\"] !== undefined) {\n",
       "      toinsert[toinsert.length - 1].firstChild.textContent = output.data[JS_MIME_TYPE];\n",
       "      // store reference to embed id on output_area\n",
       "      output_area._bokeh_element_id = output.metadata[EXEC_MIME_TYPE][\"id\"];\n",
       "    }\n",
       "    if (output.metadata[EXEC_MIME_TYPE][\"server_id\"] !== undefined) {\n",
       "      var bk_div = document.createElement(\"div\");\n",
       "      bk_div.innerHTML = output.data[HTML_MIME_TYPE];\n",
       "      var script_attrs = bk_div.children[0].attributes;\n",
       "      for (var i = 0; i < script_attrs.length; i++) {\n",
       "        toinsert[toinsert.length - 1].firstChild.setAttribute(script_attrs[i].name, script_attrs[i].value);\n",
       "      }\n",
       "      // store reference to server id on output_area\n",
       "      output_area._bokeh_server_id = output.metadata[EXEC_MIME_TYPE][\"server_id\"];\n",
       "    }\n",
       "  }\n",
       "\n",
       "  function register_renderer(events, OutputArea) {\n",
       "\n",
       "    function append_mime(data, metadata, element) {\n",
       "      // create a DOM node to render to\n",
       "      var toinsert = this.create_output_subarea(\n",
       "        metadata,\n",
       "        CLASS_NAME,\n",
       "        EXEC_MIME_TYPE\n",
       "      );\n",
       "      this.keyboard_manager.register_events(toinsert);\n",
       "      // Render to node\n",
       "      var props = {data: data, metadata: metadata[EXEC_MIME_TYPE]};\n",
       "      render(props, toinsert[toinsert.length - 1]);\n",
       "      element.append(toinsert);\n",
       "      return toinsert\n",
       "    }\n",
       "\n",
       "    /* Handle when an output is cleared or removed */\n",
       "    events.on('clear_output.CodeCell', handleClearOutput);\n",
       "    events.on('delete.Cell', handleClearOutput);\n",
       "\n",
       "    /* Handle when a new output is added */\n",
       "    events.on('output_added.OutputArea', handleAddOutput);\n",
       "\n",
       "    /**\n",
       "     * Register the mime type and append_mime function with output_area\n",
       "     */\n",
       "    OutputArea.prototype.register_mime_type(EXEC_MIME_TYPE, append_mime, {\n",
       "      /* Is output safe? */\n",
       "      safe: true,\n",
       "      /* Index of renderer in `output_area.display_order` */\n",
       "      index: 0\n",
       "    });\n",
       "  }\n",
       "\n",
       "  // register the mime type if in Jupyter Notebook environment and previously unregistered\n",
       "  if (root.Jupyter !== undefined) {\n",
       "    var events = require('base/js/events');\n",
       "    var OutputArea = require('notebook/js/outputarea').OutputArea;\n",
       "\n",
       "    if (OutputArea.prototype.mime_types().indexOf(EXEC_MIME_TYPE) == -1) {\n",
       "      register_renderer(events, OutputArea);\n",
       "    }\n",
       "  }\n",
       "\n",
       "  \n",
       "  if (typeof (root._bokeh_timeout) === \"undefined\" || force === true) {\n",
       "    root._bokeh_timeout = Date.now() + 5000;\n",
       "    root._bokeh_failed_load = false;\n",
       "  }\n",
       "\n",
       "  var NB_LOAD_WARNING = {'data': {'text/html':\n",
       "     \"<div style='background-color: #fdd'>\\n\"+\n",
       "     \"<p>\\n\"+\n",
       "     \"BokehJS does not appear to have successfully loaded. If loading BokehJS from CDN, this \\n\"+\n",
       "     \"may be due to a slow or bad network connection. Possible fixes:\\n\"+\n",
       "     \"</p>\\n\"+\n",
       "     \"<ul>\\n\"+\n",
       "     \"<li>re-rerun `output_notebook()` to attempt to load from CDN again, or</li>\\n\"+\n",
       "     \"<li>use INLINE resources instead, as so:</li>\\n\"+\n",
       "     \"</ul>\\n\"+\n",
       "     \"<code>\\n\"+\n",
       "     \"from bokeh.resources import INLINE\\n\"+\n",
       "     \"output_notebook(resources=INLINE)\\n\"+\n",
       "     \"</code>\\n\"+\n",
       "     \"</div>\"}};\n",
       "\n",
       "  function display_loaded() {\n",
       "    var el = document.getElementById(\"1001\");\n",
       "    if (el != null) {\n",
       "      el.textContent = \"BokehJS is loading...\";\n",
       "    }\n",
       "    if (root.Bokeh !== undefined) {\n",
       "      if (el != null) {\n",
       "        el.textContent = \"BokehJS \" + root.Bokeh.version + \" successfully loaded.\";\n",
       "      }\n",
       "    } else if (Date.now() < root._bokeh_timeout) {\n",
       "      setTimeout(display_loaded, 100)\n",
       "    }\n",
       "  }\n",
       "\n",
       "\n",
       "  function run_callbacks() {\n",
       "    try {\n",
       "      root._bokeh_onload_callbacks.forEach(function(callback) {\n",
       "        if (callback != null)\n",
       "          callback();\n",
       "      });\n",
       "    } finally {\n",
       "      delete root._bokeh_onload_callbacks\n",
       "    }\n",
       "    console.debug(\"Bokeh: all callbacks have finished\");\n",
       "  }\n",
       "\n",
       "  function load_libs(css_urls, js_urls, callback) {\n",
       "    if (css_urls == null) css_urls = [];\n",
       "    if (js_urls == null) js_urls = [];\n",
       "\n",
       "    root._bokeh_onload_callbacks.push(callback);\n",
       "    if (root._bokeh_is_loading > 0) {\n",
       "      console.debug(\"Bokeh: BokehJS is being loaded, scheduling callback at\", now());\n",
       "      return null;\n",
       "    }\n",
       "    if (js_urls == null || js_urls.length === 0) {\n",
       "      run_callbacks();\n",
       "      return null;\n",
       "    }\n",
       "    console.debug(\"Bokeh: BokehJS not loaded, scheduling load and callback at\", now());\n",
       "    root._bokeh_is_loading = css_urls.length + js_urls.length;\n",
       "\n",
       "    function on_load() {\n",
       "      root._bokeh_is_loading--;\n",
       "      if (root._bokeh_is_loading === 0) {\n",
       "        console.debug(\"Bokeh: all BokehJS libraries/stylesheets loaded\");\n",
       "        run_callbacks()\n",
       "      }\n",
       "    }\n",
       "\n",
       "    function on_error() {\n",
       "      console.error(\"failed to load \" + url);\n",
       "    }\n",
       "\n",
       "    for (var i = 0; i < css_urls.length; i++) {\n",
       "      var url = css_urls[i];\n",
       "      const element = document.createElement(\"link\");\n",
       "      element.onload = on_load;\n",
       "      element.onerror = on_error;\n",
       "      element.rel = \"stylesheet\";\n",
       "      element.type = \"text/css\";\n",
       "      element.href = url;\n",
       "      console.debug(\"Bokeh: injecting link tag for BokehJS stylesheet: \", url);\n",
       "      document.body.appendChild(element);\n",
       "    }\n",
       "\n",
       "    for (var i = 0; i < js_urls.length; i++) {\n",
       "      var url = js_urls[i];\n",
       "      var element = document.createElement('script');\n",
       "      element.onload = on_load;\n",
       "      element.onerror = on_error;\n",
       "      element.async = false;\n",
       "      element.src = url;\n",
       "      console.debug(\"Bokeh: injecting script tag for BokehJS library: \", url);\n",
       "      document.head.appendChild(element);\n",
       "    }\n",
       "  };var element = document.getElementById(\"1001\");\n",
       "  if (element == null) {\n",
       "    console.error(\"Bokeh: ERROR: autoload.js configured with elementid '1001' but no matching script tag was found. \")\n",
       "    return false;\n",
       "  }\n",
       "\n",
       "  function inject_raw_css(css) {\n",
       "    const element = document.createElement(\"style\");\n",
       "    element.appendChild(document.createTextNode(css));\n",
       "    document.body.appendChild(element);\n",
       "  }\n",
       "\n",
       "  var js_urls = [\"https://cdn.pydata.org/bokeh/release/bokeh-1.3.4.min.js\", \"https://cdn.pydata.org/bokeh/release/bokeh-widgets-1.3.4.min.js\", \"https://cdn.pydata.org/bokeh/release/bokeh-tables-1.3.4.min.js\", \"https://cdn.pydata.org/bokeh/release/bokeh-gl-1.3.4.min.js\"];\n",
       "  var css_urls = [];\n",
       "\n",
       "  var inline_js = [\n",
       "    function(Bokeh) {\n",
       "      Bokeh.set_log_level(\"info\");\n",
       "    },\n",
       "    \n",
       "    function(Bokeh) {\n",
       "      \n",
       "    },\n",
       "    function(Bokeh) {} // ensure no trailing comma for IE\n",
       "  ];\n",
       "\n",
       "  function run_inline_js() {\n",
       "    \n",
       "    if ((root.Bokeh !== undefined) || (force === true)) {\n",
       "      for (var i = 0; i < inline_js.length; i++) {\n",
       "        inline_js[i].call(root, root.Bokeh);\n",
       "      }if (force === true) {\n",
       "        display_loaded();\n",
       "      }} else if (Date.now() < root._bokeh_timeout) {\n",
       "      setTimeout(run_inline_js, 100);\n",
       "    } else if (!root._bokeh_failed_load) {\n",
       "      console.log(\"Bokeh: BokehJS failed to load within specified timeout.\");\n",
       "      root._bokeh_failed_load = true;\n",
       "    } else if (force !== true) {\n",
       "      var cell = $(document.getElementById(\"1001\")).parents('.cell').data().cell;\n",
       "      cell.output_area.append_execute_result(NB_LOAD_WARNING)\n",
       "    }\n",
       "\n",
       "  }\n",
       "\n",
       "  if (root._bokeh_is_loading === 0) {\n",
       "    console.debug(\"Bokeh: BokehJS loaded, going straight to plotting\");\n",
       "    run_inline_js();\n",
       "  } else {\n",
       "    load_libs(css_urls, js_urls, function() {\n",
       "      console.debug(\"Bokeh: BokehJS plotting callback run at\", now());\n",
       "      run_inline_js();\n",
       "    });\n",
       "  }\n",
       "}(window));"
      ],
      "application/vnd.bokehjs_load.v0+json": "\n(function(root) {\n  function now() {\n    return new Date();\n  }\n\n  var force = true;\n\n  if (typeof root._bokeh_onload_callbacks === \"undefined\" || force === true) {\n    root._bokeh_onload_callbacks = [];\n    root._bokeh_is_loading = undefined;\n  }\n\n  \n\n  \n  if (typeof (root._bokeh_timeout) === \"undefined\" || force === true) {\n    root._bokeh_timeout = Date.now() + 5000;\n    root._bokeh_failed_load = false;\n  }\n\n  var NB_LOAD_WARNING = {'data': {'text/html':\n     \"<div style='background-color: #fdd'>\\n\"+\n     \"<p>\\n\"+\n     \"BokehJS does not appear to have successfully loaded. If loading BokehJS from CDN, this \\n\"+\n     \"may be due to a slow or bad network connection. Possible fixes:\\n\"+\n     \"</p>\\n\"+\n     \"<ul>\\n\"+\n     \"<li>re-rerun `output_notebook()` to attempt to load from CDN again, or</li>\\n\"+\n     \"<li>use INLINE resources instead, as so:</li>\\n\"+\n     \"</ul>\\n\"+\n     \"<code>\\n\"+\n     \"from bokeh.resources import INLINE\\n\"+\n     \"output_notebook(resources=INLINE)\\n\"+\n     \"</code>\\n\"+\n     \"</div>\"}};\n\n  function display_loaded() {\n    var el = document.getElementById(\"1001\");\n    if (el != null) {\n      el.textContent = \"BokehJS is loading...\";\n    }\n    if (root.Bokeh !== undefined) {\n      if (el != null) {\n        el.textContent = \"BokehJS \" + root.Bokeh.version + \" successfully loaded.\";\n      }\n    } else if (Date.now() < root._bokeh_timeout) {\n      setTimeout(display_loaded, 100)\n    }\n  }\n\n\n  function run_callbacks() {\n    try {\n      root._bokeh_onload_callbacks.forEach(function(callback) {\n        if (callback != null)\n          callback();\n      });\n    } finally {\n      delete root._bokeh_onload_callbacks\n    }\n    console.debug(\"Bokeh: all callbacks have finished\");\n  }\n\n  function load_libs(css_urls, js_urls, callback) {\n    if (css_urls == null) css_urls = [];\n    if (js_urls == null) js_urls = [];\n\n    root._bokeh_onload_callbacks.push(callback);\n    if (root._bokeh_is_loading > 0) {\n      console.debug(\"Bokeh: BokehJS is being loaded, scheduling callback at\", now());\n      return null;\n    }\n    if (js_urls == null || js_urls.length === 0) {\n      run_callbacks();\n      return null;\n    }\n    console.debug(\"Bokeh: BokehJS not loaded, scheduling load and callback at\", now());\n    root._bokeh_is_loading = css_urls.length + js_urls.length;\n\n    function on_load() {\n      root._bokeh_is_loading--;\n      if (root._bokeh_is_loading === 0) {\n        console.debug(\"Bokeh: all BokehJS libraries/stylesheets loaded\");\n        run_callbacks()\n      }\n    }\n\n    function on_error() {\n      console.error(\"failed to load \" + url);\n    }\n\n    for (var i = 0; i < css_urls.length; i++) {\n      var url = css_urls[i];\n      const element = document.createElement(\"link\");\n      element.onload = on_load;\n      element.onerror = on_error;\n      element.rel = \"stylesheet\";\n      element.type = \"text/css\";\n      element.href = url;\n      console.debug(\"Bokeh: injecting link tag for BokehJS stylesheet: \", url);\n      document.body.appendChild(element);\n    }\n\n    for (var i = 0; i < js_urls.length; i++) {\n      var url = js_urls[i];\n      var element = document.createElement('script');\n      element.onload = on_load;\n      element.onerror = on_error;\n      element.async = false;\n      element.src = url;\n      console.debug(\"Bokeh: injecting script tag for BokehJS library: \", url);\n      document.head.appendChild(element);\n    }\n  };var element = document.getElementById(\"1001\");\n  if (element == null) {\n    console.error(\"Bokeh: ERROR: autoload.js configured with elementid '1001' but no matching script tag was found. \")\n    return false;\n  }\n\n  function inject_raw_css(css) {\n    const element = document.createElement(\"style\");\n    element.appendChild(document.createTextNode(css));\n    document.body.appendChild(element);\n  }\n\n  var js_urls = [\"https://cdn.pydata.org/bokeh/release/bokeh-1.3.4.min.js\", \"https://cdn.pydata.org/bokeh/release/bokeh-widgets-1.3.4.min.js\", \"https://cdn.pydata.org/bokeh/release/bokeh-tables-1.3.4.min.js\", \"https://cdn.pydata.org/bokeh/release/bokeh-gl-1.3.4.min.js\"];\n  var css_urls = [];\n\n  var inline_js = [\n    function(Bokeh) {\n      Bokeh.set_log_level(\"info\");\n    },\n    \n    function(Bokeh) {\n      \n    },\n    function(Bokeh) {} // ensure no trailing comma for IE\n  ];\n\n  function run_inline_js() {\n    \n    if ((root.Bokeh !== undefined) || (force === true)) {\n      for (var i = 0; i < inline_js.length; i++) {\n        inline_js[i].call(root, root.Bokeh);\n      }if (force === true) {\n        display_loaded();\n      }} else if (Date.now() < root._bokeh_timeout) {\n      setTimeout(run_inline_js, 100);\n    } else if (!root._bokeh_failed_load) {\n      console.log(\"Bokeh: BokehJS failed to load within specified timeout.\");\n      root._bokeh_failed_load = true;\n    } else if (force !== true) {\n      var cell = $(document.getElementById(\"1001\")).parents('.cell').data().cell;\n      cell.output_area.append_execute_result(NB_LOAD_WARNING)\n    }\n\n  }\n\n  if (root._bokeh_is_loading === 0) {\n    console.debug(\"Bokeh: BokehJS loaded, going straight to plotting\");\n    run_inline_js();\n  } else {\n    load_libs(css_urls, js_urls, function() {\n      console.debug(\"Bokeh: BokehJS plotting callback run at\", now());\n      run_inline_js();\n    });\n  }\n}(window));"
     },
     "metadata": {},
     "output_type": "display_data"
    }
   ],
   "source": [
    "output_notebook()"
   ]
  },
  {
   "cell_type": "markdown",
   "metadata": {},
   "source": [
    "# Load the trading data and create a currency portfolio"
   ]
  },
  {
   "cell_type": "code",
   "execution_count": 5,
   "metadata": {},
   "outputs": [],
   "source": [
    "portfolio_id = \"Manu's winter portfolio\"\n",
    "symbol_names = []\n",
    "timeframes = [Timeframes.M15, Timeframes.D1]\n",
    "\n",
    "dataSource =  \"MQL5\"  # Hanseatic  FxPro GCI Yahoo\n",
    "[storage_folder, updates_folder] = ul.get_foldersData(source = dataSource, rrf = \"../../../\" )\n",
    "folder_images = \"./images/python_generated/currencies/\"\n",
    "\n",
    "portfolio = Portfolio(portfolio_id, symbol_names, timeframes)\n",
    "symbols_properties_df = Symbol.load_symbols_properties_csv(storage_folder)\n",
    "all_symbol_names = symbols_properties_df.index.to_list()\n",
    "\n",
    "## Empty portfolio for getting the desired available exchanges\n",
    "all_portfolio = Portfolio(\"all currencies\", all_symbol_names, [])\n",
    "\n",
    "currency = \"CHF\"\n",
    "symbol_names = all_portfolio.get_related_forex_currencies(currency)\n",
    "\n",
    "portfolio = Portfolio(\"CHF related currencies\", symbol_names, timeframes)\n",
    "portfolio.load_data_from_csv(storage_folder)\n",
    "\n",
    "start_time = dt.datetime(2019,7,20); end_time = dt.datetime(2019,7,25)\n",
    "portfolio.set_time_interval(start_time,end_time)\n",
    "\n",
    "currencies_df = portfolio.map_timeframe(timeframe = Timeframes.M15, method_name = \"series\", name = \"Close\")"
   ]
  },
  {
   "cell_type": "code",
   "execution_count": 6,
   "metadata": {},
   "outputs": [
    {
     "name": "stdout",
     "output_type": "stream",
     "text": [
      "Loaded currencies: ['USDCHF', 'AUDCHF', 'CADCHF', 'CHFJPY', 'EURCHF', 'GBPCHF', 'NZDCHF']\n"
     ]
    }
   ],
   "source": [
    "print (\"Loaded currencies:\", symbol_names)"
   ]
  },
  {
   "cell_type": "markdown",
   "metadata": {},
   "source": [
    "## Bokeh styling functions\n"
   ]
  },
  {
   "cell_type": "code",
   "execution_count": 7,
   "metadata": {},
   "outputs": [],
   "source": [
    "def set_title(p, text, color = \"olive\", font = \"times\",style = \"italic\",size = \"30px\" ):\n",
    "    t = Title()\n",
    "    t.text = text\n",
    "    t.text_color = color\n",
    "    t.text_font = font\n",
    "    t.text_font_style = style\n",
    "    t.text_font_size = size\n",
    "    \n",
    "    p.title = t\n",
    "\n",
    "def set_background(p, color):\n",
    "    p.background_fill_color = color"
   ]
  },
  {
   "cell_type": "markdown",
   "metadata": {},
   "source": [
    "# Hover tool!"
   ]
  },
  {
   "cell_type": "code",
   "execution_count": 8,
   "metadata": {},
   "outputs": [],
   "source": [
    "# Easy not used in the end options\n",
    "hover = HoverTool(\n",
    "        tooltips=[\n",
    "            (\"index\", \"$index\"),\n",
    "            (\"(x,y)\", \"($x, $y)\"),\n",
    "            (\"currency\", \"@currency\"),\n",
    "        ]\n",
    "    )"
   ]
  },
  {
   "cell_type": "code",
   "execution_count": 9,
   "metadata": {},
   "outputs": [],
   "source": [
    "hover = HoverTool(\n",
    "        tooltips=\"\"\"\n",
    "        <div>\n",
    "            <div>\n",
    "                <span style=\"font-size: 17px; font-weight: bold;\">@desc_left</span>\n",
    "                <span style=\"font-size: 15px; color: #966;\">[$index]/span>\n",
    "            </div>\n",
    "            <div>\n",
    "                <span style=\"font-size: 15px;\">Location</span>\n",
    "                <span style=\"font-size: 10px; color: #696;\">(@timestamp, $y)</span>\n",
    "            </div>\n",
    "        </div>\n",
    "        \"\"\"\n",
    "    )"
   ]
  },
  {
   "cell_type": "markdown",
   "metadata": {},
   "source": [
    "# Configuration of the Figure options:"
   ]
  },
  {
   "cell_type": "code",
   "execution_count": 10,
   "metadata": {},
   "outputs": [],
   "source": [
    "width, height = 400, 300\n",
    "x_axis_type=\"datetime\" # datetime\n",
    "toolbar_location = \"above\"\n",
    "tools = [\"pan,wheel_zoom,box_zoom,reset, box_select\"]\n",
    "\n",
    "background_color = \"black\"\n",
    "line_color = \"white\""
   ]
  },
  {
   "cell_type": "markdown",
   "metadata": {},
   "source": [
    "### Design column data for placing more cleverly"
   ]
  },
  {
   "cell_type": "code",
   "execution_count": 11,
   "metadata": {},
   "outputs": [],
   "source": [
    "timestamps = currencies_df.index\n",
    "values = currencies_df[\"USDCHF\"]\n",
    "values2 = currencies_df[\"AUDCHF\"]\n",
    "\n",
    "source_left = ColumnDataSource(\n",
    "    data = dict(\n",
    "        x =  timestamps,\n",
    "        y = values,\n",
    "        currency = [values.name] * timestamps.size,\n",
    "        timestamp = timestamps.strftime('%B %d, %Y, %r')\n",
    "    ),\n",
    "    name = values.name\n",
    ")\n",
    "\n",
    "source_right = ColumnDataSource(\n",
    "    data = dict(\n",
    "        x =  timestamps,\n",
    "        y = values2,\n",
    "        currency = [values2.name] * timestamps.size,\n",
    "        timestamp = timestamps.strftime('%B %d, %Y, %r')\n",
    "    ),\n",
    "    name = values2.name\n",
    ")\n",
    "\n",
    "source_all = ColumnDataSource(\n",
    "    data = dict(\n",
    "        x =  timestamps,\n",
    "        y_left = values,\n",
    "        y_left_original = values,\n",
    "        y_right = values2,\n",
    "        desc_left = [values.name] * timestamps.size,\n",
    "        desc_right = [values2.name] * timestamps.size,\n",
    "        timestamp = timestamps.strftime('%B %d, %Y, %r')\n",
    "    ),\n",
    "    name = values2.name\n",
    ")\n"
   ]
  },
  {
   "cell_type": "markdown",
   "metadata": {},
   "source": [
    "# Plot this shit\n",
    "\n",
    "Let us select the range explicitly because Bokeh has bugs on it."
   ]
  },
  {
   "cell_type": "code",
   "execution_count": 12,
   "metadata": {},
   "outputs": [],
   "source": [
    "y_range = (np.min(values), np.max(values))\n",
    "p_left = figure(plot_width = width, plot_height=height, tools = tools,\n",
    "             x_axis_type=x_axis_type, toolbar_location=toolbar_location,\n",
    "                  x_range=(timestamps[0], timestamps[100]),\n",
    "               y_range=y_range)\n",
    "\n",
    "# Make them share the x_range for theRange tool\n",
    "p_right = figure(plot_width = width, plot_height=height, tools = tools,\n",
    "             x_axis_type=x_axis_type, toolbar_location=toolbar_location,\n",
    "                  x_range= p_left.x_range)\n",
    "\n",
    "p_grid_list = [[p_left, p_right]]\n",
    "# output_file(\"circle.html\")"
   ]
  },
  {
   "cell_type": "code",
   "execution_count": 13,
   "metadata": {},
   "outputs": [
    {
     "data": {
      "text/plain": [
       "(0.98049, 0.99137)"
      ]
     },
     "execution_count": 13,
     "metadata": {},
     "output_type": "execute_result"
    }
   ],
   "source": [
    "y_range"
   ]
  },
  {
   "cell_type": "code",
   "execution_count": 14,
   "metadata": {},
   "outputs": [],
   "source": [
    "if 0:\n",
    "    p_left.scatter(\"x\", \"y\",\n",
    "             color=line_color, line_width=1,\n",
    "             legend= source_left.name, source = source_left)\n",
    "\n",
    "    p_right.scatter(\"x\", \"y\",\n",
    "             color=line_color, line_width=1,\n",
    "             legend= source_right.name, source = source_right)\n",
    "else:\n",
    "    \"\"\" SHARED SELECTION \"\"\"\n",
    "    drawings_1 = p_left.scatter(\"x\", \"y_left\",\n",
    "             color=line_color, line_width=1,\n",
    "             legend= source_left.name, source = source_all)\n",
    "    if 1:\n",
    "        caca = p_left.scatter(\"x\", \"y_left_original\",\n",
    "                 color=\"blue\", line_width=1,\n",
    "                 legend= source_left.name, source = source_all)\n",
    "        # p_left.y_range.renderers = [drawings_1, caca]\n",
    "        \n",
    "    p_right.scatter(\"x\", \"y_right\",\n",
    "             color=line_color, line_width=1,\n",
    "             legend= source_right.name, source = source_all)"
   ]
  },
  {
   "cell_type": "code",
   "execution_count": 15,
   "metadata": {},
   "outputs": [],
   "source": [
    "# fig.xaxis[0].formatter = DatetimeTickFormatter()\n",
    "for p_row in p_grid_list:\n",
    "    for p in p_row:\n",
    "        set_title(p, \"Basic showing of the currency\", size = \"20px\")\n",
    "        set_background(p,background_color)"
   ]
  },
  {
   "cell_type": "markdown",
   "metadata": {},
   "source": [
    "## Range tool\n",
    "\n",
    "We add a new plot to which we will add the RangeTool. In the plot we give the x_range object of the chart we want to modify.\n",
    "- original_p.x_range neded.\n",
    "- We also share the x_range accross differen plots by giving it as a parameter in Figure() function."
   ]
  },
  {
   "cell_type": "code",
   "execution_count": 16,
   "metadata": {},
   "outputs": [],
   "source": [
    "p_range_tool = figure(title=\"Drag the middle and edges of the selection box to change the range above\",\n",
    "                plot_height=130, plot_width=width, y_range=p_left.y_range,\n",
    "                x_axis_type=\"datetime\", y_axis_type=None,\n",
    "                tools=\"\", toolbar_location=None, background_fill_color=\"#efefef\")\n",
    "\n",
    "range_tool = RangeTool(x_range=p_left.x_range)\n",
    "range_tool.overlay.fill_color = \"navy\"\n",
    "range_tool.overlay.fill_alpha = 0.2\n",
    "\n",
    "p_range_tool.line('x', 'y_left', source=source_all)\n",
    "p_range_tool.ygrid.grid_line_color = None\n",
    "p_range_tool.add_tools(range_tool)\n",
    "p_range_tool.toolbar.active_multi = range_tool\n"
   ]
  },
  {
   "cell_type": "markdown",
   "metadata": {},
   "source": [
    "Slider\n",
    "\n",
    "We can add an Slider that is going to include a JS funct that will redraw the plot when triggered. For that we need to:\n",
    " - Create the Slider object: \n",
    " - callback function that will be called when the Slider is changed\n",
    " - appending the callback to the slider "
   ]
  },
  {
   "cell_type": "code",
   "execution_count": 17,
   "metadata": {},
   "outputs": [],
   "source": [
    "amp_slider = Slider(start=0.1, end=10, value=1, step=.1, title=\"Amplitude\")\n",
    "\n",
    "callback = CustomJS(args=dict(source=source_all,\n",
    "                              amp = amp_slider),\n",
    "                    code=\"\"\"\n",
    "    const data = source.data;\n",
    "    const A = amp.value;\n",
    "    const x = data['x'];\n",
    "    const y_original = data['y_left_original'];\n",
    "    const y = data['y_left'];\n",
    "    \n",
    "    var mean = 0.0;\n",
    "    for (var i = 0; i < x.length; i++) {\n",
    "        mean += y_original[i];\n",
    "    }\n",
    "    mean = mean/x.length;\n",
    "    for (var i = 0; i < x.length; i++) {\n",
    "        y[i] = (y_original[i] - mean)*A + mean;\n",
    "    }\n",
    "            \n",
    "    source.change.emit();\n",
    "\"\"\")\n",
    "\n",
    "amp_slider.js_on_change('value', callback)"
   ]
  },
  {
   "cell_type": "markdown",
   "metadata": {},
   "source": [
    "# Select Tool!"
   ]
  },
  {
   "cell_type": "code",
   "execution_count": 18,
   "metadata": {},
   "outputs": [],
   "source": [
    "if 0:\n",
    "    select_tool = p.select(dict(type=BoxSelectTool))[0]\n",
    "\n",
    "    source.callback = CustomJS(args=dict(p=p), code=\"\"\"\n",
    "            var inds = cb_obj.get('selected')['1d'].indices;\n",
    "            var d1 = cb_obj.get('data');\n",
    "            console.log(d1)\n",
    "            var kernel = IPython.notebook.kernel;\n",
    "            IPython.notebook.kernel.execute(\"inds = \" + inds);\n",
    "            \"\"\"\n",
    "    )\n",
    "inds =\"\""
   ]
  },
  {
   "cell_type": "code",
   "execution_count": 19,
   "metadata": {},
   "outputs": [
    {
     "data": {
      "text/html": [
       "\n",
       "\n",
       "\n",
       "\n",
       "\n",
       "\n",
       "  <div class=\"bk-root\" id=\"7b964edb-cde2-43a2-bbf0-00a322d548c3\" data-root-id=\"1179\"></div>\n"
      ]
     },
     "metadata": {},
     "output_type": "display_data"
    },
    {
     "data": {
      "application/javascript": [
       "(function(root) {\n",
       "  function embed_document(root) {\n",
       "    \n",
       "  var docs_json = {\"c6cdbbc3-1dec-4a56-b825-2fcc514c81f5\":{\"roots\":{\"references\":[{\"attributes\":{\"children\":[[{\"id\":\"1007\",\"subtype\":\"Figure\",\"type\":\"Plot\"},0,0,1,1],[{\"id\":\"1037\",\"subtype\":\"Figure\",\"type\":\"Plot\"},0,1,1,1],[{\"id\":\"1151\",\"subtype\":\"Figure\",\"type\":\"Plot\"},1,0,1,1],[{\"id\":\"1177\",\"type\":\"Slider\"},1,1,1,1]]},\"id\":\"1179\",\"type\":\"GridBox\"},{\"attributes\":{},\"id\":\"1055\",\"type\":\"PanTool\"},{\"attributes\":{\"months\":[0,2,4,6,8,10]},\"id\":\"1141\",\"type\":\"MonthsTicker\"},{\"attributes\":{\"months\":[0,4,8]},\"id\":\"1142\",\"type\":\"MonthsTicker\"},{\"attributes\":{\"months\":[0,6]},\"id\":\"1143\",\"type\":\"MonthsTicker\"},{\"attributes\":{\"fill_color\":{\"value\":\"blue\"},\"line_color\":{\"value\":\"blue\"},\"x\":{\"field\":\"x\"},\"y\":{\"field\":\"y_left_original\"}},\"id\":\"1094\",\"type\":\"Scatter\"},{\"attributes\":{},\"id\":\"1144\",\"type\":\"YearsTicker\"},{\"attributes\":{},\"id\":\"1192\",\"type\":\"DatetimeTickFormatter\"},{\"attributes\":{\"months\":[0,4,8]},\"id\":\"1233\",\"type\":\"MonthsTicker\"},{\"attributes\":{\"background_fill_color\":{\"value\":\"#efefef\"},\"below\":[{\"id\":\"1161\",\"type\":\"DatetimeAxis\"}],\"center\":[{\"id\":\"1165\",\"type\":\"Grid\"}],\"plot_height\":130,\"plot_width\":400,\"renderers\":[{\"id\":\"1173\",\"type\":\"GlyphRenderer\"}],\"title\":{\"id\":\"1152\",\"type\":\"Title\"},\"toolbar\":{\"id\":\"1166\",\"type\":\"Toolbar\"},\"toolbar_location\":null,\"x_range\":{\"id\":\"1154\",\"type\":\"DataRange1d\"},\"x_scale\":{\"id\":\"1157\",\"type\":\"LinearScale\"},\"y_range\":{\"id\":\"1010\",\"type\":\"Range1d\"},\"y_scale\":{\"id\":\"1159\",\"type\":\"LinearScale\"}},\"id\":\"1151\",\"subtype\":\"Figure\",\"type\":\"Plot\"},{\"attributes\":{\"callback\":null},\"id\":\"1154\",\"type\":\"DataRange1d\"},{\"attributes\":{\"text\":\"Drag the middle and edges of the selection box to change the range above\"},\"id\":\"1152\",\"type\":\"Title\"},{\"attributes\":{},\"id\":\"1159\",\"type\":\"LinearScale\"},{\"attributes\":{\"formatter\":{\"id\":\"1192\",\"type\":\"DatetimeTickFormatter\"},\"ticker\":{\"id\":\"1162\",\"type\":\"DatetimeTicker\"}},\"id\":\"1161\",\"type\":\"DatetimeAxis\"},{\"attributes\":{\"text\":\"Basic showing of the currency\",\"text_color\":{\"value\":\"olive\"},\"text_font\":\"times\",\"text_font_size\":{\"value\":\"20px\"},\"text_font_style\":\"italic\"},\"id\":\"1147\",\"type\":\"Title\"},{\"attributes\":{},\"id\":\"1157\",\"type\":\"LinearScale\"},{\"attributes\":{},\"id\":\"1051\",\"type\":\"BasicTicker\"},{\"attributes\":{},\"id\":\"1058\",\"type\":\"ResetTool\"},{\"attributes\":{\"text\":\"Basic showing of the currency\",\"text_color\":{\"value\":\"olive\"},\"text_font\":\"times\",\"text_font_size\":{\"value\":\"20px\"},\"text_font_style\":\"italic\"},\"id\":\"1149\",\"type\":\"Title\"},{\"attributes\":{\"overlay\":{\"id\":\"1168\",\"type\":\"BoxAnnotation\"},\"x_range\":{\"id\":\"1008\",\"type\":\"Range1d\"},\"y_range\":null},\"id\":\"1167\",\"type\":\"RangeTool\"},{\"attributes\":{\"num_minor_ticks\":5,\"tickers\":[{\"id\":\"1224\",\"type\":\"AdaptiveTicker\"},{\"id\":\"1225\",\"type\":\"AdaptiveTicker\"},{\"id\":\"1226\",\"type\":\"AdaptiveTicker\"},{\"id\":\"1227\",\"type\":\"DaysTicker\"},{\"id\":\"1228\",\"type\":\"DaysTicker\"},{\"id\":\"1229\",\"type\":\"DaysTicker\"},{\"id\":\"1230\",\"type\":\"DaysTicker\"},{\"id\":\"1231\",\"type\":\"MonthsTicker\"},{\"id\":\"1232\",\"type\":\"MonthsTicker\"},{\"id\":\"1233\",\"type\":\"MonthsTicker\"},{\"id\":\"1234\",\"type\":\"MonthsTicker\"},{\"id\":\"1235\",\"type\":\"YearsTicker\"}]},\"id\":\"1162\",\"type\":\"DatetimeTicker\"},{\"attributes\":{\"line_color\":\"#1f77b4\",\"x\":{\"field\":\"x\"},\"y\":{\"field\":\"y_left\"}},\"id\":\"1171\",\"type\":\"Line\"},{\"attributes\":{\"ticker\":{\"id\":\"1162\",\"type\":\"DatetimeTicker\"}},\"id\":\"1165\",\"type\":\"Grid\"},{\"attributes\":{\"overlay\":{\"id\":\"1131\",\"type\":\"BoxAnnotation\"}},\"id\":\"1057\",\"type\":\"BoxZoomTool\"},{\"attributes\":{},\"id\":\"1235\",\"type\":\"YearsTicker\"},{\"attributes\":{\"active_drag\":\"auto\",\"active_inspect\":\"auto\",\"active_multi\":{\"id\":\"1167\",\"type\":\"RangeTool\"},\"active_scroll\":\"auto\",\"active_tap\":\"auto\",\"tools\":[{\"id\":\"1167\",\"type\":\"RangeTool\"}]},\"id\":\"1166\",\"type\":\"Toolbar\"},{\"attributes\":{\"months\":[0,6]},\"id\":\"1234\",\"type\":\"MonthsTicker\"},{\"attributes\":{\"args\":{\"amp\":{\"id\":\"1177\",\"type\":\"Slider\"},\"source\":{\"id\":\"1006\",\"type\":\"ColumnDataSource\"}},\"code\":\"\\n    const data = source.data;\\n    const A = amp.value;\\n    const x = data['x'];\\n    const y_original = data['y_left_original'];\\n    const y = data['y_left'];\\n    \\n    var mean = 0.0;\\n    for (var i = 0; i < x.length; i++) {\\n        mean += y_original[i];\\n    }\\n    mean = mean/x.length;\\n    for (var i = 0; i < x.length; i++) {\\n        y[i] = (y_original[i] - mean)*A + mean;\\n    }\\n            \\n    source.change.emit();\\n\"},\"id\":\"1178\",\"type\":\"CustomJS\"},{\"attributes\":{\"months\":[0,1,2,3,4,5,6,7,8,9,10,11]},\"id\":\"1231\",\"type\":\"MonthsTicker\"},{\"attributes\":{\"callback\":null,\"overlay\":{\"id\":\"1132\",\"type\":\"BoxAnnotation\"}},\"id\":\"1059\",\"type\":\"BoxSelectTool\"},{\"attributes\":{\"days\":[1,2,3,4,5,6,7,8,9,10,11,12,13,14,15,16,17,18,19,20,21,22,23,24,25,26,27,28,29,30,31]},\"id\":\"1227\",\"type\":\"DaysTicker\"},{\"attributes\":{\"line_alpha\":0.1,\"line_color\":\"#1f77b4\",\"x\":{\"field\":\"x\"},\"y\":{\"field\":\"y_left\"}},\"id\":\"1172\",\"type\":\"Line\"},{\"attributes\":{\"months\":[0,2,4,6,8,10]},\"id\":\"1232\",\"type\":\"MonthsTicker\"},{\"attributes\":{\"source\":{\"id\":\"1006\",\"type\":\"ColumnDataSource\"}},\"id\":\"1174\",\"type\":\"CDSView\"},{\"attributes\":{},\"id\":\"1056\",\"type\":\"WheelZoomTool\"},{\"attributes\":{},\"id\":\"1041\",\"type\":\"LinearScale\"},{\"attributes\":{\"days\":[1,15]},\"id\":\"1230\",\"type\":\"DaysTicker\"},{\"attributes\":{\"data_source\":{\"id\":\"1006\",\"type\":\"ColumnDataSource\"},\"glyph\":{\"id\":\"1171\",\"type\":\"Line\"},\"hover_glyph\":null,\"muted_glyph\":null,\"nonselection_glyph\":{\"id\":\"1172\",\"type\":\"Line\"},\"selection_glyph\":null,\"view\":{\"id\":\"1174\",\"type\":\"CDSView\"}},\"id\":\"1173\",\"type\":\"GlyphRenderer\"},{\"attributes\":{\"dimension\":1,\"ticker\":{\"id\":\"1051\",\"type\":\"BasicTicker\"}},\"id\":\"1054\",\"type\":\"Grid\"},{\"attributes\":{\"days\":[1,4,7,10,13,16,19,22,25,28]},\"id\":\"1228\",\"type\":\"DaysTicker\"},{\"attributes\":{\"callback\":null,\"end\":10,\"js_property_callbacks\":{\"change:value\":[{\"id\":\"1178\",\"type\":\"CustomJS\"}]},\"start\":0.1,\"step\":0.1,\"title\":\"Amplitude\",\"value\":1},\"id\":\"1177\",\"type\":\"Slider\"},{\"attributes\":{\"fill_color\":{\"value\":\"white\"},\"line_color\":{\"value\":\"white\"},\"x\":{\"field\":\"x\"},\"y\":{\"field\":\"y_left\"}},\"id\":\"1067\",\"type\":\"Scatter\"},{\"attributes\":{\"active_drag\":\"auto\",\"active_inspect\":\"auto\",\"active_multi\":null,\"active_scroll\":\"auto\",\"active_tap\":\"auto\",\"tools\":[{\"id\":\"1055\",\"type\":\"PanTool\"},{\"id\":\"1056\",\"type\":\"WheelZoomTool\"},{\"id\":\"1057\",\"type\":\"BoxZoomTool\"},{\"id\":\"1058\",\"type\":\"ResetTool\"},{\"id\":\"1059\",\"type\":\"BoxSelectTool\"}]},\"id\":\"1060\",\"type\":\"Toolbar\"},{\"attributes\":{\"base\":24,\"mantissas\":[1,2,4,6,8,12],\"max_interval\":43200000.0,\"min_interval\":3600000.0,\"num_minor_ticks\":0},\"id\":\"1226\",\"type\":\"AdaptiveTicker\"},{\"attributes\":{\"mantissas\":[1,2,5],\"max_interval\":500.0,\"num_minor_ticks\":0},\"id\":\"1224\",\"type\":\"AdaptiveTicker\"},{\"attributes\":{\"base\":60,\"mantissas\":[1,2,5,10,15,20,30],\"max_interval\":1800000.0,\"min_interval\":1000.0,\"num_minor_ticks\":0},\"id\":\"1225\",\"type\":\"AdaptiveTicker\"},{\"attributes\":{\"num_minor_ticks\":5,\"tickers\":[{\"id\":\"1133\",\"type\":\"AdaptiveTicker\"},{\"id\":\"1134\",\"type\":\"AdaptiveTicker\"},{\"id\":\"1135\",\"type\":\"AdaptiveTicker\"},{\"id\":\"1136\",\"type\":\"DaysTicker\"},{\"id\":\"1137\",\"type\":\"DaysTicker\"},{\"id\":\"1138\",\"type\":\"DaysTicker\"},{\"id\":\"1139\",\"type\":\"DaysTicker\"},{\"id\":\"1140\",\"type\":\"MonthsTicker\"},{\"id\":\"1141\",\"type\":\"MonthsTicker\"},{\"id\":\"1142\",\"type\":\"MonthsTicker\"},{\"id\":\"1143\",\"type\":\"MonthsTicker\"},{\"id\":\"1144\",\"type\":\"YearsTicker\"}]},\"id\":\"1046\",\"type\":\"DatetimeTicker\"},{\"attributes\":{\"days\":[1,8,15,22]},\"id\":\"1229\",\"type\":\"DaysTicker\"},{\"attributes\":{},\"id\":\"1026\",\"type\":\"PanTool\"},{\"attributes\":{\"bottom_units\":\"screen\",\"fill_alpha\":{\"value\":0.5},\"fill_color\":{\"value\":\"lightgrey\"},\"left_units\":\"screen\",\"level\":\"overlay\",\"line_alpha\":{\"value\":1.0},\"line_color\":{\"value\":\"black\"},\"line_dash\":[4,4],\"line_width\":{\"value\":2},\"render_mode\":\"css\",\"right_units\":\"screen\",\"top_units\":\"screen\"},\"id\":\"1132\",\"type\":\"BoxAnnotation\"},{\"attributes\":{\"items\":[{\"id\":\"1146\",\"type\":\"LegendItem\"}]},\"id\":\"1145\",\"type\":\"Legend\"},{\"attributes\":{\"bottom_units\":\"screen\",\"fill_alpha\":{\"value\":0.5},\"fill_color\":{\"value\":\"lightgrey\"},\"left_units\":\"screen\",\"level\":\"overlay\",\"line_alpha\":{\"value\":1.0},\"line_color\":{\"value\":\"black\"},\"line_dash\":[4,4],\"line_width\":{\"value\":2},\"render_mode\":\"css\",\"right_units\":\"screen\",\"top_units\":\"screen\"},\"id\":\"1077\",\"type\":\"BoxAnnotation\"},{\"attributes\":{\"label\":{\"value\":\"AUDCHF\"},\"renderers\":[{\"id\":\"1123\",\"type\":\"GlyphRenderer\"}]},\"id\":\"1146\",\"type\":\"LegendItem\"},{\"attributes\":{\"months\":[0,1,2,3,4,5,6,7,8,9,10,11]},\"id\":\"1086\",\"type\":\"MonthsTicker\"},{\"attributes\":{},\"id\":\"1128\",\"type\":\"DatetimeTickFormatter\"},{\"attributes\":{\"fill_color\":{\"value\":\"white\"},\"line_color\":{\"value\":\"white\"},\"x\":{\"field\":\"x\"},\"y\":{\"field\":\"y_right\"}},\"id\":\"1121\",\"type\":\"Scatter\"},{\"attributes\":{\"days\":[1,15]},\"id\":\"1085\",\"type\":\"DaysTicker\"},{\"attributes\":{\"data_source\":{\"id\":\"1006\",\"type\":\"ColumnDataSource\"},\"glyph\":{\"id\":\"1121\",\"type\":\"Scatter\"},\"hover_glyph\":null,\"muted_glyph\":null,\"nonselection_glyph\":{\"id\":\"1122\",\"type\":\"Scatter\"},\"selection_glyph\":null,\"view\":{\"id\":\"1124\",\"type\":\"CDSView\"}},\"id\":\"1123\",\"type\":\"GlyphRenderer\"},{\"attributes\":{\"callback\":null,\"end\":0.99137,\"start\":0.98049},\"id\":\"1010\",\"type\":\"Range1d\"},{\"attributes\":{\"base\":60,\"mantissas\":[1,2,5,10,15,20,30],\"max_interval\":1800000.0,\"min_interval\":1000.0,\"num_minor_ticks\":0},\"id\":\"1080\",\"type\":\"AdaptiveTicker\"},{\"attributes\":{\"callback\":null,\"end\":1563843600000.0,\"start\":1563753600000.0},\"id\":\"1008\",\"type\":\"Range1d\"},{\"attributes\":{\"fill_alpha\":{\"value\":0.1},\"fill_color\":{\"value\":\"#1f77b4\"},\"line_alpha\":{\"value\":0.1},\"line_color\":{\"value\":\"#1f77b4\"},\"x\":{\"field\":\"x\"},\"y\":{\"field\":\"y_right\"}},\"id\":\"1122\",\"type\":\"Scatter\"},{\"attributes\":{\"days\":[1,2,3,4,5,6,7,8,9,10,11,12,13,14,15,16,17,18,19,20,21,22,23,24,25,26,27,28,29,30,31]},\"id\":\"1082\",\"type\":\"DaysTicker\"},{\"attributes\":{\"formatter\":{\"id\":\"1130\",\"type\":\"BasicTickFormatter\"},\"ticker\":{\"id\":\"1051\",\"type\":\"BasicTicker\"}},\"id\":\"1050\",\"type\":\"LinearAxis\"},{\"attributes\":{},\"id\":\"1107\",\"type\":\"Selection\"},{\"attributes\":{\"formatter\":{\"id\":\"1128\",\"type\":\"DatetimeTickFormatter\"},\"ticker\":{\"id\":\"1046\",\"type\":\"DatetimeTicker\"}},\"id\":\"1045\",\"type\":\"DatetimeAxis\"},{\"attributes\":{},\"id\":\"1106\",\"type\":\"UnionRenderers\"},{\"attributes\":{\"base\":24,\"mantissas\":[1,2,4,6,8,12],\"max_interval\":43200000.0,\"min_interval\":3600000.0,\"num_minor_ticks\":0},\"id\":\"1081\",\"type\":\"AdaptiveTicker\"},{\"attributes\":{},\"id\":\"1029\",\"type\":\"ResetTool\"},{\"attributes\":{\"callback\":null,\"data\":{\"desc_left\":[\"USDCHF\",\"USDCHF\",\"USDCHF\",\"USDCHF\",\"USDCHF\",\"USDCHF\",\"USDCHF\",\"USDCHF\",\"USDCHF\",\"USDCHF\",\"USDCHF\",\"USDCHF\",\"USDCHF\",\"USDCHF\",\"USDCHF\",\"USDCHF\",\"USDCHF\",\"USDCHF\",\"USDCHF\",\"USDCHF\",\"USDCHF\",\"USDCHF\",\"USDCHF\",\"USDCHF\",\"USDCHF\",\"USDCHF\",\"USDCHF\",\"USDCHF\",\"USDCHF\",\"USDCHF\",\"USDCHF\",\"USDCHF\",\"USDCHF\",\"USDCHF\",\"USDCHF\",\"USDCHF\",\"USDCHF\",\"USDCHF\",\"USDCHF\",\"USDCHF\",\"USDCHF\",\"USDCHF\",\"USDCHF\",\"USDCHF\",\"USDCHF\",\"USDCHF\",\"USDCHF\",\"USDCHF\",\"USDCHF\",\"USDCHF\",\"USDCHF\",\"USDCHF\",\"USDCHF\",\"USDCHF\",\"USDCHF\",\"USDCHF\",\"USDCHF\",\"USDCHF\",\"USDCHF\",\"USDCHF\",\"USDCHF\",\"USDCHF\",\"USDCHF\",\"USDCHF\",\"USDCHF\",\"USDCHF\",\"USDCHF\",\"USDCHF\",\"USDCHF\",\"USDCHF\",\"USDCHF\",\"USDCHF\",\"USDCHF\",\"USDCHF\",\"USDCHF\",\"USDCHF\",\"USDCHF\",\"USDCHF\",\"USDCHF\",\"USDCHF\",\"USDCHF\",\"USDCHF\",\"USDCHF\",\"USDCHF\",\"USDCHF\",\"USDCHF\",\"USDCHF\",\"USDCHF\",\"USDCHF\",\"USDCHF\",\"USDCHF\",\"USDCHF\",\"USDCHF\",\"USDCHF\",\"USDCHF\",\"USDCHF\",\"USDCHF\",\"USDCHF\",\"USDCHF\",\"USDCHF\",\"USDCHF\",\"USDCHF\",\"USDCHF\",\"USDCHF\",\"USDCHF\",\"USDCHF\",\"USDCHF\",\"USDCHF\",\"USDCHF\",\"USDCHF\",\"USDCHF\",\"USDCHF\",\"USDCHF\",\"USDCHF\",\"USDCHF\",\"USDCHF\",\"USDCHF\",\"USDCHF\",\"USDCHF\",\"USDCHF\",\"USDCHF\",\"USDCHF\",\"USDCHF\",\"USDCHF\",\"USDCHF\",\"USDCHF\",\"USDCHF\",\"USDCHF\",\"USDCHF\",\"USDCHF\",\"USDCHF\",\"USDCHF\",\"USDCHF\",\"USDCHF\",\"USDCHF\",\"USDCHF\",\"USDCHF\",\"USDCHF\",\"USDCHF\",\"USDCHF\",\"USDCHF\",\"USDCHF\",\"USDCHF\",\"USDCHF\",\"USDCHF\",\"USDCHF\",\"USDCHF\",\"USDCHF\",\"USDCHF\",\"USDCHF\",\"USDCHF\",\"USDCHF\",\"USDCHF\",\"USDCHF\",\"USDCHF\",\"USDCHF\",\"USDCHF\",\"USDCHF\",\"USDCHF\",\"USDCHF\",\"USDCHF\",\"USDCHF\",\"USDCHF\",\"USDCHF\",\"USDCHF\",\"USDCHF\",\"USDCHF\",\"USDCHF\",\"USDCHF\",\"USDCHF\",\"USDCHF\",\"USDCHF\",\"USDCHF\",\"USDCHF\",\"USDCHF\",\"USDCHF\",\"USDCHF\",\"USDCHF\",\"USDCHF\",\"USDCHF\",\"USDCHF\",\"USDCHF\",\"USDCHF\",\"USDCHF\",\"USDCHF\",\"USDCHF\",\"USDCHF\",\"USDCHF\",\"USDCHF\",\"USDCHF\",\"USDCHF\",\"USDCHF\",\"USDCHF\",\"USDCHF\",\"USDCHF\",\"USDCHF\",\"USDCHF\",\"USDCHF\",\"USDCHF\",\"USDCHF\",\"USDCHF\",\"USDCHF\",\"USDCHF\",\"USDCHF\",\"USDCHF\",\"USDCHF\",\"USDCHF\",\"USDCHF\",\"USDCHF\",\"USDCHF\",\"USDCHF\",\"USDCHF\",\"USDCHF\",\"USDCHF\",\"USDCHF\",\"USDCHF\",\"USDCHF\",\"USDCHF\",\"USDCHF\",\"USDCHF\",\"USDCHF\",\"USDCHF\",\"USDCHF\",\"USDCHF\",\"USDCHF\",\"USDCHF\",\"USDCHF\",\"USDCHF\",\"USDCHF\",\"USDCHF\",\"USDCHF\",\"USDCHF\",\"USDCHF\",\"USDCHF\",\"USDCHF\",\"USDCHF\",\"USDCHF\",\"USDCHF\",\"USDCHF\",\"USDCHF\",\"USDCHF\",\"USDCHF\",\"USDCHF\",\"USDCHF\",\"USDCHF\",\"USDCHF\",\"USDCHF\",\"USDCHF\",\"USDCHF\",\"USDCHF\",\"USDCHF\",\"USDCHF\",\"USDCHF\",\"USDCHF\",\"USDCHF\",\"USDCHF\",\"USDCHF\",\"USDCHF\",\"USDCHF\",\"USDCHF\",\"USDCHF\",\"USDCHF\",\"USDCHF\",\"USDCHF\",\"USDCHF\",\"USDCHF\",\"USDCHF\",\"USDCHF\",\"USDCHF\",\"USDCHF\",\"USDCHF\",\"USDCHF\",\"USDCHF\",\"USDCHF\",\"USDCHF\",\"USDCHF\",\"USDCHF\",\"USDCHF\",\"USDCHF\",\"USDCHF\",\"USDCHF\",\"USDCHF\",\"USDCHF\",\"USDCHF\",\"USDCHF\",\"USDCHF\",\"USDCHF\",\"USDCHF\",\"USDCHF\",\"USDCHF\",\"USDCHF\",\"USDCHF\",\"USDCHF\",\"USDCHF\",\"USDCHF\",\"USDCHF\",\"USDCHF\",\"USDCHF\",\"USDCHF\",\"USDCHF\",\"USDCHF\",\"USDCHF\",\"USDCHF\",\"USDCHF\",\"USDCHF\",\"USDCHF\",\"USDCHF\",\"USDCHF\",\"USDCHF\",\"USDCHF\",\"USDCHF\",\"USDCHF\",\"USDCHF\",\"USDCHF\",\"USDCHF\",\"USDCHF\",\"USDCHF\",\"USDCHF\",\"USDCHF\",\"USDCHF\",\"USDCHF\",\"USDCHF\",\"USDCHF\",\"USDCHF\",\"USDCHF\",\"USDCHF\",\"USDCHF\",\"USDCHF\",\"USDCHF\",\"USDCHF\",\"USDCHF\",\"USDCHF\",\"USDCHF\",\"USDCHF\",\"USDCHF\",\"USDCHF\",\"USDCHF\",\"USDCHF\",\"USDCHF\",\"USDCHF\",\"USDCHF\",\"USDCHF\",\"USDCHF\",\"USDCHF\",\"USDCHF\",\"USDCHF\",\"USDCHF\",\"USDCHF\",\"USDCHF\",\"USDCHF\",\"USDCHF\",\"USDCHF\",\"USDCHF\",\"USDCHF\",\"USDCHF\",\"USDCHF\",\"USDCHF\",\"USDCHF\",\"USDCHF\",\"USDCHF\",\"USDCHF\",\"USDCHF\",\"USDCHF\",\"USDCHF\",\"USDCHF\",\"USDCHF\",\"USDCHF\",\"USDCHF\",\"USDCHF\",\"USDCHF\",\"USDCHF\",\"USDCHF\",\"USDCHF\",\"USDCHF\",\"USDCHF\",\"USDCHF\",\"USDCHF\",\"USDCHF\",\"USDCHF\",\"USDCHF\",\"USDCHF\",\"USDCHF\",\"USDCHF\",\"USDCHF\"],\"desc_right\":[\"AUDCHF\",\"AUDCHF\",\"AUDCHF\",\"AUDCHF\",\"AUDCHF\",\"AUDCHF\",\"AUDCHF\",\"AUDCHF\",\"AUDCHF\",\"AUDCHF\",\"AUDCHF\",\"AUDCHF\",\"AUDCHF\",\"AUDCHF\",\"AUDCHF\",\"AUDCHF\",\"AUDCHF\",\"AUDCHF\",\"AUDCHF\",\"AUDCHF\",\"AUDCHF\",\"AUDCHF\",\"AUDCHF\",\"AUDCHF\",\"AUDCHF\",\"AUDCHF\",\"AUDCHF\",\"AUDCHF\",\"AUDCHF\",\"AUDCHF\",\"AUDCHF\",\"AUDCHF\",\"AUDCHF\",\"AUDCHF\",\"AUDCHF\",\"AUDCHF\",\"AUDCHF\",\"AUDCHF\",\"AUDCHF\",\"AUDCHF\",\"AUDCHF\",\"AUDCHF\",\"AUDCHF\",\"AUDCHF\",\"AUDCHF\",\"AUDCHF\",\"AUDCHF\",\"AUDCHF\",\"AUDCHF\",\"AUDCHF\",\"AUDCHF\",\"AUDCHF\",\"AUDCHF\",\"AUDCHF\",\"AUDCHF\",\"AUDCHF\",\"AUDCHF\",\"AUDCHF\",\"AUDCHF\",\"AUDCHF\",\"AUDCHF\",\"AUDCHF\",\"AUDCHF\",\"AUDCHF\",\"AUDCHF\",\"AUDCHF\",\"AUDCHF\",\"AUDCHF\",\"AUDCHF\",\"AUDCHF\",\"AUDCHF\",\"AUDCHF\",\"AUDCHF\",\"AUDCHF\",\"AUDCHF\",\"AUDCHF\",\"AUDCHF\",\"AUDCHF\",\"AUDCHF\",\"AUDCHF\",\"AUDCHF\",\"AUDCHF\",\"AUDCHF\",\"AUDCHF\",\"AUDCHF\",\"AUDCHF\",\"AUDCHF\",\"AUDCHF\",\"AUDCHF\",\"AUDCHF\",\"AUDCHF\",\"AUDCHF\",\"AUDCHF\",\"AUDCHF\",\"AUDCHF\",\"AUDCHF\",\"AUDCHF\",\"AUDCHF\",\"AUDCHF\",\"AUDCHF\",\"AUDCHF\",\"AUDCHF\",\"AUDCHF\",\"AUDCHF\",\"AUDCHF\",\"AUDCHF\",\"AUDCHF\",\"AUDCHF\",\"AUDCHF\",\"AUDCHF\",\"AUDCHF\",\"AUDCHF\",\"AUDCHF\",\"AUDCHF\",\"AUDCHF\",\"AUDCHF\",\"AUDCHF\",\"AUDCHF\",\"AUDCHF\",\"AUDCHF\",\"AUDCHF\",\"AUDCHF\",\"AUDCHF\",\"AUDCHF\",\"AUDCHF\",\"AUDCHF\",\"AUDCHF\",\"AUDCHF\",\"AUDCHF\",\"AUDCHF\",\"AUDCHF\",\"AUDCHF\",\"AUDCHF\",\"AUDCHF\",\"AUDCHF\",\"AUDCHF\",\"AUDCHF\",\"AUDCHF\",\"AUDCHF\",\"AUDCHF\",\"AUDCHF\",\"AUDCHF\",\"AUDCHF\",\"AUDCHF\",\"AUDCHF\",\"AUDCHF\",\"AUDCHF\",\"AUDCHF\",\"AUDCHF\",\"AUDCHF\",\"AUDCHF\",\"AUDCHF\",\"AUDCHF\",\"AUDCHF\",\"AUDCHF\",\"AUDCHF\",\"AUDCHF\",\"AUDCHF\",\"AUDCHF\",\"AUDCHF\",\"AUDCHF\",\"AUDCHF\",\"AUDCHF\",\"AUDCHF\",\"AUDCHF\",\"AUDCHF\",\"AUDCHF\",\"AUDCHF\",\"AUDCHF\",\"AUDCHF\",\"AUDCHF\",\"AUDCHF\",\"AUDCHF\",\"AUDCHF\",\"AUDCHF\",\"AUDCHF\",\"AUDCHF\",\"AUDCHF\",\"AUDCHF\",\"AUDCHF\",\"AUDCHF\",\"AUDCHF\",\"AUDCHF\",\"AUDCHF\",\"AUDCHF\",\"AUDCHF\",\"AUDCHF\",\"AUDCHF\",\"AUDCHF\",\"AUDCHF\",\"AUDCHF\",\"AUDCHF\",\"AUDCHF\",\"AUDCHF\",\"AUDCHF\",\"AUDCHF\",\"AUDCHF\",\"AUDCHF\",\"AUDCHF\",\"AUDCHF\",\"AUDCHF\",\"AUDCHF\",\"AUDCHF\",\"AUDCHF\",\"AUDCHF\",\"AUDCHF\",\"AUDCHF\",\"AUDCHF\",\"AUDCHF\",\"AUDCHF\",\"AUDCHF\",\"AUDCHF\",\"AUDCHF\",\"AUDCHF\",\"AUDCHF\",\"AUDCHF\",\"AUDCHF\",\"AUDCHF\",\"AUDCHF\",\"AUDCHF\",\"AUDCHF\",\"AUDCHF\",\"AUDCHF\",\"AUDCHF\",\"AUDCHF\",\"AUDCHF\",\"AUDCHF\",\"AUDCHF\",\"AUDCHF\",\"AUDCHF\",\"AUDCHF\",\"AUDCHF\",\"AUDCHF\",\"AUDCHF\",\"AUDCHF\",\"AUDCHF\",\"AUDCHF\",\"AUDCHF\",\"AUDCHF\",\"AUDCHF\",\"AUDCHF\",\"AUDCHF\",\"AUDCHF\",\"AUDCHF\",\"AUDCHF\",\"AUDCHF\",\"AUDCHF\",\"AUDCHF\",\"AUDCHF\",\"AUDCHF\",\"AUDCHF\",\"AUDCHF\",\"AUDCHF\",\"AUDCHF\",\"AUDCHF\",\"AUDCHF\",\"AUDCHF\",\"AUDCHF\",\"AUDCHF\",\"AUDCHF\",\"AUDCHF\",\"AUDCHF\",\"AUDCHF\",\"AUDCHF\",\"AUDCHF\",\"AUDCHF\",\"AUDCHF\",\"AUDCHF\",\"AUDCHF\",\"AUDCHF\",\"AUDCHF\",\"AUDCHF\",\"AUDCHF\",\"AUDCHF\",\"AUDCHF\",\"AUDCHF\",\"AUDCHF\",\"AUDCHF\",\"AUDCHF\",\"AUDCHF\",\"AUDCHF\",\"AUDCHF\",\"AUDCHF\",\"AUDCHF\",\"AUDCHF\",\"AUDCHF\",\"AUDCHF\",\"AUDCHF\",\"AUDCHF\",\"AUDCHF\",\"AUDCHF\",\"AUDCHF\",\"AUDCHF\",\"AUDCHF\",\"AUDCHF\",\"AUDCHF\",\"AUDCHF\",\"AUDCHF\",\"AUDCHF\",\"AUDCHF\",\"AUDCHF\",\"AUDCHF\",\"AUDCHF\",\"AUDCHF\",\"AUDCHF\",\"AUDCHF\",\"AUDCHF\",\"AUDCHF\",\"AUDCHF\",\"AUDCHF\",\"AUDCHF\",\"AUDCHF\",\"AUDCHF\",\"AUDCHF\",\"AUDCHF\",\"AUDCHF\",\"AUDCHF\",\"AUDCHF\",\"AUDCHF\",\"AUDCHF\",\"AUDCHF\",\"AUDCHF\",\"AUDCHF\",\"AUDCHF\",\"AUDCHF\",\"AUDCHF\",\"AUDCHF\",\"AUDCHF\",\"AUDCHF\",\"AUDCHF\",\"AUDCHF\",\"AUDCHF\",\"AUDCHF\",\"AUDCHF\",\"AUDCHF\",\"AUDCHF\",\"AUDCHF\",\"AUDCHF\",\"AUDCHF\",\"AUDCHF\",\"AUDCHF\",\"AUDCHF\",\"AUDCHF\",\"AUDCHF\",\"AUDCHF\",\"AUDCHF\",\"AUDCHF\",\"AUDCHF\",\"AUDCHF\",\"AUDCHF\",\"AUDCHF\",\"AUDCHF\",\"AUDCHF\",\"AUDCHF\",\"AUDCHF\",\"AUDCHF\",\"AUDCHF\",\"AUDCHF\",\"AUDCHF\",\"AUDCHF\",\"AUDCHF\",\"AUDCHF\",\"AUDCHF\",\"AUDCHF\",\"AUDCHF\",\"AUDCHF\",\"AUDCHF\",\"AUDCHF\",\"AUDCHF\",\"AUDCHF\",\"AUDCHF\",\"AUDCHF\",\"AUDCHF\",\"AUDCHF\",\"AUDCHF\",\"AUDCHF\",\"AUDCHF\",\"AUDCHF\",\"AUDCHF\",\"AUDCHF\",\"AUDCHF\",\"AUDCHF\",\"AUDCHF\",\"AUDCHF\"],\"timestamp\":[\"July 22, 2019, 12:00:00 AM\",\"July 22, 2019, 12:15:00 AM\",\"July 22, 2019, 12:30:00 AM\",\"July 22, 2019, 12:45:00 AM\",\"July 22, 2019, 01:00:00 AM\",\"July 22, 2019, 01:15:00 AM\",\"July 22, 2019, 01:30:00 AM\",\"July 22, 2019, 01:45:00 AM\",\"July 22, 2019, 02:00:00 AM\",\"July 22, 2019, 02:15:00 AM\",\"July 22, 2019, 02:30:00 AM\",\"July 22, 2019, 02:45:00 AM\",\"July 22, 2019, 03:00:00 AM\",\"July 22, 2019, 03:15:00 AM\",\"July 22, 2019, 03:30:00 AM\",\"July 22, 2019, 03:45:00 AM\",\"July 22, 2019, 04:00:00 AM\",\"July 22, 2019, 04:15:00 AM\",\"July 22, 2019, 04:30:00 AM\",\"July 22, 2019, 04:45:00 AM\",\"July 22, 2019, 05:00:00 AM\",\"July 22, 2019, 05:15:00 AM\",\"July 22, 2019, 05:30:00 AM\",\"July 22, 2019, 05:45:00 AM\",\"July 22, 2019, 06:00:00 AM\",\"July 22, 2019, 06:15:00 AM\",\"July 22, 2019, 06:30:00 AM\",\"July 22, 2019, 06:45:00 AM\",\"July 22, 2019, 07:00:00 AM\",\"July 22, 2019, 07:15:00 AM\",\"July 22, 2019, 07:30:00 AM\",\"July 22, 2019, 07:45:00 AM\",\"July 22, 2019, 08:00:00 AM\",\"July 22, 2019, 08:15:00 AM\",\"July 22, 2019, 08:30:00 AM\",\"July 22, 2019, 08:45:00 AM\",\"July 22, 2019, 09:00:00 AM\",\"July 22, 2019, 09:15:00 AM\",\"July 22, 2019, 09:30:00 AM\",\"July 22, 2019, 09:45:00 AM\",\"July 22, 2019, 10:00:00 AM\",\"July 22, 2019, 10:15:00 AM\",\"July 22, 2019, 10:30:00 AM\",\"July 22, 2019, 10:45:00 AM\",\"July 22, 2019, 11:00:00 AM\",\"July 22, 2019, 11:15:00 AM\",\"July 22, 2019, 11:30:00 AM\",\"July 22, 2019, 11:45:00 AM\",\"July 22, 2019, 12:00:00 PM\",\"July 22, 2019, 12:15:00 PM\",\"July 22, 2019, 12:30:00 PM\",\"July 22, 2019, 12:45:00 PM\",\"July 22, 2019, 01:00:00 PM\",\"July 22, 2019, 01:15:00 PM\",\"July 22, 2019, 01:30:00 PM\",\"July 22, 2019, 01:45:00 PM\",\"July 22, 2019, 02:00:00 PM\",\"July 22, 2019, 02:15:00 PM\",\"July 22, 2019, 02:30:00 PM\",\"July 22, 2019, 02:45:00 PM\",\"July 22, 2019, 03:00:00 PM\",\"July 22, 2019, 03:15:00 PM\",\"July 22, 2019, 03:30:00 PM\",\"July 22, 2019, 03:45:00 PM\",\"July 22, 2019, 04:00:00 PM\",\"July 22, 2019, 04:15:00 PM\",\"July 22, 2019, 04:30:00 PM\",\"July 22, 2019, 04:45:00 PM\",\"July 22, 2019, 05:00:00 PM\",\"July 22, 2019, 05:15:00 PM\",\"July 22, 2019, 05:30:00 PM\",\"July 22, 2019, 05:45:00 PM\",\"July 22, 2019, 06:00:00 PM\",\"July 22, 2019, 06:15:00 PM\",\"July 22, 2019, 06:30:00 PM\",\"July 22, 2019, 06:45:00 PM\",\"July 22, 2019, 07:00:00 PM\",\"July 22, 2019, 07:15:00 PM\",\"July 22, 2019, 07:30:00 PM\",\"July 22, 2019, 07:45:00 PM\",\"July 22, 2019, 08:00:00 PM\",\"July 22, 2019, 08:15:00 PM\",\"July 22, 2019, 08:30:00 PM\",\"July 22, 2019, 08:45:00 PM\",\"July 22, 2019, 09:00:00 PM\",\"July 22, 2019, 09:15:00 PM\",\"July 22, 2019, 09:30:00 PM\",\"July 22, 2019, 09:45:00 PM\",\"July 22, 2019, 10:00:00 PM\",\"July 22, 2019, 10:15:00 PM\",\"July 22, 2019, 10:30:00 PM\",\"July 22, 2019, 10:45:00 PM\",\"July 22, 2019, 11:00:00 PM\",\"July 22, 2019, 11:15:00 PM\",\"July 22, 2019, 11:30:00 PM\",\"July 22, 2019, 11:45:00 PM\",\"July 23, 2019, 12:00:00 AM\",\"July 23, 2019, 12:15:00 AM\",\"July 23, 2019, 12:30:00 AM\",\"July 23, 2019, 12:45:00 AM\",\"July 23, 2019, 01:00:00 AM\",\"July 23, 2019, 01:15:00 AM\",\"July 23, 2019, 01:30:00 AM\",\"July 23, 2019, 01:45:00 AM\",\"July 23, 2019, 02:00:00 AM\",\"July 23, 2019, 02:15:00 AM\",\"July 23, 2019, 02:30:00 AM\",\"July 23, 2019, 02:45:00 AM\",\"July 23, 2019, 03:00:00 AM\",\"July 23, 2019, 03:15:00 AM\",\"July 23, 2019, 03:30:00 AM\",\"July 23, 2019, 03:45:00 AM\",\"July 23, 2019, 04:00:00 AM\",\"July 23, 2019, 04:15:00 AM\",\"July 23, 2019, 04:30:00 AM\",\"July 23, 2019, 04:45:00 AM\",\"July 23, 2019, 05:00:00 AM\",\"July 23, 2019, 05:15:00 AM\",\"July 23, 2019, 05:30:00 AM\",\"July 23, 2019, 05:45:00 AM\",\"July 23, 2019, 06:00:00 AM\",\"July 23, 2019, 06:15:00 AM\",\"July 23, 2019, 06:30:00 AM\",\"July 23, 2019, 06:45:00 AM\",\"July 23, 2019, 07:00:00 AM\",\"July 23, 2019, 07:15:00 AM\",\"July 23, 2019, 07:30:00 AM\",\"July 23, 2019, 07:45:00 AM\",\"July 23, 2019, 08:00:00 AM\",\"July 23, 2019, 08:15:00 AM\",\"July 23, 2019, 08:30:00 AM\",\"July 23, 2019, 08:45:00 AM\",\"July 23, 2019, 09:00:00 AM\",\"July 23, 2019, 09:15:00 AM\",\"July 23, 2019, 09:30:00 AM\",\"July 23, 2019, 09:45:00 AM\",\"July 23, 2019, 10:00:00 AM\",\"July 23, 2019, 10:15:00 AM\",\"July 23, 2019, 10:30:00 AM\",\"July 23, 2019, 10:45:00 AM\",\"July 23, 2019, 11:00:00 AM\",\"July 23, 2019, 11:15:00 AM\",\"July 23, 2019, 11:30:00 AM\",\"July 23, 2019, 11:45:00 AM\",\"July 23, 2019, 12:00:00 PM\",\"July 23, 2019, 12:15:00 PM\",\"July 23, 2019, 12:30:00 PM\",\"July 23, 2019, 12:45:00 PM\",\"July 23, 2019, 01:00:00 PM\",\"July 23, 2019, 01:15:00 PM\",\"July 23, 2019, 01:30:00 PM\",\"July 23, 2019, 01:45:00 PM\",\"July 23, 2019, 02:00:00 PM\",\"July 23, 2019, 02:15:00 PM\",\"July 23, 2019, 02:30:00 PM\",\"July 23, 2019, 02:45:00 PM\",\"July 23, 2019, 03:00:00 PM\",\"July 23, 2019, 03:15:00 PM\",\"July 23, 2019, 03:30:00 PM\",\"July 23, 2019, 03:45:00 PM\",\"July 23, 2019, 04:00:00 PM\",\"July 23, 2019, 04:15:00 PM\",\"July 23, 2019, 04:30:00 PM\",\"July 23, 2019, 04:45:00 PM\",\"July 23, 2019, 05:00:00 PM\",\"July 23, 2019, 05:15:00 PM\",\"July 23, 2019, 05:30:00 PM\",\"July 23, 2019, 05:45:00 PM\",\"July 23, 2019, 06:00:00 PM\",\"July 23, 2019, 06:15:00 PM\",\"July 23, 2019, 06:30:00 PM\",\"July 23, 2019, 06:45:00 PM\",\"July 23, 2019, 07:00:00 PM\",\"July 23, 2019, 07:15:00 PM\",\"July 23, 2019, 07:30:00 PM\",\"July 23, 2019, 07:45:00 PM\",\"July 23, 2019, 08:00:00 PM\",\"July 23, 2019, 08:15:00 PM\",\"July 23, 2019, 08:30:00 PM\",\"July 23, 2019, 08:45:00 PM\",\"July 23, 2019, 09:00:00 PM\",\"July 23, 2019, 09:15:00 PM\",\"July 23, 2019, 09:30:00 PM\",\"July 23, 2019, 09:45:00 PM\",\"July 23, 2019, 10:00:00 PM\",\"July 23, 2019, 10:15:00 PM\",\"July 23, 2019, 10:30:00 PM\",\"July 23, 2019, 10:45:00 PM\",\"July 23, 2019, 11:00:00 PM\",\"July 23, 2019, 11:15:00 PM\",\"July 23, 2019, 11:30:00 PM\",\"July 23, 2019, 11:45:00 PM\",\"July 24, 2019, 12:00:00 AM\",\"July 24, 2019, 12:15:00 AM\",\"July 24, 2019, 12:30:00 AM\",\"July 24, 2019, 12:45:00 AM\",\"July 24, 2019, 01:00:00 AM\",\"July 24, 2019, 01:15:00 AM\",\"July 24, 2019, 01:30:00 AM\",\"July 24, 2019, 01:45:00 AM\",\"July 24, 2019, 02:00:00 AM\",\"July 24, 2019, 02:15:00 AM\",\"July 24, 2019, 02:30:00 AM\",\"July 24, 2019, 02:45:00 AM\",\"July 24, 2019, 03:00:00 AM\",\"July 24, 2019, 03:15:00 AM\",\"July 24, 2019, 03:30:00 AM\",\"July 24, 2019, 03:45:00 AM\",\"July 24, 2019, 04:00:00 AM\",\"July 24, 2019, 04:15:00 AM\",\"July 24, 2019, 04:30:00 AM\",\"July 24, 2019, 04:45:00 AM\",\"July 24, 2019, 05:00:00 AM\",\"July 24, 2019, 05:15:00 AM\",\"July 24, 2019, 05:30:00 AM\",\"July 24, 2019, 05:45:00 AM\",\"July 24, 2019, 06:00:00 AM\",\"July 24, 2019, 06:15:00 AM\",\"July 24, 2019, 06:30:00 AM\",\"July 24, 2019, 06:45:00 AM\",\"July 24, 2019, 07:00:00 AM\",\"July 24, 2019, 07:15:00 AM\",\"July 24, 2019, 07:30:00 AM\",\"July 24, 2019, 07:45:00 AM\",\"July 24, 2019, 08:00:00 AM\",\"July 24, 2019, 08:15:00 AM\",\"July 24, 2019, 08:30:00 AM\",\"July 24, 2019, 08:45:00 AM\",\"July 24, 2019, 09:00:00 AM\",\"July 24, 2019, 09:15:00 AM\",\"July 24, 2019, 09:30:00 AM\",\"July 24, 2019, 09:45:00 AM\",\"July 24, 2019, 10:00:00 AM\",\"July 24, 2019, 10:15:00 AM\",\"July 24, 2019, 10:30:00 AM\",\"July 24, 2019, 10:45:00 AM\",\"July 24, 2019, 11:00:00 AM\",\"July 24, 2019, 11:15:00 AM\",\"July 24, 2019, 11:30:00 AM\",\"July 24, 2019, 11:45:00 AM\",\"July 24, 2019, 12:00:00 PM\",\"July 24, 2019, 12:15:00 PM\",\"July 24, 2019, 12:30:00 PM\",\"July 24, 2019, 12:45:00 PM\",\"July 24, 2019, 01:00:00 PM\",\"July 24, 2019, 01:15:00 PM\",\"July 24, 2019, 01:30:00 PM\",\"July 24, 2019, 01:45:00 PM\",\"July 24, 2019, 02:00:00 PM\",\"July 24, 2019, 02:15:00 PM\",\"July 24, 2019, 02:30:00 PM\",\"July 24, 2019, 02:45:00 PM\",\"July 24, 2019, 03:00:00 PM\",\"July 24, 2019, 03:15:00 PM\",\"July 24, 2019, 03:30:00 PM\",\"July 24, 2019, 03:45:00 PM\",\"July 24, 2019, 04:00:00 PM\",\"July 24, 2019, 04:15:00 PM\",\"July 24, 2019, 04:30:00 PM\",\"July 24, 2019, 04:45:00 PM\",\"July 24, 2019, 05:00:00 PM\",\"July 24, 2019, 05:15:00 PM\",\"July 24, 2019, 05:30:00 PM\",\"July 24, 2019, 05:45:00 PM\",\"July 24, 2019, 06:00:00 PM\",\"July 24, 2019, 06:15:00 PM\",\"July 24, 2019, 06:30:00 PM\",\"July 24, 2019, 06:45:00 PM\",\"July 24, 2019, 07:00:00 PM\",\"July 24, 2019, 07:15:00 PM\",\"July 24, 2019, 07:30:00 PM\",\"July 24, 2019, 07:45:00 PM\",\"July 24, 2019, 08:00:00 PM\",\"July 24, 2019, 08:15:00 PM\",\"July 24, 2019, 08:30:00 PM\",\"July 24, 2019, 08:45:00 PM\",\"July 24, 2019, 09:00:00 PM\",\"July 24, 2019, 09:15:00 PM\",\"July 24, 2019, 09:30:00 PM\",\"July 24, 2019, 09:45:00 PM\",\"July 24, 2019, 10:00:00 PM\",\"July 24, 2019, 10:15:00 PM\",\"July 24, 2019, 10:30:00 PM\",\"July 24, 2019, 10:45:00 PM\",\"July 24, 2019, 11:00:00 PM\",\"July 24, 2019, 11:15:00 PM\",\"July 24, 2019, 11:30:00 PM\",\"July 24, 2019, 11:45:00 PM\",\"July 25, 2019, 12:00:00 AM\",\"July 25, 2019, 12:15:00 AM\",\"July 25, 2019, 12:30:00 AM\",\"July 25, 2019, 12:45:00 AM\",\"July 25, 2019, 01:00:00 AM\",\"July 25, 2019, 01:15:00 AM\",\"July 25, 2019, 01:30:00 AM\",\"July 25, 2019, 01:45:00 AM\",\"July 25, 2019, 02:00:00 AM\",\"July 25, 2019, 02:15:00 AM\",\"July 25, 2019, 02:30:00 AM\",\"July 25, 2019, 02:45:00 AM\",\"July 25, 2019, 03:00:00 AM\",\"July 25, 2019, 03:15:00 AM\",\"July 25, 2019, 03:30:00 AM\",\"July 25, 2019, 03:45:00 AM\",\"July 25, 2019, 04:00:00 AM\",\"July 25, 2019, 04:15:00 AM\",\"July 25, 2019, 04:30:00 AM\",\"July 25, 2019, 04:45:00 AM\",\"July 25, 2019, 05:00:00 AM\",\"July 25, 2019, 05:15:00 AM\",\"July 25, 2019, 05:30:00 AM\",\"July 25, 2019, 05:45:00 AM\",\"July 25, 2019, 06:00:00 AM\",\"July 25, 2019, 06:15:00 AM\",\"July 25, 2019, 06:30:00 AM\",\"July 25, 2019, 06:45:00 AM\",\"July 25, 2019, 07:00:00 AM\",\"July 25, 2019, 07:15:00 AM\",\"July 25, 2019, 07:30:00 AM\",\"July 25, 2019, 07:45:00 AM\",\"July 25, 2019, 08:00:00 AM\",\"July 25, 2019, 08:15:00 AM\",\"July 25, 2019, 08:30:00 AM\",\"July 25, 2019, 08:45:00 AM\",\"July 25, 2019, 09:00:00 AM\",\"July 25, 2019, 09:15:00 AM\",\"July 25, 2019, 09:30:00 AM\",\"July 25, 2019, 09:45:00 AM\",\"July 25, 2019, 10:00:00 AM\",\"July 25, 2019, 10:15:00 AM\",\"July 25, 2019, 10:30:00 AM\",\"July 25, 2019, 10:45:00 AM\",\"July 25, 2019, 11:00:00 AM\",\"July 25, 2019, 11:15:00 AM\",\"July 25, 2019, 11:30:00 AM\",\"July 25, 2019, 11:45:00 AM\",\"July 25, 2019, 12:00:00 PM\",\"July 25, 2019, 12:15:00 PM\",\"July 25, 2019, 12:30:00 PM\",\"July 25, 2019, 12:45:00 PM\",\"July 25, 2019, 01:00:00 PM\",\"July 25, 2019, 01:15:00 PM\",\"July 25, 2019, 01:30:00 PM\",\"July 25, 2019, 01:45:00 PM\",\"July 25, 2019, 02:00:00 PM\",\"July 25, 2019, 02:15:00 PM\",\"July 25, 2019, 02:30:00 PM\",\"July 25, 2019, 02:45:00 PM\",\"July 25, 2019, 03:00:00 PM\",\"July 25, 2019, 03:15:00 PM\",\"July 25, 2019, 03:30:00 PM\",\"July 25, 2019, 03:45:00 PM\",\"July 25, 2019, 04:00:00 PM\",\"July 25, 2019, 04:15:00 PM\",\"July 25, 2019, 04:30:00 PM\",\"July 25, 2019, 04:45:00 PM\",\"July 25, 2019, 05:00:00 PM\",\"July 25, 2019, 05:15:00 PM\",\"July 25, 2019, 05:30:00 PM\",\"July 25, 2019, 05:45:00 PM\",\"July 25, 2019, 06:00:00 PM\",\"July 25, 2019, 06:15:00 PM\",\"July 25, 2019, 06:30:00 PM\",\"July 25, 2019, 06:45:00 PM\",\"July 25, 2019, 07:00:00 PM\",\"July 25, 2019, 07:15:00 PM\",\"July 25, 2019, 07:30:00 PM\",\"July 25, 2019, 07:45:00 PM\",\"July 25, 2019, 08:00:00 PM\",\"July 25, 2019, 08:15:00 PM\",\"July 25, 2019, 08:30:00 PM\",\"July 25, 2019, 08:45:00 PM\",\"July 25, 2019, 09:00:00 PM\",\"July 25, 2019, 09:15:00 PM\",\"July 25, 2019, 09:30:00 PM\",\"July 25, 2019, 09:45:00 PM\",\"July 25, 2019, 10:00:00 PM\",\"July 25, 2019, 10:15:00 PM\",\"July 25, 2019, 10:30:00 PM\",\"July 25, 2019, 10:45:00 PM\",\"July 25, 2019, 11:00:00 PM\",\"July 25, 2019, 11:15:00 PM\",\"July 25, 2019, 11:30:00 PM\",\"July 25, 2019, 11:45:00 PM\"],\"x\":{\"__ndarray__\":\"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\",\"dtype\":\"float64\",\"shape\":[384]},\"y_left\":{\"__ndarray__\":\"5nlwd9Zu7z/KMsSxLm7vP3E9CtejcO8/Oq+xS1Rv7z9fRrHc0mrvP1u21hcJbe8/rIvbaABv7z92/YLdsG3vP4tUGFsIcu8/ba0vEtpy7z+LVBhbCHLvP6M7iJ0pdO8/whIPKJty7z+laybfbHPvP6VrJt9sc+8/ZF3cRgN47z+4kh0bgXjvPwzIXu/+eO8/0XmNXaJ67z8PKJtyhXfvPwzIXu/+eO8/Zr0Yyol27z9qTfOOU3TvP0ymCkYlde8/ZY16iEZ37z8MyF7v/njvP2WNeohGd+8/8YCyKVd47z9EhlW8kXnvP+8gdqbQee8/7MA5I0p77z/wUBToE3nvPygPC7Wmee8/8YCyKVd47z9EhlW8kXnvPwzIXu/+eO8/hZSfVPt07z8KaCJseHrvPw74/DBCeO8/j+TyH9Jv7z86r7FLVG/vP+LplbIMce8/c51GWipv7z/NkgA1tWzvPwCRfvs6cO8/BCFZwARu7z9dFhObj2vvP5g0Ruuoau8/X0ax3NJq7z8730+Nl27vP1zmdFlMbO8/WFaalIJu7z9+HThnRGnvP0sfuqC+Ze8/oYSZtn9l7z+gVPt0PGbvP0sfuqC+Ze8/CeHRxhFr7z93LSEf9GzvPyCYo8fvbe8/gq0SLA5n7z+gVPt0PGbvP/lJtU/HY+8/MjhKXp1j7z+InSl0XmPvPxfxnZj1Yu8/hA1Pr5Rl7z8vqG+Z02XvP2QGKuPfZ+8/+BkXDoRk7z9/Tdaoh2jvP+PCgZAsYO8/avZAKzBk7z9Q3zKny2LvPzEIrBxaZO8/R4/f2/Rn7z/vycNCrWnvP0rvG197Zu8/pOTVOQZk7z8teNFXkGbvP9uizAaZZO8/niRdM/lm7z/Bi76CNGPvPxbB/1ayY+8/+BkXDoRk7z8OoUrNHmjvPw1xrIvbaO8/Rl9BmrFo7z/RItv5fmrvP6/rF+yGbe8/Oq+xS1Rv7z8lWBzO/GrvPyHIQQkzbe8/BVH3AUht7z9bttYXCW3vPwexM4XOa+8/tKuQ8pNq7z9FL6NYbmnvPyHIQQkzbe8/BoGVQ4ts7z9ZhjjWxW3vPx04Z0Rpb+8/AcEcPX5v7z8BwRw9fm/vPx04Z0Rpb+8/HThnRGlv7z/FckurIXHvP9+JWS+Gcu8/qfsApDZx7z9MpgpGJXXvP0pGzsKedu8/S3ZsBOJ17z/PSe8bX3vvP9UJaCJseO8/8rBQa5p37z/wUBToE3nvPw74/DBCeO8/gNQmTu537z+Xi/hOzHrvP/BQFOgTee8/7MA5I0p77z/N6bKY2HzvP1nd6jnpfe8/dCSX/5B+7z+OO6WD9X/vPznWxW00gO8/Gy/dJAaB7z/LuRRXlX3vP3Qkl/+Qfu8/dCSX/5B+7z8g71UrE37vP+uQm+EGfO8/YM0Bgjl67z+Sy39Iv33vP+AQqtTsge8/Wg2Jeyx97z82donqrYHvP6uy74rgf+8/mxvTE5Z47z9A9nr3x3vvPxxfe2ZJgO8/xvmbUIiA7z/+t5IdG4HvPxn/PuPCge8/hLuzdtuF7z8UP8bctYTvP6ciFcYWgu8/Ub01sFWC7z9Wfa62Yn/vP+3w12SNeu8/MC/APjp17z+9UpYhjnXvP7nCu1zEd+8/FhiyutVz7z8wL8A+OnXvP3+kiAyreO8/MC/APjp17z+FlJ9U+3TvP0t2bATide8/SBYwgVt37z8pP6n26XjvP5rrNNJSee8/P8bctYR87z9DVrd6TnrvP51LcVXZd+8/eLRxxFp87z9z9Pi9TX/vP2dEaW/whe8/NnaJ6q2B7z8zFk1nJ4PvP58CYDyDhu8/wAmFCDiE7z+gMv59xoXvPxHfiVkvhu8/o5I6AU2E7z+9qUiFsYXvP/fHe9XKhO8/b2Qe+YOB7z/59xkXDoTvPy5W1GAahu8/0NA/wcWK7z+aQuc1donvP13Ed2LWi+8/m3KFd7mI7z8IjzaOWIvvP7RZ9bnaiu8/tYmT+x2K7z9DrWnecYrvP7kZbsDnh+8/8gcDz72H7z9M/bypSIXvP7x5qkNuhu8/LlbUYBqG7z/2l92Th4XvP4XrUbgehe8/MuauJeSD7z/2l92Th4XvP4XrUbgehe8/hLuzdtuF7z8TDyibcoXvP/VnP1JEhu8/2PD0SlmG7z+AK9mxEYjvP2O0jqomiO8/sylXeJeL7z8ipkQSvYzvP61p3nGKju8/CI82jliL7z95O8JpwYvvP1pkO99Pje8/Ap8fRgiP7z8Cnx9GCI/vP8mwijcyj+8/qwmi7gOQ7z/D8BExJZLvP4syG2SSke8/4Zf6eVOR7z9RFOgTeZLvP/4ORYE+ke8//g5FgT6R7z/D8BExJZLvP/8+48KBkO8/cOtunuqQ7z84LXjRV5DvP6nZA63AkO8/b7vQXKeR7z+oqWVrfZHvP8ZQTrSrkO8/lYJuL2mM7z83/dmPFJHvP6VJKej2ku8/AG+BBMWP7z+zKVd4l4vvP3Wr56T3je8/9u6P96qV7z/CwHPv4ZLvP6sJou4DkO8/O420VN6O7z/+DkWBPpHvP7H5uDZUjO8/JQaBlUOL7z8Kv9TPm4rvP/IHA8+9h+8/RQ2mYfiI7z+ZEkn0MorvP18ktOVciu8/XvQVpBmL7z8vhnKiXYXvP6Ay/n3Ghe8/oDL+fcaF7z+9qUiFsYXvP5pC5zV2ie8/7Bfshm2L7z+x+bg2VIzvP7x5qkNuhu8/9Wc/UkSG7z+m8naE04LvP1VNEHUfgO8/F58CYDyD7z90JJf/kH7vP+Nw5ldzgO8/qFKzB1qB7z9RvTWwVYLvPxCv6xfshu8/trkxPWGJ7z+e0sH6P4fvP9jw9EpZhu8/f/s6cM6I7z/aIJOMnIXvPzZ2ieqtge8/vHmqQ26G7z+8eapDbobvPyv2l92Th+8/LSY2H9eG7z8TDyibcoXvP5tyhXe5iO8/XcR3YtaL7z9DrWnecYrvP+rnTUUqjO8/XvQVpBmL7z9ATS1b64vvPwiPNo5Yi+8/RN0HILWJ7z/WkLjH0ofvP7kZbsDnh+8/gCvZsRGI7z9jtI6qJojvP1G9NbBVgu8/3+ALk6mC7z82donqrYHvPxn/PuPCge8/qoJRSZ2A7z82donqrYHvP29kHvmDge8/b2Qe+YOB7z+M22gAb4HvPxefAmA8g+8/+1dWmpSC7z8Yz6Chf4LvPzVG66hqgu8/FW9kHvmD7z/2l92Th4XvPxHfiVkvhu8/MuauJeSD7z/3x3vVyoTvP4qryr4rgu8/NnaJ6q2B7z82donqrYHvP4qryr4rgu8/+ie4WFGD7z+9qUiFsYXvP9jw9EpZhu8/nwJgPIOG7z/2l92Th4XvP72pSIWxhe8/TP28qUiF7z+CixU1mIbvP7x5qkNuhu8/nwJgPIOG7z+gMv59xoXvP7x5qkNuhu8/2iCTjJyF7z/bUDHO34TvP7x5qkNuhu8/Y7SOqiaI7z+Eu7N224XvP72pSIWxhe8/nwJgPIOG7z8xthDkoITvPyrG+ZtQiO8/fJv+7EeK7z88vVKWIY7vP1cE/1vJju8/dHtJY7SO7z9324XmOo3vP8rgKHl1ju8//z7jwoGQ7z/D8BExJZLvP/buj/eqle8/9u6P96qV7z/gZ1w4EJLvP3Wr56T3je8/7UeKyLCK7z/udygK9InvPyrG+ZtQiO8/8gcDz72H7z/2l92Th4XvPx+duvJZnu8/UWuad5yi7z99eQH20anvP315AfbRqe8/V1uxv+ye7z8lXTP5ZpvvP+2ePCzUmu8/OIQqNXug7z9WKxN+qZ/vPwH20akrn+8/XBsqxvmb7z9Ra5p3nKLvP7LXuz/eq+8/WOIBZVOu7z+UMNP2r6zvPwStwJDVre8/eLmI78Ss7z+mJyzxgLLvP1MiiV5Gse8/w552+Guy7z+7fsFu2LbvP2UZ4lgXt+8/hiAHJcy07z+/DpwzorTvP8Oedvhrsu8/NXugFRiy7z+GIAclzLTvP34AUps4ue8/YYkHlE257z/zPLg7a7fvP9WVz/I8uO8/1sVtNIC37z8R5KCEmbbvPy+Lic3Hte8/MLsnDwu17z+/DpwzorTvP05iEFg5tO8/\",\"dtype\":\"float64\",\"shape\":[384]},\"y_left_original\":{\"__ndarray__\":\"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\",\"dtype\":\"float64\",\"shape\":[384]},\"y_right\":{\"__ndarray__\":\"S5NS0O0l5j9pOjsZHCXmP/wdigJ9IuY/a5p3nKIj5j/+fcaFAyHmP+EGfH4YIeY/GsVyS6sh5j9U46WbxCDmP03zjlN0JOY/9l0R/G8l5j+EgefewyXmPy3saYe/JuY/npj1Yign5j+4rwPnjCjmP9eGinH+JuY/npj1Yign5j+1T8djBirmP0JD/wQXK+Y/14aKcf4m5j+2f2WlSSnmP5jYfFwbKuY/LhwIyQIm5j9pOjsZHCXmPzF8REyJJOY/LhwIyQIm5j9IMxZNZyfmPw3lRLsKKeY/8Z2Y9WIo5j8nLPGAsinmP7VPx2MGKuY/YRqGj4gp5j+A8Qwa+ifmP5w4ud+hKOY/nGhXIeUn5j8rvMtFfCfmP6H4MeauJeY/bypSYWwh5j9u+rMfKSLmP6foSC7/IeY/rwj+t5Id5j89LNSa5h3mP1TjpZvEIOY/WHOAYI4e5j/nxvSEJR7mP43ROqqaIOY/w1+TNeoh5j+luKrsuyLmPx1VTRB1H+Y/za/mAMEc5j8B3gIJih/mPzrMlxdgH+Y/cFrwoq8g5j+sqME0DB/mP3Ba8KKvIOY/w1+TNeoh5j/5vU1/9iPmP4tx/iYUIuY/UFPL1voi5j9rmnecoiPmP56Y9WIoJ+Y/UrMHWoEh5j+EgefewyXmP6H4MeauJeY/36Y/+5Ei5j/fpj/7kSLmPxrFckurIeY/jKGcaFch5j85nPnVHCDmP1wDWyVYHOY/Bp57D5cc5j8dVU0QdR/mP0Mc6+I2GuY/61bPSe8b5j/rVs9J7xvmP+tWz0nvG+Y/za/mAMEc5j8GnnsPlxzmPwte9BWkGeY/f2q8dJMY5j+WIY51cRvmP5mByvj3GeY/QuxMofMa5j+2+BQA4xnmP5mByvj3GeY/8kbmkT8Y5j99Oh4zUBnmP30KgPEMGuY/YcPTK2UZ5j/Un/1IERnmP5YhjnVxG+Y/smg6Oxkc5j96qkNuhhvmP87fhEIEHOY/Bp57D5cc5j/rVs9J7xvmP5mByvj3GeY/KQXdXtIY5j8Q7s7abRfmPwouVtRgGuY/tvgUAOMZ5j+WIY51cRvmP87fhEIEHOY/0D/BxYoa5j/QDyOERxvmP5Xx7zMuHOY/eqpDboYb5j+asWg6OxnmP+62C811GuY/za/mAMEc5j89LNSa5h3mP+kmMQisHOY/IxXGFoIc5j8jFcYWghzmP10z+WabG+Y/lMFR8uoc5j87/DVZox7mPwM+P4wQHuY/eqpDboYb5j8gtYmT+x3mP87fhEIEHOY/PSzUmuYd5j90uiwmNh/mP8pPqn06HuY/H4XrUbge5j86zJcXYB/mPzv8NVmjHuY/d0oH6/8c5j/O34RCBBzmPyeloNtLGuY/Ci5W1GAa5j9C7Eyh8xrmP0esxacAGOY/fToeM1AZ5j/QDyOERxvmP8e/z7hwIOY/IxXGFoIc5j+sqME0DB/mPzv8NVmjHuY/7uapDrkZ5j9fY5eo3hrmPzrMlxdgH+Y/VkPiHksf5j9vKlJhbCHmP8Mv9fOmIuY/bcoV3uUi5j9QU8vW+iLmP+M2GsBbIOY/Plxy3Ckd5j/9TShEwCHmP23KFd7lIuY/dhppqbwd5j9Zox6i0R3mPzmc+dUcIOY/O/w1WaMe5j87/DVZox7mPyMVxhaCHOY/JXUCmggb5j+2+BQA4xnmP7OY2HxcG+Y/RnwnZr0Y5j+fQUP/BBfmPzJVMCqpE+Y/yJi7lpAP5j9gPIOG/gnmP+wvuycPC+Y/JO6x9KEL5j8fLjnulA7mP/32deCcEeY/VbyReeQP5j9VvJF55A/mP6rx0k1iEOY/dZMYBFYO5j+q8dJNYhDmP6rx0k1iEOY/NxWpMLYQ5j+KGkzD8BHmP+PfZ1w4EOY/VbyReeQP5j+9GMqJdhXmP2oTJ/c7FOY/v0hoy7kU5j+7uI0G8BbmP7hYUYNpGOY/MSWS6GUU5j8Q7s7abRfmP59BQ/8EF+Y/ZoNMMnIW5j/XL9gN2xbmP06c3O9QFOY/Tpzc71AU5j9PzHoxlBPmPxbe5SK+E+Y/Ft7lIr4T5j/FOH8TChHmP4oaTMPwEeY/+8bXnlkS5j9SLLe0GhLmP94f71UrE+Y/qJGWytsR5j+owTQMHxHmP9C4cCAkC+Y/lGqfjscM5j8Ct+7mqQ7mP8r49xkXDuY/CacFL/oK5j9ExTh/EwrmP7VxxFp8CuY/SFUTRN0H5j9inL8JhQjmP2TMXUvIB+Y/oUrNHmgF5j/ZCMTr+gXmP/Mf0m9fB+Y/SIWxhSAH5j9kzF1LyAfmPyquKvuuCOY/00hL5e0I5j8MB0KygAnmPw034PPDCOY/fxMKEXAI5j8ofoy5awnmP37ja88sCeY/fuNrzywJ5j+30QDeAgnmP4JzRpT2BuY/1XjpJjEI5j9/EwoRcAjmP9HoDmJnCuY/0egOYmcK5j/uX1lpUgrmPyTusfShC+Y/elORCmML5j8sDmd+NQfmP05FKowtBOY/0LhwICQL5j/R6A5iZwrmP2Ysms5OBuY/ujE9YYkH5j80LhwIyQLmPxnnb0IhAuY/ipP7HYoC5j+M8zehEAHmP6YKRiV1AuY/N45Yi08B5j8VV5V9VwTmPxMn9zsUBeY/oBov3SQG5j++wRcmUwXmP4czv5oDBOY/Mc7fhEIE5j/8byU7NgLmPxe30QDeAuY/pKoJou4D5j+e6pCb4QbmP+D42jNLAuY/G0esxacA5j/EsS5uowHmPwAAAAAAAOY/xxFr8SkA5j84vvbMkgDmP6Xap+MxA+Y/i8OZX80B5j+Lw5lfzQHmP/7PYb68AOY/bOwS1VsD5j9z3CkdrP/lPwIwnkFD/+U/AAAAAAAA5j88TtGRXP7lP3ZsBOJ1/eU/yXGndLD+5T9WZd8Vwf/lP636XG3F/uU/yXGndLD+5T9bJVgczvzlP3ZsBOJ1/eU/c9wpHaz/5T/G4cyv5gDmP4vDmV/NAeY/OL72zJIA5j+M8zehEAHmPxx3Sgfr/+U/V5V9VwT/5T8bR6zFpwDmPx6n6Egu/+U/G0esxacA5j8AAAAAAADmPwuA8Qwa+uU/7ginBS/65T9EboYb8PnlP9BhvrwA++U/RG6GG/D55T9A3qtWJvzlPwlQU8vW+uU/fCx96IL65T96/N6mP/vlP9BhvrwA++U/JJf/kH775T8H8BZIUPzlP0Deq1Ym/OU/CCC1iZP75T+t+lxtxf7lPwJgPIOG/uU/PX5v05/95T8+rg0V4/zlP1jFG5lH/uU/HHdKB+v/5T/luFM6WP/lP5GDEmba/uU/4lgXt9EA5j9VNUHUfQDmPxoXDoRkAeY/oMN8eQH25T/xaOOItfjlP/Fo44i1+OU/1PGYgcr45T+cM6K0N/jlPyf3OxQF+uU/YOXQItv55T+B7PXuj/flP0ku/yH99uU/n5PeN7725T9pNSTusfTlP5+T3je+9uU/9Pi9TX/25T9JLv8h/fblP0f+YOC59+U/DeAtkKD45T9lpUkp6PblPy23tBoS9+U/1PGYgcr45T+vWpnwS/3lP1slWBzO/OU/XFX2XRH85T9CPujZrPrlP31cGyrG+eU/IjfDDfj85T9z3CkdrP/lP4qT+x2KAuY/UaVmD7QC5j/+z2G+vADmPzxO0ZFc/uU/s+pztRX75T98LH3ogvrlP55jQPZ69+U/8piByvj35T9Ljjulg/XlP0hVE0TdB+Y/IF7XL9gN5j/KyFnY0w7mP79IaMu5FOY/JO6x9KEL5j9IhbGFIAfmP/xvJTs2AuY/AmA8g4b+5T96/N6mP/vlPxx3Sgfr/+U/zNHj9zb95T+E04IXfQXmP0Fl/PuMC+Y/LA5nfjUH5j+8kXnkDwbmP0TFOH8TCuY/vJF55A8G5j8OZ341BwjmP7oxPWGJB+Y/9U9wsaIG5j+e6pCb4QbmP4TTghd9BeY/nuqQm+EG5j+7YduizAbmP7yReeQPBuY/1XjpJjEI5j9E9dbAVgnmP0T11sBWCeY/uQGfH0YI5j9/EwoRcAjmP2KcvwmFCOY/fxMKEXAI5j8ofoy5awnmPwwHQrKACeY/s0EmGTkL5j8Id2fttgvmP4BDqFKzB+Y/\",\"dtype\":\"float64\",\"shape\":[384]}},\"name\":\"AUDCHF\",\"selected\":{\"id\":\"1107\",\"type\":\"Selection\"},\"selection_policy\":{\"id\":\"1106\",\"type\":\"UnionRenderers\"}},\"id\":\"1006\",\"type\":\"ColumnDataSource\"},{\"attributes\":{\"mantissas\":[1,2,5],\"max_interval\":500.0,\"num_minor_ticks\":0},\"id\":\"1079\",\"type\":\"AdaptiveTicker\"},{\"attributes\":{\"items\":[{\"id\":\"1092\",\"type\":\"LegendItem\"}]},\"id\":\"1091\",\"type\":\"Legend\"},{\"attributes\":{\"source\":{\"id\":\"1006\",\"type\":\"ColumnDataSource\"}},\"id\":\"1124\",\"type\":\"CDSView\"},{\"attributes\":{\"background_fill_color\":{\"value\":\"black\"},\"below\":[{\"id\":\"1045\",\"type\":\"DatetimeAxis\"}],\"center\":[{\"id\":\"1049\",\"type\":\"Grid\"},{\"id\":\"1054\",\"type\":\"Grid\"},{\"id\":\"1145\",\"type\":\"Legend\"}],\"left\":[{\"id\":\"1050\",\"type\":\"LinearAxis\"}],\"plot_height\":300,\"plot_width\":400,\"renderers\":[{\"id\":\"1123\",\"type\":\"GlyphRenderer\"}],\"title\":{\"id\":\"1149\",\"type\":\"Title\"},\"toolbar\":{\"id\":\"1060\",\"type\":\"Toolbar\"},\"toolbar_location\":\"above\",\"x_range\":{\"id\":\"1008\",\"type\":\"Range1d\"},\"x_scale\":{\"id\":\"1041\",\"type\":\"LinearScale\"},\"y_range\":{\"id\":\"1039\",\"type\":\"DataRange1d\"},\"y_scale\":{\"id\":\"1043\",\"type\":\"LinearScale\"}},\"id\":\"1037\",\"subtype\":\"Figure\",\"type\":\"Plot\"},{\"attributes\":{\"active_drag\":\"auto\",\"active_inspect\":\"auto\",\"active_multi\":null,\"active_scroll\":\"auto\",\"active_tap\":\"auto\",\"tools\":[{\"id\":\"1026\",\"type\":\"PanTool\"},{\"id\":\"1027\",\"type\":\"WheelZoomTool\"},{\"id\":\"1028\",\"type\":\"BoxZoomTool\"},{\"id\":\"1029\",\"type\":\"ResetTool\"},{\"id\":\"1030\",\"type\":\"BoxSelectTool\"}]},\"id\":\"1031\",\"type\":\"Toolbar\"},{\"attributes\":{},\"id\":\"1043\",\"type\":\"LinearScale\"},{\"attributes\":{\"data_source\":{\"id\":\"1006\",\"type\":\"ColumnDataSource\"},\"glyph\":{\"id\":\"1094\",\"type\":\"Scatter\"},\"hover_glyph\":null,\"muted_glyph\":null,\"nonselection_glyph\":{\"id\":\"1095\",\"type\":\"Scatter\"},\"selection_glyph\":null,\"view\":{\"id\":\"1097\",\"type\":\"CDSView\"}},\"id\":\"1096\",\"type\":\"GlyphRenderer\"},{\"attributes\":{\"ticker\":{\"id\":\"1017\",\"type\":\"DatetimeTicker\"}},\"id\":\"1020\",\"type\":\"Grid\"},{\"attributes\":{\"fill_alpha\":{\"value\":0.1},\"fill_color\":{\"value\":\"#1f77b4\"},\"line_alpha\":{\"value\":0.1},\"line_color\":{\"value\":\"#1f77b4\"},\"x\":{\"field\":\"x\"},\"y\":{\"field\":\"y_left_original\"}},\"id\":\"1095\",\"type\":\"Scatter\"},{\"attributes\":{\"formatter\":{\"id\":\"1076\",\"type\":\"BasicTickFormatter\"},\"ticker\":{\"id\":\"1022\",\"type\":\"BasicTicker\"}},\"id\":\"1021\",\"type\":\"LinearAxis\"},{\"attributes\":{\"source\":{\"id\":\"1006\",\"type\":\"ColumnDataSource\"}},\"id\":\"1097\",\"type\":\"CDSView\"},{\"attributes\":{},\"id\":\"1022\",\"type\":\"BasicTicker\"},{\"attributes\":{\"label\":{\"value\":\"USDCHF\"},\"renderers\":[{\"id\":\"1069\",\"type\":\"GlyphRenderer\"},{\"id\":\"1096\",\"type\":\"GlyphRenderer\"}]},\"id\":\"1092\",\"type\":\"LegendItem\"},{\"attributes\":{\"ticker\":{\"id\":\"1046\",\"type\":\"DatetimeTicker\"}},\"id\":\"1049\",\"type\":\"Grid\"},{\"attributes\":{},\"id\":\"1090\",\"type\":\"YearsTicker\"},{\"attributes\":{\"source\":{\"id\":\"1006\",\"type\":\"ColumnDataSource\"}},\"id\":\"1070\",\"type\":\"CDSView\"},{\"attributes\":{\"num_minor_ticks\":5,\"tickers\":[{\"id\":\"1079\",\"type\":\"AdaptiveTicker\"},{\"id\":\"1080\",\"type\":\"AdaptiveTicker\"},{\"id\":\"1081\",\"type\":\"AdaptiveTicker\"},{\"id\":\"1082\",\"type\":\"DaysTicker\"},{\"id\":\"1083\",\"type\":\"DaysTicker\"},{\"id\":\"1084\",\"type\":\"DaysTicker\"},{\"id\":\"1085\",\"type\":\"DaysTicker\"},{\"id\":\"1086\",\"type\":\"MonthsTicker\"},{\"id\":\"1087\",\"type\":\"MonthsTicker\"},{\"id\":\"1088\",\"type\":\"MonthsTicker\"},{\"id\":\"1089\",\"type\":\"MonthsTicker\"},{\"id\":\"1090\",\"type\":\"YearsTicker\"}]},\"id\":\"1017\",\"type\":\"DatetimeTicker\"},{\"attributes\":{\"dimension\":1,\"ticker\":{\"id\":\"1022\",\"type\":\"BasicTicker\"}},\"id\":\"1025\",\"type\":\"Grid\"},{\"attributes\":{\"months\":[0,6]},\"id\":\"1089\",\"type\":\"MonthsTicker\"},{\"attributes\":{\"months\":[0,4,8]},\"id\":\"1088\",\"type\":\"MonthsTicker\"},{\"attributes\":{\"formatter\":{\"id\":\"1074\",\"type\":\"DatetimeTickFormatter\"},\"ticker\":{\"id\":\"1017\",\"type\":\"DatetimeTicker\"}},\"id\":\"1016\",\"type\":\"DatetimeAxis\"},{\"attributes\":{\"months\":[0,2,4,6,8,10]},\"id\":\"1087\",\"type\":\"MonthsTicker\"},{\"attributes\":{\"data_source\":{\"id\":\"1006\",\"type\":\"ColumnDataSource\"},\"glyph\":{\"id\":\"1067\",\"type\":\"Scatter\"},\"hover_glyph\":null,\"muted_glyph\":null,\"nonselection_glyph\":{\"id\":\"1068\",\"type\":\"Scatter\"},\"selection_glyph\":null,\"view\":{\"id\":\"1070\",\"type\":\"CDSView\"}},\"id\":\"1069\",\"type\":\"GlyphRenderer\"},{\"attributes\":{},\"id\":\"1027\",\"type\":\"WheelZoomTool\"},{\"attributes\":{},\"id\":\"1076\",\"type\":\"BasicTickFormatter\"},{\"attributes\":{},\"id\":\"1014\",\"type\":\"LinearScale\"},{\"attributes\":{},\"id\":\"1130\",\"type\":\"BasicTickFormatter\"},{\"attributes\":{\"bottom_units\":\"screen\",\"fill_alpha\":{\"value\":0.5},\"fill_color\":{\"value\":\"lightgrey\"},\"left_units\":\"screen\",\"level\":\"overlay\",\"line_alpha\":{\"value\":1.0},\"line_color\":{\"value\":\"black\"},\"line_dash\":[4,4],\"line_width\":{\"value\":2},\"render_mode\":\"css\",\"right_units\":\"screen\",\"top_units\":\"screen\"},\"id\":\"1131\",\"type\":\"BoxAnnotation\"},{\"attributes\":{\"overlay\":{\"id\":\"1077\",\"type\":\"BoxAnnotation\"}},\"id\":\"1028\",\"type\":\"BoxZoomTool\"},{\"attributes\":{\"mantissas\":[1,2,5],\"max_interval\":500.0,\"num_minor_ticks\":0},\"id\":\"1133\",\"type\":\"AdaptiveTicker\"},{\"attributes\":{\"fill_alpha\":{\"value\":0.2},\"fill_color\":{\"value\":\"navy\"},\"level\":\"overlay\",\"line_alpha\":{\"value\":1.0},\"line_color\":{\"value\":\"black\"},\"line_dash\":[2,2],\"line_width\":{\"value\":0.5}},\"id\":\"1168\",\"type\":\"BoxAnnotation\"},{\"attributes\":{},\"id\":\"1012\",\"type\":\"LinearScale\"},{\"attributes\":{\"base\":60,\"mantissas\":[1,2,5,10,15,20,30],\"max_interval\":1800000.0,\"min_interval\":1000.0,\"num_minor_ticks\":0},\"id\":\"1134\",\"type\":\"AdaptiveTicker\"},{\"attributes\":{\"days\":[1,4,7,10,13,16,19,22,25,28]},\"id\":\"1083\",\"type\":\"DaysTicker\"},{\"attributes\":{\"bottom_units\":\"screen\",\"fill_alpha\":{\"value\":0.5},\"fill_color\":{\"value\":\"lightgrey\"},\"left_units\":\"screen\",\"level\":\"overlay\",\"line_alpha\":{\"value\":1.0},\"line_color\":{\"value\":\"black\"},\"line_dash\":[4,4],\"line_width\":{\"value\":2},\"render_mode\":\"css\",\"right_units\":\"screen\",\"top_units\":\"screen\"},\"id\":\"1078\",\"type\":\"BoxAnnotation\"},{\"attributes\":{},\"id\":\"1074\",\"type\":\"DatetimeTickFormatter\"},{\"attributes\":{\"background_fill_color\":{\"value\":\"black\"},\"below\":[{\"id\":\"1016\",\"type\":\"DatetimeAxis\"}],\"center\":[{\"id\":\"1020\",\"type\":\"Grid\"},{\"id\":\"1025\",\"type\":\"Grid\"},{\"id\":\"1091\",\"type\":\"Legend\"}],\"left\":[{\"id\":\"1021\",\"type\":\"LinearAxis\"}],\"plot_height\":300,\"plot_width\":400,\"renderers\":[{\"id\":\"1069\",\"type\":\"GlyphRenderer\"},{\"id\":\"1096\",\"type\":\"GlyphRenderer\"}],\"title\":{\"id\":\"1147\",\"type\":\"Title\"},\"toolbar\":{\"id\":\"1031\",\"type\":\"Toolbar\"},\"toolbar_location\":\"above\",\"x_range\":{\"id\":\"1008\",\"type\":\"Range1d\"},\"x_scale\":{\"id\":\"1012\",\"type\":\"LinearScale\"},\"y_range\":{\"id\":\"1010\",\"type\":\"Range1d\"},\"y_scale\":{\"id\":\"1014\",\"type\":\"LinearScale\"}},\"id\":\"1007\",\"subtype\":\"Figure\",\"type\":\"Plot\"},{\"attributes\":{\"callback\":null,\"overlay\":{\"id\":\"1078\",\"type\":\"BoxAnnotation\"}},\"id\":\"1030\",\"type\":\"BoxSelectTool\"},{\"attributes\":{\"base\":24,\"mantissas\":[1,2,4,6,8,12],\"max_interval\":43200000.0,\"min_interval\":3600000.0,\"num_minor_ticks\":0},\"id\":\"1135\",\"type\":\"AdaptiveTicker\"},{\"attributes\":{\"days\":[1,4,7,10,13,16,19,22,25,28]},\"id\":\"1137\",\"type\":\"DaysTicker\"},{\"attributes\":{\"callback\":null},\"id\":\"1039\",\"type\":\"DataRange1d\"},{\"attributes\":{\"days\":[1,2,3,4,5,6,7,8,9,10,11,12,13,14,15,16,17,18,19,20,21,22,23,24,25,26,27,28,29,30,31]},\"id\":\"1136\",\"type\":\"DaysTicker\"},{\"attributes\":{\"days\":[1,8,15,22]},\"id\":\"1084\",\"type\":\"DaysTicker\"},{\"attributes\":{\"months\":[0,1,2,3,4,5,6,7,8,9,10,11]},\"id\":\"1140\",\"type\":\"MonthsTicker\"},{\"attributes\":{\"days\":[1,8,15,22]},\"id\":\"1138\",\"type\":\"DaysTicker\"},{\"attributes\":{\"fill_alpha\":{\"value\":0.1},\"fill_color\":{\"value\":\"#1f77b4\"},\"line_alpha\":{\"value\":0.1},\"line_color\":{\"value\":\"#1f77b4\"},\"x\":{\"field\":\"x\"},\"y\":{\"field\":\"y_left\"}},\"id\":\"1068\",\"type\":\"Scatter\"},{\"attributes\":{\"days\":[1,15]},\"id\":\"1139\",\"type\":\"DaysTicker\"}],\"root_ids\":[\"1179\"]},\"title\":\"Bokeh Application\",\"version\":\"1.3.4\"}};\n",
       "  var render_items = [{\"docid\":\"c6cdbbc3-1dec-4a56-b825-2fcc514c81f5\",\"roots\":{\"1179\":\"7b964edb-cde2-43a2-bbf0-00a322d548c3\"}}];\n",
       "  root.Bokeh.embed.embed_items_notebook(docs_json, render_items);\n",
       "\n",
       "  }\n",
       "  if (root.Bokeh !== undefined) {\n",
       "    embed_document(root);\n",
       "  } else {\n",
       "    var attempts = 0;\n",
       "    var timer = setInterval(function(root) {\n",
       "      if (root.Bokeh !== undefined) {\n",
       "        embed_document(root);\n",
       "        clearInterval(timer);\n",
       "      }\n",
       "      attempts++;\n",
       "      if (attempts > 100) {\n",
       "        console.log(\"Bokeh: ERROR: Unable to run BokehJS code because BokehJS library is missing\");\n",
       "        clearInterval(timer);\n",
       "      }\n",
       "    }, 10, root)\n",
       "  }\n",
       "})(window);"
      ],
      "application/vnd.bokehjs_exec.v0+json": ""
     },
     "metadata": {
      "application/vnd.bokehjs_exec.v0+json": {
       "id": "1179"
      }
     },
     "output_type": "display_data"
    }
   ],
   "source": [
    "p_grid_list = [[p_left, p_right],[p_range_tool,amp_slider]]\n",
    "p = grid(p_grid_list)\n",
    "show(p)"
   ]
  },
  {
   "cell_type": "code",
   "execution_count": 20,
   "metadata": {},
   "outputs": [
    {
     "data": {
      "text/plain": [
       "[]"
      ]
     },
     "execution_count": 20,
     "metadata": {},
     "output_type": "execute_result"
    }
   ],
   "source": [
    "[source.data['x'][i] for i in inds]"
   ]
  },
  {
   "cell_type": "code",
   "execution_count": 22,
   "metadata": {},
   "outputs": [
    {
     "data": {
      "text/plain": [
       "DatetimeIndex(['2019-07-22 00:00:00', '2019-07-22 00:15:00',\n",
       "               '2019-07-22 00:30:00', '2019-07-22 00:45:00',\n",
       "               '2019-07-22 01:00:00', '2019-07-22 01:15:00',\n",
       "               '2019-07-22 01:30:00', '2019-07-22 01:45:00',\n",
       "               '2019-07-22 02:00:00', '2019-07-22 02:15:00',\n",
       "               ...\n",
       "               '2019-07-25 21:30:00', '2019-07-25 21:45:00',\n",
       "               '2019-07-25 22:00:00', '2019-07-25 22:15:00',\n",
       "               '2019-07-25 22:30:00', '2019-07-25 22:45:00',\n",
       "               '2019-07-25 23:00:00', '2019-07-25 23:15:00',\n",
       "               '2019-07-25 23:30:00', '2019-07-25 23:45:00'],\n",
       "              dtype='datetime64[ns]', name='Timestamp', length=384, freq=None)"
      ]
     },
     "execution_count": 22,
     "metadata": {},
     "output_type": "execute_result"
    }
   ],
   "source": [
    "source_all.data['x']"
   ]
  },
  {
   "cell_type": "markdown",
   "metadata": {},
   "source": [
    "## Correlation plot\n",
    "\n"
   ]
  },
  {
   "cell_type": "code",
   "execution_count": 86,
   "metadata": {},
   "outputs": [
    {
     "data": {
      "text/html": [
       "<div>\n",
       "<style scoped>\n",
       "    .dataframe tbody tr th:only-of-type {\n",
       "        vertical-align: middle;\n",
       "    }\n",
       "\n",
       "    .dataframe tbody tr th {\n",
       "        vertical-align: top;\n",
       "    }\n",
       "\n",
       "    .dataframe thead th {\n",
       "        text-align: right;\n",
       "    }\n",
       "</style>\n",
       "<table border=\"1\" class=\"dataframe\">\n",
       "  <thead>\n",
       "    <tr style=\"text-align: right;\">\n",
       "      <th></th>\n",
       "      <th>USDCHF</th>\n",
       "      <th>AUDCHF</th>\n",
       "      <th>CADCHF</th>\n",
       "      <th>CHFJPY</th>\n",
       "      <th>EURCHF</th>\n",
       "      <th>GBPCHF</th>\n",
       "      <th>NZDCHF</th>\n",
       "    </tr>\n",
       "  </thead>\n",
       "  <tbody>\n",
       "    <tr>\n",
       "      <td>USDCHF</td>\n",
       "      <td>1.000000</td>\n",
       "      <td>0.429973</td>\n",
       "      <td>0.695517</td>\n",
       "      <td>-0.610212</td>\n",
       "      <td>0.574723</td>\n",
       "      <td>0.334602</td>\n",
       "      <td>0.430992</td>\n",
       "    </tr>\n",
       "    <tr>\n",
       "      <td>AUDCHF</td>\n",
       "      <td>0.429973</td>\n",
       "      <td>1.000000</td>\n",
       "      <td>0.549013</td>\n",
       "      <td>-0.378255</td>\n",
       "      <td>0.513923</td>\n",
       "      <td>0.332903</td>\n",
       "      <td>0.702503</td>\n",
       "    </tr>\n",
       "    <tr>\n",
       "      <td>CADCHF</td>\n",
       "      <td>0.695517</td>\n",
       "      <td>0.549013</td>\n",
       "      <td>1.000000</td>\n",
       "      <td>-0.529150</td>\n",
       "      <td>0.571986</td>\n",
       "      <td>0.356841</td>\n",
       "      <td>0.518465</td>\n",
       "    </tr>\n",
       "    <tr>\n",
       "      <td>CHFJPY</td>\n",
       "      <td>-0.610212</td>\n",
       "      <td>-0.378255</td>\n",
       "      <td>-0.529150</td>\n",
       "      <td>1.000000</td>\n",
       "      <td>-0.422781</td>\n",
       "      <td>-0.334934</td>\n",
       "      <td>-0.440264</td>\n",
       "    </tr>\n",
       "    <tr>\n",
       "      <td>EURCHF</td>\n",
       "      <td>0.574723</td>\n",
       "      <td>0.513923</td>\n",
       "      <td>0.571986</td>\n",
       "      <td>-0.422781</td>\n",
       "      <td>1.000000</td>\n",
       "      <td>0.506510</td>\n",
       "      <td>0.462614</td>\n",
       "    </tr>\n",
       "    <tr>\n",
       "      <td>GBPCHF</td>\n",
       "      <td>0.334602</td>\n",
       "      <td>0.332903</td>\n",
       "      <td>0.356841</td>\n",
       "      <td>-0.334934</td>\n",
       "      <td>0.506510</td>\n",
       "      <td>1.000000</td>\n",
       "      <td>0.352007</td>\n",
       "    </tr>\n",
       "    <tr>\n",
       "      <td>NZDCHF</td>\n",
       "      <td>0.430992</td>\n",
       "      <td>0.702503</td>\n",
       "      <td>0.518465</td>\n",
       "      <td>-0.440264</td>\n",
       "      <td>0.462614</td>\n",
       "      <td>0.352007</td>\n",
       "      <td>1.000000</td>\n",
       "    </tr>\n",
       "  </tbody>\n",
       "</table>\n",
       "</div>"
      ],
      "text/plain": [
       "          USDCHF    AUDCHF    CADCHF    CHFJPY    EURCHF    GBPCHF    NZDCHF\n",
       "USDCHF  1.000000  0.429973  0.695517 -0.610212  0.574723  0.334602  0.430992\n",
       "AUDCHF  0.429973  1.000000  0.549013 -0.378255  0.513923  0.332903  0.702503\n",
       "CADCHF  0.695517  0.549013  1.000000 -0.529150  0.571986  0.356841  0.518465\n",
       "CHFJPY -0.610212 -0.378255 -0.529150  1.000000 -0.422781 -0.334934 -0.440264\n",
       "EURCHF  0.574723  0.513923  0.571986 -0.422781  1.000000  0.506510  0.462614\n",
       "GBPCHF  0.334602  0.332903  0.356841 -0.334934  0.506510  1.000000  0.352007\n",
       "NZDCHF  0.430992  0.702503  0.518465 -0.440264  0.462614  0.352007  1.000000"
      ]
     },
     "execution_count": 86,
     "metadata": {},
     "output_type": "execute_result"
    }
   ],
   "source": [
    "method =\"spearman\"\n",
    "correlations = currencies_df.pct_change().corr(method = method)\n",
    "#correlations = currencies_df.corr()\n",
    "correlations"
   ]
  },
  {
   "cell_type": "code",
   "execution_count": 87,
   "metadata": {},
   "outputs": [
    {
     "data": {
      "text/plain": [
       "USDCHF    0.429973\n",
       "AUDCHF    1.000000\n",
       "CADCHF    0.549013\n",
       "CHFJPY   -0.378255\n",
       "EURCHF    0.513923\n",
       "GBPCHF    0.332903\n",
       "NZDCHF    0.702503\n",
       "Name: AUDCHF, dtype: float64"
      ]
     },
     "execution_count": 87,
     "metadata": {},
     "output_type": "execute_result"
    }
   ],
   "source": [
    "correlations[\"AUDCHF\"]"
   ]
  },
  {
   "cell_type": "code",
   "execution_count": 88,
   "metadata": {},
   "outputs": [
    {
     "data": {
      "text/plain": [
       "-0.3782551865164905"
      ]
     },
     "execution_count": 88,
     "metadata": {},
     "output_type": "execute_result"
    }
   ],
   "source": [
    "correlations[\"AUDCHF\"][\"CHFJPY\"]"
   ]
  },
  {
   "cell_type": "code",
   "execution_count": 89,
   "metadata": {},
   "outputs": [
    {
     "data": {
      "text/plain": [
       "array([ 1.        ,  0.42997288,  0.69551653, -0.61021227,  0.57472321,\n",
       "        0.33460235,  0.43099205,  0.42997288,  1.        ,  0.54901289,\n",
       "       -0.37825519,  0.51392251,  0.33290295,  0.70250262,  0.69551653,\n",
       "        0.54901289,  1.        , -0.52915007,  0.57198583,  0.35684139,\n",
       "        0.51846539, -0.61021227, -0.37825519, -0.52915007,  1.        ,\n",
       "       -0.42278054, -0.33493356, -0.44026436,  0.57472321,  0.51392251,\n",
       "        0.57198583, -0.42278054,  1.        ,  0.50650991,  0.46261404,\n",
       "        0.33460235,  0.33290295,  0.35684139, -0.33493356,  0.50650991,\n",
       "        1.        ,  0.3520072 ,  0.43099205,  0.70250262,  0.51846539,\n",
       "       -0.44026436,  0.46261404,  0.3520072 ,  1.        ])"
      ]
     },
     "execution_count": 89,
     "metadata": {},
     "output_type": "execute_result"
    }
   ],
   "source": [
    "np.array(correlations).flatten()"
   ]
  },
  {
   "cell_type": "code",
   "execution_count": 90,
   "metadata": {},
   "outputs": [
    {
     "data": {
      "text/plain": [
       "array([1, 1, 1, 3, 1, 2, 1], dtype=int32)"
      ]
     },
     "execution_count": 90,
     "metadata": {},
     "output_type": "execute_result"
    }
   ],
   "source": [
    "import scipy.cluster.hierarchy as spc\n",
    "\n",
    "corr = correlations.values\n",
    "pdist = spc.distance.pdist(corr)\n",
    "linkage = spc.linkage(pdist, method='complete')\n",
    "group = spc.fcluster(linkage, 0.3 * pdist.max(), 'distance')\n",
    "group"
   ]
  },
  {
   "cell_type": "code",
   "execution_count": 91,
   "metadata": {},
   "outputs": [
    {
     "data": {
      "text/html": [
       "\n",
       "\n",
       "\n",
       "\n",
       "\n",
       "\n",
       "  <div class=\"bk-root\" id=\"69c9ffe5-a365-42ec-9eab-36543080285c\" data-root-id=\"5357\"></div>\n"
      ]
     },
     "metadata": {},
     "output_type": "display_data"
    },
    {
     "data": {
      "application/javascript": [
       "(function(root) {\n",
       "  function embed_document(root) {\n",
       "    \n",
       "  var docs_json = {\"a31a7ad4-6c21-4431-9ab9-ab4fc42dbdac\":{\"roots\":{\"references\":[{\"attributes\":{\"above\":[{\"id\":\"5368\",\"type\":\"CategoricalAxis\"}],\"center\":[{\"id\":\"5371\",\"type\":\"Grid\"},{\"id\":\"5375\",\"type\":\"Grid\"}],\"left\":[{\"id\":\"5372\",\"type\":\"CategoricalAxis\"}],\"renderers\":[{\"id\":\"5386\",\"type\":\"GlyphRenderer\"}],\"title\":{\"id\":\"5358\",\"type\":\"Title\"},\"toolbar\":{\"id\":\"5378\",\"type\":\"Toolbar\"},\"x_range\":{\"id\":\"5360\",\"type\":\"FactorRange\"},\"x_scale\":{\"id\":\"5364\",\"type\":\"CategoricalScale\"},\"y_range\":{\"id\":\"5362\",\"type\":\"FactorRange\"},\"y_scale\":{\"id\":\"5366\",\"type\":\"CategoricalScale\"}},\"id\":\"5357\",\"subtype\":\"Figure\",\"type\":\"Plot\"},{\"attributes\":{},\"id\":\"5377\",\"type\":\"SaveTool\"},{\"attributes\":{\"active_drag\":\"auto\",\"active_inspect\":\"auto\",\"active_multi\":null,\"active_scroll\":\"auto\",\"active_tap\":\"auto\",\"tools\":[{\"id\":\"5376\",\"type\":\"HoverTool\"},{\"id\":\"5377\",\"type\":\"SaveTool\"}]},\"id\":\"5378\",\"type\":\"Toolbar\"},{\"attributes\":{\"callback\":null,\"factors\":[\"NZDCHF\",\"GBPCHF\",\"EURCHF\",\"CHFJPY\",\"CADCHF\",\"AUDCHF\",\"USDCHF\"]},\"id\":\"5360\",\"type\":\"FactorRange\"},{\"attributes\":{\"fill_color\":{\"field\":\"colors\"},\"height\":{\"units\":\"data\",\"value\":0.9},\"width\":{\"units\":\"data\",\"value\":0.9},\"x\":{\"field\":\"xname\"},\"y\":{\"field\":\"yname\"}},\"id\":\"5385\",\"type\":\"Rect\"},{\"attributes\":{\"fill_alpha\":{\"value\":0.1},\"fill_color\":{\"value\":\"#1f77b4\"},\"height\":{\"units\":\"data\",\"value\":0.9},\"line_alpha\":{\"value\":0.1},\"line_color\":{\"value\":\"#1f77b4\"},\"width\":{\"units\":\"data\",\"value\":0.9},\"x\":{\"field\":\"xname\"},\"y\":{\"field\":\"yname\"}},\"id\":\"5384\",\"type\":\"Rect\"},{\"attributes\":{\"data_source\":{\"id\":\"5381\",\"type\":\"ColumnDataSource\"},\"glyph\":{\"id\":\"5383\",\"type\":\"Rect\"},\"hover_glyph\":{\"id\":\"5385\",\"type\":\"Rect\"},\"muted_glyph\":null,\"nonselection_glyph\":{\"id\":\"5384\",\"type\":\"Rect\"},\"selection_glyph\":null,\"view\":{\"id\":\"5387\",\"type\":\"CDSView\"}},\"id\":\"5386\",\"type\":\"GlyphRenderer\"},{\"attributes\":{},\"id\":\"5581\",\"type\":\"CategoricalTickFormatter\"},{\"attributes\":{\"callback\":null,\"factors\":[\"USDCHF\",\"AUDCHF\",\"CADCHF\",\"CHFJPY\",\"EURCHF\",\"GBPCHF\",\"NZDCHF\"]},\"id\":\"5362\",\"type\":\"FactorRange\"},{\"attributes\":{},\"id\":\"5364\",\"type\":\"CategoricalScale\"},{\"attributes\":{},\"id\":\"5366\",\"type\":\"CategoricalScale\"},{\"attributes\":{\"text\":\"Currency corrleations\"},\"id\":\"5358\",\"type\":\"Title\"},{\"attributes\":{\"axis_line_color\":{\"value\":null},\"formatter\":{\"id\":\"5579\",\"type\":\"CategoricalTickFormatter\"},\"major_label_orientation\":1.0471975511965976,\"major_label_standoff\":0,\"major_label_text_font_size\":{\"value\":\"10pt\"},\"major_tick_line_color\":{\"value\":null},\"ticker\":{\"id\":\"5369\",\"type\":\"CategoricalTicker\"}},\"id\":\"5368\",\"type\":\"CategoricalAxis\"},{\"attributes\":{\"source\":{\"id\":\"5381\",\"type\":\"ColumnDataSource\"}},\"id\":\"5387\",\"type\":\"CDSView\"},{\"attributes\":{},\"id\":\"5373\",\"type\":\"CategoricalTicker\"},{\"attributes\":{},\"id\":\"5369\",\"type\":\"CategoricalTicker\"},{\"attributes\":{},\"id\":\"5582\",\"type\":\"UnionRenderers\"},{\"attributes\":{\"callback\":null,\"data\":{\"alphas\":[1.0,0.5299728784466834,0.7955165254811785,0.6747232082294209,0.5309920469732993,0.4346023478507157,0.7102122725939113,0.5299728784466834,1.0,0.6490128868919989,0.6139225095257056,0.802502615572709,0.4329029497379243,0.47825518651649046,0.7955165254811785,0.6490128868919989,1.0,0.6719858289579569,0.6184653927803048,0.45684138753217696,0.6291500667704103,0.6747232082294209,0.6139225095257056,0.6719858289579569,1.0,0.5626140427065233,0.6065099089778501,0.5227805360508714,0.5309920469732993,0.802502615572709,0.6184653927803048,0.5626140427065233,1.0,0.45200719982039717,0.5402643614575188,0.4346023478507157,0.4329029497379243,0.45684138753217696,0.6065099089778501,0.45200719982039717,1.0,0.43493356338959677,0.7102122725939113,0.47825518651649046,0.6291500667704103,0.5227805360508714,0.5402643614575188,0.43493356338959677,1.0],\"colors\":[\"#a6cee3\",\"#a6cee3\",\"#a6cee3\",\"lightgray\",\"#a6cee3\",\"lightgray\",\"#a6cee3\",\"#a6cee3\",\"#a6cee3\",\"#a6cee3\",\"lightgray\",\"#a6cee3\",\"lightgray\",\"#a6cee3\",\"#a6cee3\",\"#a6cee3\",\"#a6cee3\",\"lightgray\",\"#a6cee3\",\"lightgray\",\"#a6cee3\",\"lightgray\",\"lightgray\",\"lightgray\",\"#b2df8a\",\"lightgray\",\"lightgray\",\"lightgray\",\"#a6cee3\",\"#a6cee3\",\"#a6cee3\",\"lightgray\",\"#a6cee3\",\"lightgray\",\"#a6cee3\",\"lightgray\",\"lightgray\",\"lightgray\",\"lightgray\",\"lightgray\",\"#1f78b4\",\"lightgray\",\"#a6cee3\",\"#a6cee3\",\"#a6cee3\",\"lightgray\",\"#a6cee3\",\"lightgray\",\"#a6cee3\"],\"correlation\":{\"__ndarray__\":\"AAAAAAAA8D98HMb2rITbP2OdWN+rQeY/9RNN49uG4784H/PsIWTiP8HAS/cfatU/2Ielql+V2z98HMb2rITbPwAAAAAAAPA/7RNJeYOR4T+AXeg9VTXYv7zqYp4NcuA/vHF3LEhO1T/mp+fD5nrmP2OdWN+rQeY/7RNJeYOR4T8AAAAAAADwP2qQ7h7M7uC/xsukObVN4j9r1lNCfdbWP60sQ7xEl+A/9RNN49uG47+AXeg9VTXYv2qQ7h7M7uC/AAAAAAAA8D9rU+4X1g7bv/HTRS+Nb9W/u3qDkkot3L84H/PsIWTiP7zqYp4NcuA/xsukObVN4j9rU+4X1g7bvwAAAAAAAPA/Gx3FRFQ14D9EEgbud5vdP8HAS/cfatU/vHF3LEhO1T9r1lNCfdbWP/HTRS+Nb9W/Gx3FRFQ14D8AAAAAAADwP2HZyzRJh9Y/2Ielql+V2z/mp+fD5nrmP60sQ7xEl+A/u3qDkkot3L9EEgbud5vdP2HZyzRJh9Y/AAAAAAAA8D8=\",\"dtype\":\"float64\",\"shape\":[49]},\"xname\":[\"USDCHF\",\"USDCHF\",\"USDCHF\",\"USDCHF\",\"USDCHF\",\"USDCHF\",\"USDCHF\",\"AUDCHF\",\"AUDCHF\",\"AUDCHF\",\"AUDCHF\",\"AUDCHF\",\"AUDCHF\",\"AUDCHF\",\"CADCHF\",\"CADCHF\",\"CADCHF\",\"CADCHF\",\"CADCHF\",\"CADCHF\",\"CADCHF\",\"EURCHF\",\"EURCHF\",\"EURCHF\",\"EURCHF\",\"EURCHF\",\"EURCHF\",\"EURCHF\",\"NZDCHF\",\"NZDCHF\",\"NZDCHF\",\"NZDCHF\",\"NZDCHF\",\"NZDCHF\",\"NZDCHF\",\"GBPCHF\",\"GBPCHF\",\"GBPCHF\",\"GBPCHF\",\"GBPCHF\",\"GBPCHF\",\"GBPCHF\",\"CHFJPY\",\"CHFJPY\",\"CHFJPY\",\"CHFJPY\",\"CHFJPY\",\"CHFJPY\",\"CHFJPY\"],\"yname\":[\"USDCHF\",\"AUDCHF\",\"CADCHF\",\"EURCHF\",\"NZDCHF\",\"GBPCHF\",\"CHFJPY\",\"USDCHF\",\"AUDCHF\",\"CADCHF\",\"EURCHF\",\"NZDCHF\",\"GBPCHF\",\"CHFJPY\",\"USDCHF\",\"AUDCHF\",\"CADCHF\",\"EURCHF\",\"NZDCHF\",\"GBPCHF\",\"CHFJPY\",\"USDCHF\",\"AUDCHF\",\"CADCHF\",\"EURCHF\",\"NZDCHF\",\"GBPCHF\",\"CHFJPY\",\"USDCHF\",\"AUDCHF\",\"CADCHF\",\"EURCHF\",\"NZDCHF\",\"GBPCHF\",\"CHFJPY\",\"USDCHF\",\"AUDCHF\",\"CADCHF\",\"EURCHF\",\"NZDCHF\",\"GBPCHF\",\"CHFJPY\",\"USDCHF\",\"AUDCHF\",\"CADCHF\",\"EURCHF\",\"NZDCHF\",\"GBPCHF\",\"CHFJPY\"]},\"selected\":{\"id\":\"5583\",\"type\":\"Selection\"},\"selection_policy\":{\"id\":\"5582\",\"type\":\"UnionRenderers\"}},\"id\":\"5381\",\"type\":\"ColumnDataSource\"},{\"attributes\":{\"grid_line_color\":null,\"ticker\":{\"id\":\"5369\",\"type\":\"CategoricalTicker\"}},\"id\":\"5371\",\"type\":\"Grid\"},{\"attributes\":{\"dimension\":1,\"grid_line_color\":null,\"ticker\":{\"id\":\"5373\",\"type\":\"CategoricalTicker\"}},\"id\":\"5375\",\"type\":\"Grid\"},{\"attributes\":{\"axis_line_color\":{\"value\":null},\"formatter\":{\"id\":\"5581\",\"type\":\"CategoricalTickFormatter\"},\"major_label_standoff\":0,\"major_label_text_font_size\":{\"value\":\"10pt\"},\"major_tick_line_color\":{\"value\":null},\"ticker\":{\"id\":\"5373\",\"type\":\"CategoricalTicker\"}},\"id\":\"5372\",\"type\":\"CategoricalAxis\"},{\"attributes\":{},\"id\":\"5583\",\"type\":\"Selection\"},{\"attributes\":{},\"id\":\"5579\",\"type\":\"CategoricalTickFormatter\"},{\"attributes\":{\"callback\":null,\"tooltips\":[[\"currencies\",\"@yname, @xname\"],[\"correlation\",\"@correlation\"]]},\"id\":\"5376\",\"type\":\"HoverTool\"},{\"attributes\":{\"fill_alpha\":{\"field\":\"alphas\"},\"fill_color\":{\"field\":\"colors\"},\"height\":{\"units\":\"data\",\"value\":0.9},\"line_alpha\":{\"field\":\"alphas\"},\"line_color\":{\"value\":null},\"width\":{\"units\":\"data\",\"value\":0.9},\"x\":{\"field\":\"xname\"},\"y\":{\"field\":\"yname\"}},\"id\":\"5383\",\"type\":\"Rect\"}],\"root_ids\":[\"5357\"]},\"title\":\"Bokeh Application\",\"version\":\"1.3.4\"}};\n",
       "  var render_items = [{\"docid\":\"a31a7ad4-6c21-4431-9ab9-ab4fc42dbdac\",\"roots\":{\"5357\":\"69c9ffe5-a365-42ec-9eab-36543080285c\"}}];\n",
       "  root.Bokeh.embed.embed_items_notebook(docs_json, render_items);\n",
       "\n",
       "  }\n",
       "  if (root.Bokeh !== undefined) {\n",
       "    embed_document(root);\n",
       "  } else {\n",
       "    var attempts = 0;\n",
       "    var timer = setInterval(function(root) {\n",
       "      if (root.Bokeh !== undefined) {\n",
       "        embed_document(root);\n",
       "        clearInterval(timer);\n",
       "      }\n",
       "      attempts++;\n",
       "      if (attempts > 100) {\n",
       "        console.log(\"Bokeh: ERROR: Unable to run BokehJS code because BokehJS library is missing\");\n",
       "        clearInterval(timer);\n",
       "      }\n",
       "    }, 10, root)\n",
       "  }\n",
       "})(window);"
      ],
      "application/vnd.bokehjs_exec.v0+json": ""
     },
     "metadata": {
      "application/vnd.bokehjs_exec.v0+json": {
       "id": "5357"
      }
     },
     "output_type": "display_data"
    }
   ],
   "source": [
    "N = correlations.shape[0]\n",
    "currencies = correlations.index.to_list()\n",
    "\n",
    "group_indices_sort = group.argsort()\n",
    "sorted_currencies = np.array(currencies)[group_indices_sort]\n",
    "\n",
    "\n",
    "colormap = [\"#444444\", \"#a6cee3\", \"#1f78b4\", \"#b2df8a\", \"#33a02c\", \"#fb9a99\",\n",
    "            \"#e31a1c\", \"#fdbf6f\", \"#ff7f00\", \"#cab2d6\", \"#6a3d9a\"]\n",
    "\n",
    "xname = []\n",
    "yname = []\n",
    "color = []\n",
    "alpha = []\n",
    "groups_pair = []\n",
    "\n",
    "for x_i in range(N):\n",
    "    for y_i in range(N):\n",
    "        x_currency = sorted_currencies[x_i]\n",
    "        y_currency = sorted_currencies[y_i]\n",
    "        xname.append(x_currency)\n",
    "        yname.append(y_currency)\n",
    "\n",
    "        alpha.append(min(np.abs(correlations[y_currency][x_currency]), 0.9) + 0.1)\n",
    "        \n",
    "        # Color the different clusters\n",
    "        if group[x_i] == group[y_i]:\n",
    "            color.append(colormap[group[x_i]%len(colormap)])\n",
    "           # color.append('black')\n",
    "        else:\n",
    "            color.append('lightgray')\n",
    "        \n",
    "        groups_pair.append(group[x_i], group[y_i])\n",
    "data=dict(\n",
    "    xname=xname,\n",
    "    yname=yname,\n",
    "    colors=color,\n",
    "    alphas=alpha,\n",
    "    correlation=np.array(correlations).flatten(),\n",
    ")\n",
    "\n",
    "p = figure(title=\"Currency corrleations\",\n",
    "           x_axis_location=\"above\", tools=\"hover,save\",\n",
    "           x_range=list(reversed(currencies)), y_range=currencies,\n",
    "           tooltips = [('currencies', '@yname, @xname'), ('correlation', '@correlation')])\n",
    "\n",
    "p.plot_width = 600\n",
    "p.plot_height = 600\n",
    "p.grid.grid_line_color = None\n",
    "p.axis.axis_line_color = None\n",
    "p.axis.major_tick_line_color = None\n",
    "p.axis.major_label_text_font_size = \"10pt\"\n",
    "p.axis.major_label_standoff = 0\n",
    "p.xaxis.major_label_orientation = np.pi/3\n",
    "\n",
    "p.rect('xname', 'yname', 0.9, 0.9, source=data,\n",
    "       color='colors', alpha='alphas', line_color=None,\n",
    "       hover_line_color='black', hover_color='colors')\n",
    "\n",
    "show(p) # show the plotn"
   ]
  },
  {
   "cell_type": "code",
   "execution_count": null,
   "metadata": {},
   "outputs": [],
   "source": []
  },
  {
   "cell_type": "code",
   "execution_count": null,
   "metadata": {},
   "outputs": [],
   "source": []
  }
 ],
 "metadata": {
  "kernelspec": {
   "display_name": "Python 3",
   "language": "python",
   "name": "python3"
  },
  "language_info": {
   "codemirror_mode": {
    "name": "ipython",
    "version": 3
   },
   "file_extension": ".py",
   "mimetype": "text/x-python",
   "name": "python",
   "nbconvert_exporter": "python",
   "pygments_lexer": "ipython3",
   "version": "3.7.4"
  }
 },
 "nbformat": 4,
 "nbformat_minor": 2
}
