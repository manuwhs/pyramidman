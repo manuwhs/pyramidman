{
 "cells": [
  {
   "cell_type": "markdown",
   "metadata": {},
   "source": [
    "# DevOps of traphing\n",
    "\n",
    "We are creating a python library that will be readily available in pip. In this endevour, there is a set of DevOps considerations that we should take into account. In this notebook, we will review most of them. \n",
    "\n",
    "The code in the Github project is divided in the following files and directories:\n",
    "- **traphing/**: Folder with the actual traphing library. When the library is installed through pip, this is the only code that will be loaded.\n",
    "- **tests/**: A set of Unit tests for the traphing library. They are meant to be run with pytest.\n",
    "- **scripts/**: Example useful scripts to play with the library and make batch jobs.\n",
    "- **notebooks/**: A set of notebooks that explain the core elments of the library.\n",
    "\n",
    "- README.md: Text file containing the description of the traphing library to be displayed in Github.\n",
    "- requirements.txt: The library dependencies of the traphing library. When people install traphing through pip, the libraries in this file will also be installed if they are not already.\n",
    "- requirements_dev.txt: Special dependencies for developers of the library. For example pytest for testing.\n",
    "- .gitignore: Text file telling github which files it should not commit. For exmaple the .pyc files."
   ]
  },
  {
   "cell_type": "markdown",
   "metadata": {},
   "source": [
    "## How to install traphing\n",
    "\n",
    "The traphing library is available in the pip test, you can install it using the following pip command:\n",
    "```console\n",
    "pip install -i https://test.pypi.org/simple/ traphing\n",
    "```"
   ]
  },
  {
   "cell_type": "markdown",
   "metadata": {},
   "source": [
    "## How to import traphing\n",
    "\n",
    "When using the *import* statement, Pyhon will look for the selected module in a list of directories contained in the Python's system path. This list of directories will be scanned the list from beggining to end in an orderly fashion and the first appearance of the module will be loaded. By default the first elements of the list are:\n",
    "- The current directory: Modules in the same directory as the python script have the highest priority.\n",
    "- The Python environment's libraries folder: This is the folder where the code of installed libraries is stored.\n",
    "\n",
    "This list and can be accessed and modifed using the sys library."
   ]
  },
  {
   "cell_type": "code",
   "execution_count": 1,
   "metadata": {},
   "outputs": [
    {
     "name": "stdout",
     "output_type": "stream",
     "text": [
      "/home/montoya/Desktop/bolsa/Trapyng/Code/traphing/notebooks\n",
      "/home/montoya/anaconda3/envs/python36/lib/python37.zip\n",
      "/home/montoya/anaconda3/envs/python36/lib/python3.7\n",
      "/home/montoya/anaconda3/envs/python36/lib/python3.7/lib-dynload\n",
      "\n",
      "/home/montoya/anaconda3/envs/python36/lib/python3.7/site-packages\n",
      "/home/montoya/anaconda3/envs/python36/lib/python3.7/site-packages/IPython/extensions\n",
      "/home/montoya/.ipython\n"
     ]
    }
   ],
   "source": [
    "import sys\n",
    "print(\"\\n\".join(sys.path))"
   ]
  },
  {
   "cell_type": "markdown",
   "metadata": {},
   "source": [
    "While developing, we will have different versions of the traphing code in our machine, i.e the pip installed library and the git pulled development code. It is important to know how to import each of them. In the following we will see how to: \n",
    " - Import the installed pip version.\n",
    " - Import the locally downloaded code in order to develop.\n",
    " - Import parts of the library within the library."
   ]
  },
  {
   "cell_type": "markdown",
   "metadata": {},
   "source": [
    "### pip version\n",
    "\n",
    "To import the pip installed version, we just need to use the regular *import* statement. \n",
    "Beware that in the exceptional case where the code file is in a directory with the traphing code, that will be loaded instead."
   ]
  },
  {
   "cell_type": "code",
   "execution_count": 2,
   "metadata": {},
   "outputs": [],
   "source": [
    "if(False):\n",
    "    try:\n",
    "        import traphing  # pip installed version\n",
    "        print(traphing)\n",
    "    except: \n",
    "        print(\"traphing library not installed\")"
   ]
  },
  {
   "cell_type": "markdown",
   "metadata": {},
   "source": [
    "### local version\n",
    "\n",
    "In order to load a local version that is not in the same directory as the code fine, we need to add the local library path at the beginning of Python's environment path list. For example in the case of this notebook, the path with the traphing library folder is the one above so we include it with:"
   ]
  },
  {
   "cell_type": "code",
   "execution_count": 3,
   "metadata": {},
   "outputs": [
    {
     "name": "stdout",
     "output_type": "stream",
     "text": [
      "..\n",
      "/home/montoya/Desktop/bolsa/Trapyng/Code/traphing/notebooks\n",
      "/home/montoya/anaconda3/envs/python36/lib/python37.zip\n",
      "/home/montoya/anaconda3/envs/python36/lib/python3.7\n",
      "/home/montoya/anaconda3/envs/python36/lib/python3.7/lib-dynload\n",
      "\n",
      "/home/montoya/anaconda3/envs/python36/lib/python3.7/site-packages\n",
      "/home/montoya/anaconda3/envs/python36/lib/python3.7/site-packages/IPython/extensions\n",
      "/home/montoya/.ipython\n"
     ]
    }
   ],
   "source": [
    "sys.path.insert(0,\"..\") # Adds higher directory to python modules path.\n",
    "print(\"\\n\".join(sys.path))"
   ]
  },
  {
   "cell_type": "code",
   "execution_count": 4,
   "metadata": {},
   "outputs": [
    {
     "data": {
      "text/plain": [
       "<module 'traphing' from '../traphing/__init__.py'>"
      ]
     },
     "execution_count": 4,
     "metadata": {},
     "output_type": "execute_result"
    }
   ],
   "source": [
    "# del traphing  # Delete to be able to load it again\n",
    "import traphing #locally downloaded version (dev)\n",
    "traphing"
   ]
  },
  {
   "cell_type": "markdown",
   "metadata": {},
   "source": [
    "### Inside the traphing library\n",
    "\n",
    "Inside the library, we import code using \".\" through the modules. For example:"
   ]
  },
  {
   "cell_type": "code",
   "execution_count": 5,
   "metadata": {},
   "outputs": [
    {
     "name": "stdout",
     "output_type": "stream",
     "text": [
      "import numpy as np\n",
      "import datetime as dt\n",
      "\n",
      "from typing import List\n",
      "from ... import utils\n",
      "from ...utils import Timeframes\n",
      "from ...data_classes import Symbol\n",
      "\n"
     ]
    }
   ],
   "source": [
    "with open(\"../traphing/data_classes/_Portfolio/_core_functions.py\", \"r\") as traphing_file:\n",
    "    traphing_file_text = traphing_file.read()\n",
    "first_lines = \"\\n\".join([traphing_file_text.split(\"\\n\")[i] for i in range(8)])\n",
    "print(first_lines)"
   ]
  },
  {
   "cell_type": "markdown",
   "metadata": {},
   "source": [
    "## Restart Python kernels when developing the library\n",
    "\n",
    "If you are modifying the code in the library, remember to restart the kernel, otherwise it will not load the new version of the library even if you run again the cell that imports them."
   ]
  },
  {
   "cell_type": "markdown",
   "metadata": {},
   "source": [
    "## Running tests\n",
    "\n",
    "In order to run the tests, open a terminal and go to the tests directory in the repository. From there use pytest commands to run them. In the easiest case where we want to perform all tests, simply execute:\n",
    "```console\n",
    "pytest\n",
    "```\n",
    "\n",
    "The following code will trigger the test by calling pytest from Python."
   ]
  },
  {
   "cell_type": "code",
   "execution_count": 10,
   "metadata": {},
   "outputs": [],
   "source": [
    "from traphing.utils import call_subprocess\n",
    "import os"
   ]
  },
  {
   "cell_type": "code",
   "execution_count": 11,
   "metadata": {},
   "outputs": [
    {
     "name": "stdout",
     "output_type": "stream",
     "text": [
      "============================= test session starts ==============================\n",
      "platform linux -- Python 3.7.4, pytest-5.1.2, py-1.8.0, pluggy-0.13.0\n",
      "rootdir: /home/montoya/Desktop/bolsa/Trapyng/Code/traphing\n",
      "collected 33 items\n",
      "\n",
      "test_MarketHours.py ............                                         [ 36%]\n",
      "test_Portfolio.py ...                                                    [ 45%]\n",
      "test_SpecialMarketHours.py ...                                           [ 54%]\n",
      "test_Symbol.py .....                                                     [ 69%]\n",
      "test_Velas.py .........                                                  [ 96%]\n",
      "test_Velas_indicators.py .                                               [100%]\n",
      "\n",
      "============================== 33 passed in 5.65s ==============================\n",
      "\n"
     ]
    }
   ],
   "source": [
    "os.chdir(\"../tests\")\n",
    "\n",
    "cmd = \"pytest\"\n",
    "try:\n",
    "    output, error, code = call_subprocess(cmd)\n",
    "    print(output) \n",
    "except:\n",
    "    os.chdir(\"../notebooks\")"
   ]
  },
  {
   "cell_type": "markdown",
   "metadata": {},
   "source": [
    "## Building the pip library\n",
    "\n",
    "In order to publish a new version traphing, we just need to execute the setup.py file in the main folder. The main things to be modified when changing to a new version are:\n",
    "- version: Create a new version\n",
    "- author: Add yourself to the author list.\n",
    "\n",
    "If new libraries are used by the library remember to include them in the requirements files."
   ]
  },
  {
   "cell_type": "code",
   "execution_count": 8,
   "metadata": {},
   "outputs": [
    {
     "name": "stdout",
     "output_type": "stream",
     "text": [
      "from setuptools import setup, find_packages\n",
      "\n",
      "with open(\"README.md\", \"r\") as readme_file:\n",
      "    readme = readme_file.read()\n",
      "with open(\"requirements.txt\", \"r\") as readme_file:\n",
      "    requirements = readme_file.read().split(\"\\n\")\n",
      "\n",
      "setup(\n",
      "    name=\"traphing\",\n",
      "    version=\"0.1.0\",\n",
      "    author=\"Manuel Montoya\",\n",
      "    author_email=\"manuwhs@gmail.com\",\n",
      "    description=\"A package to make trading in python easier\",\n",
      "    long_description=readme,\n",
      "    long_description_content_type=\"text/markdown\",\n",
      "    url=\"https://github.com/manuwhs/traphing\",\n",
      "    packages=find_packages(),\n",
      "    install_requires=requirements,\n",
      "    include_package_data=True,\n",
      "    classifiers=[\n",
      "        \"Programming Language :: Python :: 3.7\",\n",
      "        \"License :: OSI Approved :: GNU General Public License v3 (GPLv3)\",\n",
      "    ],\n",
      ")\n",
      "\n"
     ]
    }
   ],
   "source": [
    "with open(\"../setup.py\", \"r\") as readme_file:\n",
    "    readme = readme_file.read()\n",
    "print(readme)"
   ]
  },
  {
   "cell_type": "markdown",
   "metadata": {},
   "source": [
    "In order to build the library execute:\n",
    "\n",
    "\n",
    "```console\n",
    "python setup.py sdist bdist_wheel\n",
    "```\n",
    "Remember to delete the previous build/ and dist/ folders!\n",
    "\n",
    "And in order to upload it to pypi test:\n",
    "```console\n",
    "python3 -m twine upload --repository-url https://test.pypi.org/legacy/ dist/*\n",
    "```\n",
    "username: manuwhs\n",
    "password: putoTest\n",
    "\n"
   ]
  },
  {
   "cell_type": "markdown",
   "metadata": {},
   "source": [
    "## Requirements\n",
    "\n",
    "As previously stated, there are 2 text files with the dependencies of the library:\n",
    "- **requirements.txt**: The library dependencies of the traphing library. When people install traphing through pip, the libraries in this file will also be installed if they are not already.\n",
    "- **requirements_dev.txt**: Special dependencies for developers of the library. For example pytest for testing.\n",
    "\n",
    "In order to install the libraries in these files just execute in a terminal:\n",
    "```console\n",
    "pip install -r ./requirements_dev.txt\n",
    "```\n",
    "\n",
    "The following python code displays the current development dependencies."
   ]
  },
  {
   "cell_type": "code",
   "execution_count": 9,
   "metadata": {},
   "outputs": [
    {
     "name": "stdout",
     "output_type": "stream",
     "text": [
      "black>=18.9b0\n",
      "pip>=19.0.3\n",
      "wheel>=0.33.1\n",
      "twine>=1.13.0\n",
      "pytest>=5.2.1\n",
      "jupyter>=1.0.0\n",
      "\n"
     ]
    }
   ],
   "source": [
    "with open(\"../requirements_dev.txt\", \"r\") as readme_file:\n",
    "    readme = readme_file.read()\n",
    "print(readme)"
   ]
  },
  {
   "cell_type": "markdown",
   "metadata": {},
   "source": [
    "## Git flow\n",
    "\n",
    "Useful commands:\n",
    " - git add -A\n",
    " - git commit -m\"I am not affraid of commitment\"\n",
    " - git push \n",
    " \n",
    "- git checkout "
   ]
  },
  {
   "cell_type": "code",
   "execution_count": null,
   "metadata": {},
   "outputs": [],
   "source": []
  }
 ],
 "metadata": {
  "kernelspec": {
   "display_name": "Python 3",
   "language": "python",
   "name": "python3"
  },
  "language_info": {
   "codemirror_mode": {
    "name": "ipython",
    "version": 3
   },
   "file_extension": ".py",
   "mimetype": "text/x-python",
   "name": "python",
   "nbconvert_exporter": "python",
   "pygments_lexer": "ipython3",
   "version": "3.7.4"
  }
 },
 "nbformat": 4,
 "nbformat_minor": 2
}
