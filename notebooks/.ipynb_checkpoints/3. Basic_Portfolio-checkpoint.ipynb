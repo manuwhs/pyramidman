{
 "cells": [
  {
   "cell_type": "markdown",
   "metadata": {},
   "source": [
    "## Porfolio Class\n",
    "\n",
    "The Portfolio class encapsulates a set of Symbol objects and adds much of the functionality\n",
    "\n",
    "It provides the same set of functionalities of Velas so that we can load all the information at several levels automatically. \n",
    "\n"
   ]
  },
  {
   "cell_type": "markdown",
   "metadata": {},
   "source": [
    "### Import libraries\n",
    "We import the needed standard libraries first. Then we add the directory above path to the system so that when import the library, it will load the local version in the folder, instead of the version installed with pip. Finally we load the classes, functions and enums from the library, which we are going to use."
   ]
  },
  {
   "cell_type": "code",
   "execution_count": 3,
   "metadata": {},
   "outputs": [],
   "source": [
    "import sys\n",
    "import datetime as dt\n",
    "import pandas as pd\n",
    "from IPython.display import Image\n",
    "%matplotlib qt \n",
    "\n",
    "sys.path.append(\"..\") # Adds higher directory to python modules path.\n",
    "\n",
    "from traphing.data_classes import Velas, Symbol, Portfolio\n",
    "from traphing.utils import Timeframes\n",
    "\n",
    "from traphing.graph.graph_lib import gl"
   ]
  },
  {
   "cell_type": "markdown",
   "metadata": {},
   "source": [
    "## Symbol information\n",
    "\n",
    "In order to specify the candlestick data that we will operate with we specify:\n",
    " - symbol_name: \n",
    " - timeframe: \n",
    "\n",
    "Optionally we can also only access to a certain data of the dataset given by start_time and end_time"
   ]
  },
  {
   "cell_type": "code",
   "execution_count": 5,
   "metadata": {},
   "outputs": [
    {
     "name": "stdout",
     "output_type": "stream",
     "text": [
      "<class 'traphing.data_classes._Symbol._Symbol.Symbol'>\n"
     ]
    }
   ],
   "source": [
    "symbol_name = \"AUDCHF\"\n",
    "timeframes = [Timeframes.M15, Timeframes.D1]\n",
    "my_symbol = Symbol(symbol_name, timeframes)\n",
    "\n",
    "print (type(my_symbol))"
   ]
  },
  {
   "cell_type": "markdown",
   "metadata": {},
   "source": [
    "### Accessing, Adding and removing velas\n",
    "\n",
    "We can easily access, add, and delete velas inside the object.\n"
   ]
  },
  {
   "cell_type": "code",
   "execution_count": 6,
   "metadata": {},
   "outputs": [
    {
     "data": {
      "text/plain": [
       "[<Timeframes.M15: 2>, <Timeframes.D1: 6>]"
      ]
     },
     "execution_count": 6,
     "metadata": {},
     "output_type": "execute_result"
    }
   ],
   "source": [
    "my_symbol.timeframes"
   ]
  },
  {
   "cell_type": "code",
   "execution_count": 8,
   "metadata": {},
   "outputs": [
    {
     "name": "stdout",
     "output_type": "stream",
     "text": [
      "<class 'traphing.data_classes._Velas._Velas.Velas'>\n"
     ]
    }
   ],
   "source": [
    "velas_15M = my_symbol[Timeframes.M15]\n",
    "print(type(velas_15M))"
   ]
  },
  {
   "cell_type": "code",
   "execution_count": 11,
   "metadata": {},
   "outputs": [
    {
     "name": "stdout",
     "output_type": "stream",
     "text": [
      "[<Timeframes.M15: 2>, <Timeframes.D1: 6>, <Timeframes.M5: 1>]\n"
     ]
    }
   ],
   "source": [
    "my_symbol.add_velas(Timeframes.M5, None)\n",
    "print (my_symbol.timeframes)"
   ]
  },
  {
   "cell_type": "code",
   "execution_count": 12,
   "metadata": {},
   "outputs": [
    {
     "name": "stdout",
     "output_type": "stream",
     "text": [
      "[<Timeframes.M15: 2>, <Timeframes.D1: 6>]\n"
     ]
    }
   ],
   "source": [
    "my_symbol.del_velas(Timeframes.M5)\n",
    "print (my_symbol.timeframes)"
   ]
  },
  {
   "cell_type": "markdown",
   "metadata": {},
   "source": [
    "## Loading the data from CSV\n",
    "\n",
    "The Symbol class makes it easy to load the candlestick data from difference sources at once."
   ]
  },
  {
   "cell_type": "code",
   "execution_count": 13,
   "metadata": {},
   "outputs": [
    {
     "name": "stdout",
     "output_type": "stream",
     "text": [
      "Size ../tests/data/storage/M15/AUDCHF_M15.csv:  100400  rows\n",
      "Size ../tests/data/storage/D1/AUDCHF_D1.csv:  4894  rows\n"
     ]
    }
   ],
   "source": [
    "source_broker = \"MQL5\"\n",
    "storage_folder = \"../tests/data/storage/\"\n",
    "my_symbol.load_data_from_csv(storage_folder)"
   ]
  },
  {
   "cell_type": "markdown",
   "metadata": {},
   "source": [
    "## Set interval\n",
    "The interval applied to the symbol is applied to all of its associated velas"
   ]
  },
  {
   "cell_type": "code",
   "execution_count": 15,
   "metadata": {},
   "outputs": [],
   "source": [
    "start_time = dt.datetime(2019,7,20)\n",
    "end_time = dt.datetime(2019,8,20)\n",
    "\n",
    "my_symbol.set_time_interval(start_time, end_time, trim = False)"
   ]
  },
  {
   "cell_type": "code",
   "execution_count": 20,
   "metadata": {},
   "outputs": [
    {
     "data": {
      "text/html": [
       "<div>\n",
       "<style scoped>\n",
       "    .dataframe tbody tr th:only-of-type {\n",
       "        vertical-align: middle;\n",
       "    }\n",
       "\n",
       "    .dataframe tbody tr th {\n",
       "        vertical-align: top;\n",
       "    }\n",
       "\n",
       "    .dataframe thead th {\n",
       "        text-align: right;\n",
       "    }\n",
       "</style>\n",
       "<table border=\"1\" class=\"dataframe\">\n",
       "  <thead>\n",
       "    <tr style=\"text-align: right;\">\n",
       "      <th></th>\n",
       "      <th>Open</th>\n",
       "      <th>High</th>\n",
       "      <th>Low</th>\n",
       "      <th>Close</th>\n",
       "      <th>Volume</th>\n",
       "    </tr>\n",
       "    <tr>\n",
       "      <th>Date</th>\n",
       "      <th></th>\n",
       "      <th></th>\n",
       "      <th></th>\n",
       "      <th></th>\n",
       "      <th></th>\n",
       "    </tr>\n",
       "  </thead>\n",
       "  <tbody>\n",
       "    <tr>\n",
       "      <td>2019-07-22 00:00:00</td>\n",
       "      <td>0.69208</td>\n",
       "      <td>0.69241</td>\n",
       "      <td>0.69173</td>\n",
       "      <td>0.69213</td>\n",
       "      <td>58.0</td>\n",
       "    </tr>\n",
       "    <tr>\n",
       "      <td>2019-07-22 00:15:00</td>\n",
       "      <td>0.69208</td>\n",
       "      <td>0.69240</td>\n",
       "      <td>0.69124</td>\n",
       "      <td>0.69203</td>\n",
       "      <td>187.0</td>\n",
       "    </tr>\n",
       "    <tr>\n",
       "      <td>2019-07-22 00:30:00</td>\n",
       "      <td>0.69209</td>\n",
       "      <td>0.69253</td>\n",
       "      <td>0.69167</td>\n",
       "      <td>0.69171</td>\n",
       "      <td>411.0</td>\n",
       "    </tr>\n",
       "    <tr>\n",
       "      <td>2019-07-22 00:45:00</td>\n",
       "      <td>0.69199</td>\n",
       "      <td>0.69232</td>\n",
       "      <td>0.69143</td>\n",
       "      <td>0.69185</td>\n",
       "      <td>182.0</td>\n",
       "    </tr>\n",
       "    <tr>\n",
       "      <td>2019-07-22 01:00:00</td>\n",
       "      <td>0.69209</td>\n",
       "      <td>0.69222</td>\n",
       "      <td>0.69142</td>\n",
       "      <td>0.69153</td>\n",
       "      <td>267.0</td>\n",
       "    </tr>\n",
       "  </tbody>\n",
       "</table>\n",
       "</div>"
      ],
      "text/plain": [
       "                        Open     High      Low    Close  Volume\n",
       "Date                                                           \n",
       "2019-07-22 00:00:00  0.69208  0.69241  0.69173  0.69213    58.0\n",
       "2019-07-22 00:15:00  0.69208  0.69240  0.69124  0.69203   187.0\n",
       "2019-07-22 00:30:00  0.69209  0.69253  0.69167  0.69171   411.0\n",
       "2019-07-22 00:45:00  0.69199  0.69232  0.69143  0.69185   182.0\n",
       "2019-07-22 01:00:00  0.69209  0.69222  0.69142  0.69153   267.0"
      ]
     },
     "execution_count": 20,
     "metadata": {},
     "output_type": "execute_result"
    }
   ],
   "source": [
    "my_symbol[Timeframes.M15].df.head(5)"
   ]
  },
  {
   "cell_type": "code",
   "execution_count": 21,
   "metadata": {},
   "outputs": [
    {
     "data": {
      "text/html": [
       "<div>\n",
       "<style scoped>\n",
       "    .dataframe tbody tr th:only-of-type {\n",
       "        vertical-align: middle;\n",
       "    }\n",
       "\n",
       "    .dataframe tbody tr th {\n",
       "        vertical-align: top;\n",
       "    }\n",
       "\n",
       "    .dataframe thead th {\n",
       "        text-align: right;\n",
       "    }\n",
       "</style>\n",
       "<table border=\"1\" class=\"dataframe\">\n",
       "  <thead>\n",
       "    <tr style=\"text-align: right;\">\n",
       "      <th></th>\n",
       "      <th>Open</th>\n",
       "      <th>High</th>\n",
       "      <th>Low</th>\n",
       "      <th>Close</th>\n",
       "      <th>Volume</th>\n",
       "    </tr>\n",
       "    <tr>\n",
       "      <th>Date</th>\n",
       "      <th></th>\n",
       "      <th></th>\n",
       "      <th></th>\n",
       "      <th></th>\n",
       "      <th></th>\n",
       "    </tr>\n",
       "  </thead>\n",
       "  <tbody>\n",
       "    <tr>\n",
       "      <td>2019-07-22</td>\n",
       "      <td>0.69208</td>\n",
       "      <td>0.69299</td>\n",
       "      <td>0.69035</td>\n",
       "      <td>0.69067</td>\n",
       "      <td>45803.0</td>\n",
       "    </tr>\n",
       "    <tr>\n",
       "      <td>2019-07-23</td>\n",
       "      <td>0.69067</td>\n",
       "      <td>0.69213</td>\n",
       "      <td>0.68852</td>\n",
       "      <td>0.68991</td>\n",
       "      <td>52588.0</td>\n",
       "    </tr>\n",
       "    <tr>\n",
       "      <td>2019-07-24</td>\n",
       "      <td>0.68991</td>\n",
       "      <td>0.69014</td>\n",
       "      <td>0.68677</td>\n",
       "      <td>0.68678</td>\n",
       "      <td>54249.0</td>\n",
       "    </tr>\n",
       "    <tr>\n",
       "      <td>2019-07-25</td>\n",
       "      <td>0.68680</td>\n",
       "      <td>0.69041</td>\n",
       "      <td>0.68601</td>\n",
       "      <td>0.68844</td>\n",
       "      <td>67797.0</td>\n",
       "    </tr>\n",
       "    <tr>\n",
       "      <td>2019-07-26</td>\n",
       "      <td>0.68854</td>\n",
       "      <td>0.68894</td>\n",
       "      <td>0.68565</td>\n",
       "      <td>0.68609</td>\n",
       "      <td>48966.0</td>\n",
       "    </tr>\n",
       "  </tbody>\n",
       "</table>\n",
       "</div>"
      ],
      "text/plain": [
       "               Open     High      Low    Close   Volume\n",
       "Date                                                   \n",
       "2019-07-22  0.69208  0.69299  0.69035  0.69067  45803.0\n",
       "2019-07-23  0.69067  0.69213  0.68852  0.68991  52588.0\n",
       "2019-07-24  0.68991  0.69014  0.68677  0.68678  54249.0\n",
       "2019-07-25  0.68680  0.69041  0.68601  0.68844  67797.0\n",
       "2019-07-26  0.68854  0.68894  0.68565  0.68609  48966.0"
      ]
     },
     "execution_count": 21,
     "metadata": {},
     "output_type": "execute_result"
    }
   ],
   "source": [
    "my_symbol[Timeframes.D1].df.head(5)"
   ]
  },
  {
   "cell_type": "markdown",
   "metadata": {},
   "source": [
    "## Indicators\n",
    "\n",
    "The new indicators"
   ]
  },
  {
   "cell_type": "markdown",
   "metadata": {},
   "source": [
    "## Plottings\n",
    "\n",
    "We can access the same plottings that are in velas through it, and also special ones that need to be obtained from having different timeframes of the dataset. Usually, plotting exotic indicators that require extra work."
   ]
  },
  {
   "cell_type": "code",
   "execution_count": null,
   "metadata": {},
   "outputs": [],
   "source": []
  }
 ],
 "metadata": {
  "kernelspec": {
   "display_name": "Python 3",
   "language": "python",
   "name": "python3"
  },
  "language_info": {
   "codemirror_mode": {
    "name": "ipython",
    "version": 3
   },
   "file_extension": ".py",
   "mimetype": "text/x-python",
   "name": "python",
   "nbconvert_exporter": "python",
   "pygments_lexer": "ipython3",
   "version": "3.7.4"
  }
 },
 "nbformat": 4,
 "nbformat_minor": 2
}
