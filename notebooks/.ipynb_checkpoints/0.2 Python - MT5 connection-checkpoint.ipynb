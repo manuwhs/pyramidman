{
 "cells": [
  {
   "cell_type": "markdown",
   "metadata": {},
   "source": [
    "# Python - MT5 connection\n",
    "\n",
    "The traphing library is specially designed to interact with the Metatrader 5 (MT5) software in order to fetch the data, make orders... The general properties of this communication system are:\n",
    "- It is based on sockets.\n",
    "- The MQL5 scripts need to be moved to the MT5 folder.\n",
    "- Sadly, it requires you to execute a MQL5 script in your MT5 to establish the connection.\n",
    "\n",
    "\n",
    "<b>Disclaimer</b>: There is currently a library for interacting with MT5 in python https://pypi.org/project/MetaTrader5/. But it is only available for Windows, and as good Linux nerds, we could not help it but building the entire communication system from scratch using sockets."
   ]
  },
  {
   "cell_type": "markdown",
   "metadata": {},
   "source": [
    "## MQL5 files\n",
    "\n",
    "In order to establish the connection between traphing and MT5, the corresponding MQL5 script needs to be executed, and for that, the MQL5 files inside the library need to be moved to your MT5 directory.\n",
    "\n",
    "The first step needed is to place the MQL5 files in your MT5 directory. The contents of this folder is shown as follows:\n",
    "\n",
    "![title](./images/MT5/MT5_files.png)\n",
    "\n",
    "Inside the MT5 folder you will find a set of important subdirectories:\n",
    "- Include: Where the MQL5 libraries (.mqh files) are stored.\n",
    "- Scripts: Where the MQL5 files (.mql5 files) are stored.\n",
    "- Files: Where the files created from the MQL5 code are saved to.\n",
    "\n",
    "![title](./images/MT5/MT5_MQL5_files.png)\n"
   ]
  },
  {
   "cell_type": "markdown",
   "metadata": {},
   "source": [
    "### Import libraries"
   ]
  },
  {
   "cell_type": "code",
   "execution_count": 1,
   "metadata": {},
   "outputs": [],
   "source": [
    "import sys\n",
    "sys.path.insert(0,\"..\") # Adds higher directory to python modules path.\n",
    "\n",
    "from traphing.data_classes import Velas\n",
    "from traphing.utils import Timeframes, unwrap, export_MQL5_files, import_MQL5_files_for_library_update"
   ]
  },
  {
   "cell_type": "markdown",
   "metadata": {},
   "source": [
    "## Export traphing MQL5 files\n",
    "\n",
    "In order to execute the files in MT5, we move them to the MT5 folder. For this purpose we use the following function."
   ]
  },
  {
   "cell_type": "code",
   "execution_count": 5,
   "metadata": {},
   "outputs": [
    {
     "name": "stdout",
     "output_type": "stream",
     "text": [
      "Copied files from ../traphing/MQL5/ to ../../../MT5/MQL5/MQL5/\n",
      "  ../../../MT5/MQL5/MQL5/Include/traphing/trading_lib.mqh\n",
      "  ../../../MT5/MQL5/MQL5/Include/traphing/util.mqh\n",
      "  ../../../MT5/MQL5/MQL5/Include/traphing/socket_lib.mqh\n",
      "  ../../../MT5/MQL5/MQL5/Include/traphing/broker_to_csv.mqh\n",
      "  ../../../MT5/MQL5/MQL5/Include/traphing/print_info.mqh\n",
      "  ../../../MT5/MQL5/MQL5/Include/traphing/socket_commands.mqh\n",
      "  ../../../MT5/MQL5/MQL5/Scripts/traphing/library_experiments.mq5\n",
      "  ../../../MT5/MQL5/MQL5/Scripts/traphing/historic_downloader_python.mq5\n",
      "  ../../../MT5/MQL5/MQL5/Scripts/traphing/Server_socket.mq5\n",
      "  ../../../MT5/MQL5/MQL5/Scripts/traphing/All_data_to_csv_downloader.mq5\n"
     ]
    }
   ],
   "source": [
    "MT5_folder = \"../../../MT5/MQL5/\" ## CHANGE TO YOUR MT5 LOCATION \n",
    "export_MQL5_files(MT5_folder)"
   ]
  },
  {
   "cell_type": "markdown",
   "metadata": {},
   "source": [
    "## Import the MQL5 files\n",
    "\n",
    "When we have been updating the MQL5 files in our MT5 folder and we want to commit the changes, we can execute this function in order to copy the new updated code files into the library folder. Of course this can also be done manually but we are cooler than that."
   ]
  },
  {
   "cell_type": "code",
   "execution_count": 3,
   "metadata": {},
   "outputs": [
    {
     "name": "stdout",
     "output_type": "stream",
     "text": [
      "../traphing/MQL5/Include/traphing/trading_lib.mqh\n",
      "../traphing/MQL5/Include/traphing/util.mqh\n",
      "../traphing/MQL5/Include/traphing/socket_lib.mqh\n",
      "../traphing/MQL5/Include/traphing/broker_to_csv.mqh\n",
      "../traphing/MQL5/Include/traphing/print_info.mqh\n",
      "../traphing/MQL5/Include/traphing/socket_commands.mqh\n",
      "../traphing/MQL5/Scripts/traphing/library_experiments.mq5\n",
      "../traphing/MQL5/Scripts/traphing/historic_downloader_python.mq5\n",
      "../traphing/MQL5/Scripts/traphing/Server_socket.mq5\n",
      "../traphing/MQL5/Scripts/traphing/All_data_to_csv_downloader.mq5\n"
     ]
    }
   ],
   "source": [
    "import_MQL5_files_for_library_update(MT5_folder)"
   ]
  },
  {
   "cell_type": "code",
   "execution_count": null,
   "metadata": {},
   "outputs": [],
   "source": []
  }
 ],
 "metadata": {
  "kernelspec": {
   "display_name": "Python 3",
   "language": "python",
   "name": "python3"
  },
  "language_info": {
   "codemirror_mode": {
    "name": "ipython",
    "version": 3
   },
   "file_extension": ".py",
   "mimetype": "text/x-python",
   "name": "python",
   "nbconvert_exporter": "python",
   "pygments_lexer": "ipython3",
   "version": "3.7.4"
  }
 },
 "nbformat": 4,
 "nbformat_minor": 2
}
