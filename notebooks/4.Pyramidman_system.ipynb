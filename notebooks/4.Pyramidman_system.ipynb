{
 "cells": [
  {
   "cell_type": "code",
   "execution_count": 67,
   "metadata": {},
   "outputs": [
    {
     "name": "stdout",
     "output_type": "stream",
     "text": [
      "The autoreload extension is already loaded. To reload it, use:\n",
      "  %reload_ext autoreload\n"
     ]
    }
   ],
   "source": [
    "%load_ext autoreload\n",
    "%autoreload 2\n",
    "\n",
    "from pyramidman.speech_commands import SpeechCommandsHandler\n",
    "from pyramidman.unwrapper import unwrap"
   ]
  },
  {
   "cell_type": "code",
   "execution_count": 68,
   "metadata": {},
   "outputs": [],
   "source": [
    "speech_command_handler = SpeechCommandsHandler(mode = \"active\")"
   ]
  },
  {
   "cell_type": "code",
   "execution_count": 69,
   "metadata": {},
   "outputs": [
    {
     "name": "stdout",
     "output_type": "stream",
     "text": [
      "<SpeechCommandsHandler>\tobject has children:\n",
      "    <str>\tkeyword:\tpyramid man\n",
      "    <str>\tmode:\tactive\n",
      "    <list>\tcommands\n",
      "\n",
      "  <list>\tcommands has children:\n",
      "      <dict>\tcommands[0]\n",
      "\n",
      "    <dict>\tcommands[0] has children:\n",
      "        <str>\tname:\tmusic_player\n",
      "        <list>\tsentences\n",
      "        <list>\tsentences\n",
      "        <list>\targs\n",
      "\n",
      "      <list>\targs has children:\n",
      "          <AudioParameters>\targs[0]\n",
      "\n",
      "        <AudioParameters>\targs[0] has children:\n",
      "            <int>\tchunk:\t1024\n",
      "            <int>\tsample_format:\t8\n",
      "            <NoneType>\tsubtype:\tNone\n",
      "            <int>\tchannels:\t1\n",
      "            <int>\tsample_rate:\t48000\n",
      "            <int>\tinput_device_index:\t0\n",
      "\n",
      "      <list>\tsentences has children:\n",
      "          <str>\tsentences[0]:\tplay music\n",
      "\n",
      "      <list>\tsentences has children:\n",
      "          <str>\tsentences[0]:\tplay music\n",
      "          <str>\tsentences[0]:\tplay music\n",
      "\n",
      "\n"
     ]
    }
   ],
   "source": [
    "unwrap(speech_command_handler)"
   ]
  },
  {
   "cell_type": "code",
   "execution_count": 70,
   "metadata": {},
   "outputs": [
    {
     "data": {
      "text/plain": [
       "[{'name': 'music_player',\n",
       "  'sentences': ['play music'],\n",
       "  'function': <function pyramidman.speech_commands.play_generic_sentence(audio_params, folder='../audios/temp/')>,\n",
       "  'args': [<pyramidman.audio_parameters.AudioParameters at 0x7f0142aad150>]}]"
      ]
     },
     "execution_count": 70,
     "metadata": {},
     "output_type": "execute_result"
    }
   ],
   "source": [
    "speech_command_handler.commands"
   ]
  },
  {
   "cell_type": "code",
   "execution_count": 76,
   "metadata": {},
   "outputs": [
    {
     "name": "stdout",
     "output_type": "stream",
     "text": [
      "keyword detected\n",
      "playing\n"
     ]
    }
   ],
   "source": [
    "speech_command_handler.process(\"the pyramid man play music\")"
   ]
  }
 ],
 "metadata": {
  "kernelspec": {
   "display_name": "Python 3",
   "language": "python",
   "name": "python3"
  },
  "language_info": {
   "codemirror_mode": {
    "name": "ipython",
    "version": 3
   },
   "file_extension": ".py",
   "mimetype": "text/x-python",
   "name": "python",
   "nbconvert_exporter": "python",
   "pygments_lexer": "ipython3",
   "version": "3.7.4"
  }
 },
 "nbformat": 4,
 "nbformat_minor": 2
}
