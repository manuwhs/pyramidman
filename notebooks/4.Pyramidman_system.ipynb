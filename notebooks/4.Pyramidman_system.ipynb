{
 "cells": [
  {
   "cell_type": "code",
   "execution_count": 1,
   "metadata": {},
   "outputs": [],
   "source": [
    "%load_ext autoreload\n",
    "%autoreload 2\n",
    "\n",
    "from pyramidman.speech_commands import SpeechCommandsHandler\n",
    "from pyramidman.Seshat import Transcriber\n",
    "from pyramidman.unwrapper import unwrap\n",
    "from pyramidman.meeting_facilitator import MeetingFacilitator"
   ]
  },
  {
   "cell_type": "markdown",
   "metadata": {},
   "source": [
    "# Meeting facilitator\n",
    "\n",
    "A meeting facilitator is basically a state machine that has a Transcriber, explained in the previous notebook, and a Command handler, with some visual extra steps. "
   ]
  },
  {
   "cell_type": "code",
   "execution_count": 36,
   "metadata": {},
   "outputs": [],
   "source": [
    "meeting_facilitator = MeetingFacilitator(\"my_meeting\")"
   ]
  },
  {
   "cell_type": "code",
   "execution_count": 37,
   "metadata": {},
   "outputs": [
    {
     "name": "stdout",
     "output_type": "stream",
     "text": [
      "<MeetingFacilitator>\tobject has children:\n",
      "    <str>\tmeeting_name:\tmy_meeting\n",
      "    <NoneType>\ttranscriber:\tNone\n",
      "    <NoneType>\tspeech_command_handler:\tNone\n",
      "    <NoneType>\t_stop_command_handler_in_background_func:\tNone\n",
      "    <bool>\t_is_handling_commands:\tFalse\n",
      "\n",
      "\n"
     ]
    }
   ],
   "source": [
    "unwrap(meeting_facilitator)"
   ]
  },
  {
   "cell_type": "code",
   "execution_count": 38,
   "metadata": {},
   "outputs": [
    {
     "name": "stdout",
     "output_type": "stream",
     "text": [
      "Calibrating microphone for 1 seconds.\n",
      "Calibrated energy threshold:  4378.622390469133\n"
     ]
    }
   ],
   "source": [
    "meeting_facilitator.set_automatic_default_transcriber()"
   ]
  },
  {
   "cell_type": "code",
   "execution_count": 39,
   "metadata": {},
   "outputs": [],
   "source": [
    "meeting_facilitator.set_default_speech_command_handler()"
   ]
  },
  {
   "cell_type": "code",
   "execution_count": 47,
   "metadata": {},
   "outputs": [
    {
     "name": "stdout",
     "output_type": "stream",
     "text": [
      "processing  piter had men play music pyramid men play music irate they used pyramid men\n",
      "processing  play music hir with men playing nurse jestress\n",
      "processing  i\n"
     ]
    }
   ],
   "source": [
    "meeting_facilitator.start()"
   ]
  },
  {
   "cell_type": "code",
   "execution_count": 48,
   "metadata": {},
   "outputs": [],
   "source": [
    "meeting_facilitator.stop()"
   ]
  },
  {
   "cell_type": "code",
   "execution_count": 49,
   "metadata": {},
   "outputs": [
    {
     "name": "stdout",
     "output_type": "stream",
     "text": [
      "<MeetingFacilitator>\tobject has children:\n",
      "    <str>\tmeeting_name:\tmy_meeting\n",
      "    <Transcriber>\ttranscriber\n",
      "    <SpeechCommandsHandler>\tspeech_command_handler\n",
      "    <SpeechCommandsHandler>\tspeech_command_handler\n",
      "    <bool>\t_is_handling_commands:\tFalse\n",
      "\n",
      "  <SpeechCommandsHandler>\tspeech_command_handler has children:\n",
      "\n",
      "  <SpeechCommandsHandler>\tspeech_command_handler has children:\n",
      "\n",
      "  <Transcriber>\ttranscriber has children:\n",
      "\n",
      "\n"
     ]
    }
   ],
   "source": [
    "unwrap(meeting_facilitator, max_level = 1)"
   ]
  },
  {
   "cell_type": "markdown",
   "metadata": {},
   "source": [
    "## Meeting Facilitator Control panel\n",
    "\n",
    "Small UI to visualize how the process is doing."
   ]
  },
  {
   "cell_type": "code",
   "execution_count": null,
   "metadata": {},
   "outputs": [],
   "source": []
  }
 ],
 "metadata": {
  "kernelspec": {
   "display_name": "Python 3",
   "language": "python",
   "name": "python3"
  },
  "language_info": {
   "codemirror_mode": {
    "name": "ipython",
    "version": 3
   },
   "file_extension": ".py",
   "mimetype": "text/x-python",
   "name": "python",
   "nbconvert_exporter": "python",
   "pygments_lexer": "ipython3",
   "version": "3.7.4"
  }
 },
 "nbformat": 4,
 "nbformat_minor": 2
}
