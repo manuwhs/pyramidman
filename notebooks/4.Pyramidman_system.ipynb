{
 "cells": [
  {
   "cell_type": "code",
   "execution_count": 23,
   "metadata": {},
   "outputs": [
    {
     "name": "stdout",
     "output_type": "stream",
     "text": [
      "The autoreload extension is already loaded. To reload it, use:\n",
      "  %reload_ext autoreload\n"
     ]
    }
   ],
   "source": [
    "%load_ext autoreload\n",
    "%autoreload 2\n",
    "\n",
    "from pyramidman.speech_commands import SpeechCommandsHandler\n",
    "from pyramidman.Seshat import Transcriber\n",
    "from pyramidman.unwrapper import unwrap\n",
    "from pyramidman.meeting_facilitator import MeetingFacilitator\n",
    "from pyramidman.email import EmailConfig"
   ]
  },
  {
   "cell_type": "markdown",
   "metadata": {},
   "source": [
    "# Meeting facilitator\n",
    "\n",
    "A meeting facilitator is basically a state machine that has a Transcriber, explained in the previous notebook, and a Command handler, with some visual extra steps. "
   ]
  },
  {
   "cell_type": "code",
   "execution_count": 24,
   "metadata": {},
   "outputs": [],
   "source": [
    "meeting_facilitator = MeetingFacilitator(\"my_meeting\")"
   ]
  },
  {
   "cell_type": "code",
   "execution_count": 25,
   "metadata": {},
   "outputs": [
    {
     "name": "stdout",
     "output_type": "stream",
     "text": [
      "<MeetingFacilitator>\tobject has children:\n",
      "    <str>\tmeeting_name:\tmy_meeting\n",
      "    <str>\tdate:\t2020-01-05 16:03:35.909144\n",
      "    <NoneType>\tattendants:\tNone\n",
      "    <str>\taudios_folder:\t../meetings/my_meeting/audios/\n",
      "    <str>\treports_folder:\t..meetings/my_meeting/reports/\n",
      "    <NoneType>\ttranscriber:\tNone\n",
      "    <NoneType>\tspeech_command_handler:\tNone\n",
      "    <NoneType>\t_stop_command_handler_in_background_func:\tNone\n",
      "    <bool>\t_is_handling_commands:\tFalse\n",
      "    <list>\t_trainscriptions_list\n",
      "\n",
      "  <list>\t_trainscriptions_list has children:\n",
      "\n",
      "\n"
     ]
    }
   ],
   "source": [
    "unwrap(meeting_facilitator)"
   ]
  },
  {
   "cell_type": "code",
   "execution_count": 26,
   "metadata": {},
   "outputs": [
    {
     "name": "stdout",
     "output_type": "stream",
     "text": [
      "Calibrating microphone for 1 seconds.\n",
      "Calibrated energy threshold:  580.6280517986609\n"
     ]
    }
   ],
   "source": [
    "meeting_facilitator.set_automatic_default_transcriber()"
   ]
  },
  {
   "cell_type": "code",
   "execution_count": 37,
   "metadata": {},
   "outputs": [],
   "source": [
    "meeting_facilitator.transcriber.recognizer.dynamic_energy_threshold = False\n",
    "meeting_facilitator.transcriber.recognizer.energy_threshold*=2"
   ]
  },
  {
   "cell_type": "code",
   "execution_count": 39,
   "metadata": {},
   "outputs": [
    {
     "data": {
      "text/plain": [
       "2225.9079378483366"
      ]
     },
     "execution_count": 39,
     "metadata": {},
     "output_type": "execute_result"
    },
    {
     "name": "stdout",
     "output_type": "stream",
     "text": [
      "processing  i\n",
      "processing  they might place music\n",
      "processing  they might play music\n",
      "processing  my play music\n",
      "keyword detected\n",
      "playing\n",
      "processing  my played music\n",
      "keyword detected\n",
      "processing  my play music\n",
      "keyword detected\n",
      "playing\n",
      "processing  i\n",
      "processing  my play music\n",
      "keyword detected\n",
      "playing\n",
      "processing  i\n",
      "processing  my who wants coffee\n",
      "keyword detected\n",
      "successfully sent the mail\n",
      "processing  i further\n",
      "processing  i\n",
      "processing  the assist just barking hilarious\n",
      "processing  the fact my reform\n",
      "keyword detected\n",
      "processing  the\n",
      "processing  i\n",
      "processing  i\n",
      "processing  i\n",
      "processing  i\n",
      "processing  i\n",
      "processing  i\n"
     ]
    }
   ],
   "source": [
    "meeting_facilitator.transcriber.recognizer.energy_threshold"
   ]
  },
  {
   "cell_type": "code",
   "execution_count": 36,
   "metadata": {},
   "outputs": [
    {
     "name": "stdout",
     "output_type": "stream",
     "text": [
      "<Recognizer>\tobject has children:\n",
      "    <float>\tenergy_threshold:\t1331.7685103799092\n",
      "    <bool>\tdynamic_energy_threshold:\tTrue\n",
      "    <float>\tdynamic_energy_adjustment_damping:\t0.15\n",
      "    <float>\tdynamic_energy_ratio:\t1.5\n",
      "    <float>\tpause_threshold:\t0.8\n",
      "    <NoneType>\toperation_timeout:\tNone\n",
      "    <float>\tphrase_threshold:\t0.3\n",
      "    <float>\tnon_speaking_duration:\t0.5\n",
      "\n",
      "\n",
      "processing  i\n",
      "processing  i\n"
     ]
    }
   ],
   "source": [
    "unwrap(meeting_facilitator.transcriber.recognizer, max_level =1)"
   ]
  },
  {
   "cell_type": "code",
   "execution_count": null,
   "metadata": {},
   "outputs": [],
   "source": []
  },
  {
   "cell_type": "code",
   "execution_count": 29,
   "metadata": {},
   "outputs": [],
   "source": [
    "email_config = EmailConfig()\n",
    "meeting_facilitator.set_email_config(email_config)"
   ]
  },
  {
   "cell_type": "code",
   "execution_count": 30,
   "metadata": {},
   "outputs": [],
   "source": [
    "meeting_facilitator.set_default_speech_command_handler()"
   ]
  },
  {
   "cell_type": "markdown",
   "metadata": {},
   "source": [
    "## Simple usage"
   ]
  },
  {
   "cell_type": "code",
   "execution_count": 14,
   "metadata": {},
   "outputs": [
    {
     "name": "stdout",
     "output_type": "stream",
     "text": [
      "processing  the my play music\n",
      "keyword detected\n",
      "playing\n",
      "processing  i don't get\n",
      "processing  i\n",
      "processing  they might play music the might play music\n",
      "processing  a\n",
      "processing  i\n",
      "processing  my blade music that my late music\n",
      "processing  the mice played me\n",
      "processing  they might play music\n",
      "processing  i\n",
      "processing  i\n",
      "processing  i\n"
     ]
    }
   ],
   "source": [
    "speech_command_handler = meeting_facilitator.speech_command_handler\n",
    "\n",
    "speech_command_handler.process(\"the my play music\")"
   ]
  },
  {
   "cell_type": "markdown",
   "metadata": {},
   "source": [
    "### Start and Stop "
   ]
  },
  {
   "cell_type": "code",
   "execution_count": 31,
   "metadata": {},
   "outputs": [
    {
     "name": "stdout",
     "output_type": "stream",
     "text": [
      "processing  there my play music\n",
      "keyword detected\n",
      "playing\n",
      "processing  i\n",
      "processing  i\n",
      "processing  there my play music\n",
      "keyword detected\n",
      "playing\n",
      "processing  the\n",
      "processing  o once coffee\n",
      "processing  there my fool wants coffee\n",
      "keyword detected\n"
     ]
    }
   ],
   "source": [
    "meeting_facilitator.start()"
   ]
  },
  {
   "cell_type": "code",
   "execution_count": 22,
   "metadata": {},
   "outputs": [],
   "source": [
    "meeting_facilitator.stop()"
   ]
  },
  {
   "cell_type": "code",
   "execution_count": 9,
   "metadata": {},
   "outputs": [
    {
     "name": "stdout",
     "output_type": "stream",
     "text": [
      "<MeetingFacilitator>\tobject has children:\n",
      "    <str>\tmeeting_name:\tmy_meeting\n",
      "    <str>\tdate:\t2020-01-05 15:51:13.566147\n",
      "    <NoneType>\tattendants:\tNone\n",
      "    <str>\taudios_folder:\t../meetings/my_meeting/audios/\n",
      "    <str>\treports_folder:\t..meetings/my_meeting/reports/\n",
      "    <Transcriber>\ttranscriber\n",
      "    <SpeechCommandsHandler>\tspeech_command_handler\n",
      "    <SpeechCommandsHandler>\tspeech_command_handler\n",
      "    <bool>\t_is_handling_commands:\tTrue\n",
      "    <list>\t_trainscriptions_list\n",
      "    <EmailConfig>\temail_config\n",
      "\n",
      "  <EmailConfig>\temail_config has children:\n",
      "\n",
      "  <list>\t_trainscriptions_list has children:\n",
      "\n",
      "  <SpeechCommandsHandler>\tspeech_command_handler has children:\n",
      "\n",
      "  <SpeechCommandsHandler>\tspeech_command_handler has children:\n",
      "\n",
      "  <Transcriber>\ttranscriber has children:\n",
      "\n",
      "\n"
     ]
    }
   ],
   "source": [
    "unwrap(meeting_facilitator, max_level = 1)"
   ]
  },
  {
   "cell_type": "markdown",
   "metadata": {},
   "source": [
    "## Meeting Facilitator Control panel\n",
    "\n",
    "Small UI to visualize how the process is doing."
   ]
  },
  {
   "cell_type": "code",
   "execution_count": null,
   "metadata": {},
   "outputs": [],
   "source": []
  }
 ],
 "metadata": {
  "kernelspec": {
   "display_name": "Python 3",
   "language": "python",
   "name": "python3"
  },
  "language_info": {
   "codemirror_mode": {
    "name": "ipython",
    "version": 3
   },
   "file_extension": ".py",
   "mimetype": "text/x-python",
   "name": "python",
   "nbconvert_exporter": "python",
   "pygments_lexer": "ipython3",
   "version": "3.7.4"
  }
 },
 "nbformat": 4,
 "nbformat_minor": 2
}
