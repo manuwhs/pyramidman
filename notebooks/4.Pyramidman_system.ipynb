{
 "cells": [
  {
   "cell_type": "code",
   "execution_count": 2,
   "metadata": {},
   "outputs": [
    {
     "name": "stdout",
     "output_type": "stream",
     "text": [
      "The autoreload extension is already loaded. To reload it, use:\n",
      "  %reload_ext autoreload\n"
     ]
    }
   ],
   "source": [
    "%load_ext autoreload\n",
    "%autoreload 2\n",
    "\n",
    "from pyramidman.speech_commands import SpeechCommandsHandler\n",
    "from pyramidman.Seshat import Transcriber\n",
    "from pyramidman.unwrapper import unwrap\n",
    "from pyramidman.meeting_facilitator import MeetingFacilitator\n",
    "from pyramidman.email import EmailConfig"
   ]
  },
  {
   "cell_type": "markdown",
   "metadata": {},
   "source": [
    "# Meeting facilitator\n",
    "\n",
    "A meeting facilitator is basically a state machine that has a Transcriber, explained in the previous notebook, and a Command handler, with some visual extra steps. "
   ]
  },
  {
   "cell_type": "code",
   "execution_count": 48,
   "metadata": {},
   "outputs": [],
   "source": [
    "meeting_facilitator = MeetingFacilitator(\"pyramidman presentation\")"
   ]
  },
  {
   "cell_type": "code",
   "execution_count": 49,
   "metadata": {},
   "outputs": [
    {
     "name": "stdout",
     "output_type": "stream",
     "text": [
      "<MeetingFacilitator>\tobject has children:\n",
      "    <str>\tmeeting_name:\tpyramidman presentation\n",
      "    <str>\tdate:\t2020-01-08\n",
      "    <list>\tattendants\n",
      "    <str>\taudios_folder:\t../meetings/pyramidman presentation/audi\n",
      "    <str>\treports_folder:\t../meetings/pyramidman presentation/repo\n",
      "    <NoneType>\ttranscriber:\tNone\n",
      "    <NoneType>\tspeech_command_handler:\tNone\n",
      "    <NoneType>\t_stop_command_handler_in_background_func:\tNone\n",
      "    <bool>\t_is_handling_commands:\tFalse\n",
      "    <list>\t_trainscriptions_list\n",
      "\n",
      "  <list>\t_trainscriptions_list has children:\n",
      "\n",
      "  <list>\tattendants has children:\n",
      "\n",
      "\n"
     ]
    }
   ],
   "source": [
    "unwrap(meeting_facilitator, max_level = 1)"
   ]
  },
  {
   "cell_type": "code",
   "execution_count": 50,
   "metadata": {},
   "outputs": [
    {
     "name": "stdout",
     "output_type": "stream",
     "text": [
      "Calibrating microphone for 1 seconds.\n",
      "Calibrated energy threshold:  1597.1252172026998\n"
     ]
    }
   ],
   "source": [
    "meeting_facilitator.set_automatic_default_transcriber()"
   ]
  },
  {
   "cell_type": "code",
   "execution_count": 51,
   "metadata": {},
   "outputs": [],
   "source": [
    "meeting_facilitator.transcriber.recognizer.energy_threshold = 1000"
   ]
  },
  {
   "cell_type": "code",
   "execution_count": 52,
   "metadata": {},
   "outputs": [
    {
     "name": "stdout",
     "output_type": "stream",
     "text": [
      "<Recognizer>\tobject has children:\n",
      "    <int>\tenergy_threshold:\t1000\n",
      "    <bool>\tdynamic_energy_threshold:\tFalse\n",
      "    <float>\tdynamic_energy_adjustment_damping:\t0.15\n",
      "    <float>\tdynamic_energy_ratio:\t1.5\n",
      "    <float>\tpause_threshold:\t0.8\n",
      "    <NoneType>\toperation_timeout:\tNone\n",
      "    <float>\tphrase_threshold:\t0.3\n",
      "    <float>\tnon_speaking_duration:\t0.5\n",
      "\n",
      "\n"
     ]
    }
   ],
   "source": [
    "unwrap(meeting_facilitator.transcriber.recognizer, max_level =1)"
   ]
  },
  {
   "cell_type": "code",
   "execution_count": 53,
   "metadata": {},
   "outputs": [],
   "source": [
    "email_config = EmailConfig()\n",
    "meeting_facilitator.set_email_config(email_config)"
   ]
  },
  {
   "cell_type": "code",
   "execution_count": 54,
   "metadata": {},
   "outputs": [],
   "source": [
    "meeting_facilitator.set_default_speech_command_handler()"
   ]
  },
  {
   "cell_type": "code",
   "execution_count": 55,
   "metadata": {},
   "outputs": [],
   "source": [
    "#meeting_facilitator.transcriber.set_automatic_noise_filter(n_fft=2048*1,win_length=2048*1,hop_length=512*2)"
   ]
  },
  {
   "cell_type": "markdown",
   "metadata": {},
   "source": [
    "## Simple usage"
   ]
  },
  {
   "cell_type": "code",
   "execution_count": 58,
   "metadata": {},
   "outputs": [],
   "source": [
    "text =\"\"\"In monotheistic thought, God is conceived of as the supreme being, creator deity, and principal object of faith.[1] God is usually conceived as being omniscient (all-knowing), omnipotent (all-powerful), omnipresent (all-present) and as having an eternal and necessary existence. These attributes are used either in way of analogy or are taken literally. God is most often held to be incorporeal (immaterial).[1][2][3] Incorporeality and corporeality of God are related to conceptions of transcendence (being outside nature) and immanence (being in nature) of God, with positions of synthesis such as the \"immanent transcendence\".\n",
    "\n",
    "Some religions describe God without reference to gender, while others or their translations use sex-specific terminology. Judaism, for example, attributes only a grammatical gender to God, using terms such as \"Him\" or \"Father\" for convenience.[4]\n",
    "\n",
    "God has been conceived as either personal or impersonal. In theism, God is the creator and sustainer of the universe, while in deism, God is the creator, but not the sustainer, of the universe. In pantheism, God is the universe itself. In atheism, there is an absence of belief in God. In agnosticism, the existence of God is deemed unknown or unknowable. God has also been conceived as the source of all moral obligation, and the \"greatest conceivable existent\".[1] Many notable philosophers have developed arguments for and against the existence of God.[5]\n",
    "\n",
    "Monotheists refer to their gods using names prescribed by their respective religions, with some of these names referring to certain cultural ideas about their god's identity and attributes. In the ancient Egyptian era of Atenism, possibly the earliest recorded monotheistic religion, this deity was called Aten,[6] premised on being the one \"true\" Supreme Being and creator of the universe.[7] In the Hebrew Bible and Judaism, Elohim, Adonai, YHWH (Hebrew: יהוה‎) and other names are used as the names of God. Yahweh and Jehovah, possible vocalizations of YHWH, are used in Christianity. In the Christian doctrine of the Trinity, God, coexisting in three \"persons\", is called the Father, the Son, and the Holy Spirit. In Islam, the name Allah is used, while Muslims also have a multitude of titular names for God. In Hinduism, Brahman is often considered a monistic concept of God.[8] In Chinese religion, Shangdi is conceived as the progenitor (first ancestor) of the universe, intrinsic to it and constantly bringing order to it. Other religions have names for the concept of God, including Baha in the Bahá'í Faith,[9] Waheguru in Sikhism,[10] Sang Hyang Widhi Wasa in Balinese Hinduism,[11] and Ahura Mazda in Zoroastrianism.[12]\n",
    "\n",
    "The many different conceptions of God, and competing claims as to God's characteristics, aims, and actions, have led to the development of ideas of omnitheism, pandeism,[13] or a perennial philosophy, which postulates that there is one underlying theological truth, of which all religions express a partial understanding, and as to which \"the devout in the various great world religions are in fact worshipping that one God, but through different, overlapping concepts\"\"]\n",
    "\"\"\"\n",
    "\n",
    "meeting_facilitator._trainscriptions_list = [{\"sentence\":text}]"
   ]
  },
  {
   "cell_type": "code",
   "execution_count": 59,
   "metadata": {
    "scrolled": true
   },
   "outputs": [
    {
     "name": "stdout",
     "output_type": "stream",
     "text": [
      "processing  egypt who wants coffee\n",
      "keyword detected\n",
      "<br>  <img src=\"cid:word_cloud.jpg\" style=\"width:700px\">\n",
      "successfully sent the mail\n"
     ]
    }
   ],
   "source": [
    "speech_command_handler = meeting_facilitator.speech_command_handler\n",
    "speech_command_handler.process(\"egypt who wants coffee\")"
   ]
  },
  {
   "cell_type": "code",
   "execution_count": 36,
   "metadata": {},
   "outputs": [
    {
     "name": "stdout",
     "output_type": "stream",
     "text": [
      "processing  egypt facilitate\n",
      "keyword detected\n",
      "playing\n"
     ]
    }
   ],
   "source": [
    "speech_command_handler.process(\"egypt facilitate\")"
   ]
  },
  {
   "cell_type": "markdown",
   "metadata": {},
   "source": [
    "# System usage "
   ]
  },
  {
   "cell_type": "code",
   "execution_count": 15,
   "metadata": {},
   "outputs": [],
   "source": [
    "meeting_facilitator._trainscriptions_list = []"
   ]
  },
  {
   "cell_type": "code",
   "execution_count": 23,
   "metadata": {},
   "outputs": [
    {
     "name": "stdout",
     "output_type": "stream",
     "text": [
      "processing  the right let's start\n",
      "processing  the perfect\n",
      "processing  it there's these personation missus be able to look at\n",
      "processing  station right so that every one reverberate it's not more nor to present to you for the first time ever pantomime dance the gyp\n",
      "processing  evolution it is hottest queek is lame is the coming hours entations please to not get cart away ah you are perception of firmly be invader\n",
      "processing  to like to enter for some asking me clear what the pyramids represents\n",
      "processing  he even well armed represents velaisian to you represent structure they represent heike\n",
      "processing  the poems in all save enforcin society from mathematics to humanity to know mates heroines\n",
      "processing  from gastronomy the society\n",
      "processing  from revision toward the nation gathers surprise i could have just a religion\n",
      "processing  a good back bone of the economy\n",
      "processing  parker is as toleration and were now humanity has gone a long way at the wall from the banana tree monkey to the computer\n",
      "processing  and whether to type of computer monkeys that is basic eritage monkey and is programming men\n",
      "processing  but at best societies were simple they were organized just a hunter gatherers structures were everything bedad said a thing calkins like hunting or cooking or bury the\n",
      "processing  thus the deterrent to decide the interfered himself as as elation grew the more compass extractor story to appear and be bold the man a\n",
      "processing  and cultures would do and they say to it in montana into structures they are met and the ansonia can be a thing but they were very hard almost like slaves to build all of this\n",
      "processing  strether for the gods or was it a money dated them was it belief\n",
      "processing  no it was mediterranean was the force that made people of either dogs and worked for them our time on like through history the\n",
      "processing  job to a stop to night about physical strain and more abating so the men management was to what we have now\n",
      "processing  the delay who like water at what i enforce would appleseed for half under a bad and is like to try to be close to the invades that they don't complain\n",
      "processing  so we got the recess and excretion lisette\n",
      "processing  i met management\n",
      "processing  of the proletary\n",
      "processing  alas but parted men if baronmead for a middle management but wot is firmament\n",
      "processing  to the misnomer middle management to these under letters technologies that we all perfectly understand by fond deeper ney and love\n",
      "processing  the settlement paramatman has a fivepence another de light minutes taking paris men listen to your conversation i rede down it makes sevres and since emails to people\n",
      "processing  after our meeting\n",
      "processing  to this meeting for citation he liked to presentations towards salutation always asking the right questions such as how that its scale are we asking the red questions how the we messer measure\n",
      "processing  this and so he\n",
      "processing  i\n",
      "processing  grace\n",
      "processing  but at a late you can be age we can susie\n",
      "processing  i\n",
      "processing  portman also has probable verament a tire of good and mason listening to the fore seventy year and the early liveth well we did the senior his men but we also give you like we were other coromantee\n",
      "processing  we're in the further know\n",
      "processing  a\n",
      "processing  then a big doctor's nation let out the ladies business and that but it is so much to atone which actually means you guys in an aside and as what you need us\n",
      "processing  for when men rich and opportunities of maury trash we take advantage of foundries as ye gae you can stay up that is ladies peesness to\n",
      "processing  they have been this gaseous allusion to that is your own easiness and firework in you through ten cases it's bring much like a dungeon but would like to nesta moronis like an it's no like the \n",
      "processing  days of life again a case and you have this wood and then you tie a eatin on these one is lake and he a power on that is infinite and it will change and adapt the war your writing so latisten is pre\n",
      "processing  but you could do the same with this\n",
      "processing  that in a bison most valiant supports in a vision or where a cabin starving your local a isaacson could like the decanting your benson growth backers which a people that the ring tarentine we job\n",
      "processing  but it is the estate incautiously cove rights an apulian have an only in god that will try her person for her lifetime and if they try to act under idea\n",
      "processing  it pirates aromatic last\n",
      "processing  can we get ye an adept these be carnotite\n",
      "processing  we donate plain barn with manifest on sentences and a sincere for to speakers is various when you want to promote some one sing of an salavera being these easy\n",
      "processing  now what the overthrower preventive they like an uneven after that they wore so are the more develop because light let say you need to put somewhere up so some one up so you need to get some one \n",
      "processing  a word these who are even every one to enterprise product on the truck the same person who leoncino teapot the most useless person there the wonder is in a damage the team the list and \n",
      "processing  being over its\n",
      "processing  and a gas you might like agamenticus very funny but like\n",
      "processing  he is a sarcastic radiates is very good were it to you have read is this a aetatis is an exacting as to the man\n",
      "processing  what i can is it uninteresting and as leading fanatic\n",
      "processing  what if i say we had a set \n",
      "processing  he had been attended\n",
      "processing  a\n",
      "processing  a nice hour to such an end\n",
      "processing  lucky to have a second effort at a meeting to see he had a committee\n"
     ]
    }
   ],
   "source": [
    "meeting_facilitator.start()"
   ]
  },
  {
   "cell_type": "code",
   "execution_count": 27,
   "metadata": {},
   "outputs": [],
   "source": [
    "meeting_facilitator.stop()"
   ]
  },
  {
   "cell_type": "markdown",
   "metadata": {},
   "source": [
    "## Handling of transcriptions"
   ]
  },
  {
   "cell_type": "code",
   "execution_count": 18,
   "metadata": {},
   "outputs": [
    {
     "data": {
      "text/plain": [
       "[{'sentence': 'i',\n",
       "  'words': [{'word': 'i', 'start_time ': 0.0, 'duration': 0.0}],\n",
       "  'characters': <Swig Object of type 'Metadata *' at 0x7fa84f8552f0>,\n",
       "  'confidence': -11.284168758924867},\n",
       " {'sentence': 'her little my friend',\n",
       "  'words': [{'word': 'her', 'start_time ': 0.0, 'duration': 0.72},\n",
       "   {'word': 'little', 'start_time ': 0.76, 'duration': 0.24},\n",
       "   {'word': 'my', 'start_time ': 1.02, 'duration': 0.24},\n",
       "   {'word': 'friend', 'start_time ': 1.32, 'duration': 0.28}],\n",
       "  'characters': <Swig Object of type 'Metadata *' at 0x7fa84e6a62f0>,\n",
       "  'confidence': -25.752902639771676}]"
      ]
     },
     "execution_count": 18,
     "metadata": {},
     "output_type": "execute_result"
    }
   ],
   "source": [
    "meeting_facilitator._trainscriptions_list"
   ]
  },
  {
   "cell_type": "code",
   "execution_count": 19,
   "metadata": {},
   "outputs": [
    {
     "data": {
      "text/plain": [
       "'Her little my friend. '"
      ]
     },
     "execution_count": 19,
     "metadata": {},
     "output_type": "execute_result"
    }
   ],
   "source": [
    "meeting_facilitator.process_transcriptions()"
   ]
  },
  {
   "cell_type": "markdown",
   "metadata": {},
   "source": [
    "## Meeting Facilitator Control panel\n",
    "\n",
    "Small UI to visualize how the process is doing."
   ]
  },
  {
   "cell_type": "code",
   "execution_count": null,
   "metadata": {},
   "outputs": [],
   "source": [
    "import ipywidgets as widgets\n",
    "import plotly.graph_objs as go\n",
    "from IPython.display import display"
   ]
  },
  {
   "cell_type": "code",
   "execution_count": null,
   "metadata": {},
   "outputs": [],
   "source": [
    "## Global variables\n",
    "mic = meeting_facilitator.transcriber.microphone\n",
    "r = meeting_facilitator.transcriber.recognizer\n",
    "\n",
    "# Box with the recordings to show.\n",
    "figure_box = widgets.Box([go.FigureWidget()], layout = {\"width\":\"70%\", \"height\":\"600px\"})\n",
    "\n",
    "######### Panel widgets \n",
    "\n",
    "## Recording menu\n",
    "recording_title_output = widgets.Output()\n",
    "with recording_title_output:\n",
    "    print(\"Recording options:\")\n",
    "duration_input = widgets.FloatText(value=4, description='Duration:', disabled=False)\n",
    "offset_input = widgets.FloatText(value=1, description='Offset:', disabled=False)\n",
    "button_record = widgets.Button(value=False, description='Start', button_style='', icon='check')\n",
    "saving_file_name = widgets.Text(value=\"example.wav\", description='Save file:', disabled=False)\n",
    "\n",
    "# Create main Box \n",
    "recording_box = widgets.VBox([recording_title_output,saving_file_name,duration_input,offset_input, button_record], layout={'border': '1px solid black'})\n",
    "recorder_box = widgets.HBox([recording_box, figure_box])\n",
    "\n",
    "        \n",
    "def folder_input_submit_callback(folder_input):\n",
    "    files_in_folder = get_folder_files(folder_input.value) \n",
    "    files_dropdown.options= files_in_folder\n",
    "    files_dropdown.value=files_in_folder[0]\n",
    "    \n",
    "def start_meeting_callback(button):\n",
    "    folder_input = \"../audios/temp/\"\n",
    "    if button.description == \"Start\":\n",
    "        button.description = \"Recording\"\n",
    "        meeting_facilitator.start()\n",
    "        \n",
    "def stop_meeting_callback(button):\n",
    "    folder_input = \"../audios/temp/\"\n",
    "    if button.description == \"Stopping\":\n",
    "        button.description = \"Recording\"\n",
    "        meeting_facilitator.start()\n",
    "\n",
    "        \n",
    "def start_meeting_callback():\n",
    "    \n",
    "# Assign callback functions\n",
    "button_record.on_click(record_button_callback)\n",
    "\n",
    "\n",
    "display(recorder_box)"
   ]
  },
  {
   "cell_type": "code",
   "execution_count": null,
   "metadata": {},
   "outputs": [],
   "source": []
  }
 ],
 "metadata": {
  "kernelspec": {
   "display_name": "Python 3",
   "language": "python",
   "name": "python3"
  },
  "language_info": {
   "codemirror_mode": {
    "name": "ipython",
    "version": 3
   },
   "file_extension": ".py",
   "mimetype": "text/x-python",
   "name": "python",
   "nbconvert_exporter": "python",
   "pygments_lexer": "ipython3",
   "version": "3.7.4"
  }
 },
 "nbformat": 4,
 "nbformat_minor": 2
}
