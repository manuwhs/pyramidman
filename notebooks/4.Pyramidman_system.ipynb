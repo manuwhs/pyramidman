{
 "cells": [
  {
   "cell_type": "code",
   "execution_count": 1,
   "metadata": {},
   "outputs": [
    {
     "name": "stderr",
     "output_type": "stream",
     "text": [
      "/home/montoya/anaconda3/envs/python36/lib/python3.7/site-packages/tqdm/autonotebook.py:17: TqdmExperimentalWarning: Using `tqdm.autonotebook.tqdm` in notebook mode. Use `tqdm.tqdm` instead to force console mode (e.g. in jupyter console)\n",
      "  \" (e.g. in jupyter console)\", TqdmExperimentalWarning)\n"
     ]
    }
   ],
   "source": [
    "%load_ext autoreload\n",
    "%autoreload 2\n",
    "\n",
    "from pyramidman.speech_commands import SpeechCommandsHandler\n",
    "from pyramidman.Seshat import Transcriber\n",
    "from pyramidman.unwrapper import unwrap\n",
    "from pyramidman.meeting_facilitator import MeetingFacilitator\n",
    "from pyramidman.email import EmailConfig"
   ]
  },
  {
   "cell_type": "markdown",
   "metadata": {},
   "source": [
    "# Meeting facilitator\n",
    "\n",
    "A meeting facilitator is basically a state machine that has a Transcriber, explained in the previous notebook, and a Command handler, with some visual extra steps. "
   ]
  },
  {
   "cell_type": "code",
   "execution_count": 2,
   "metadata": {},
   "outputs": [],
   "source": [
    "meeting_facilitator = MeetingFacilitator(\"pyramidman presentation\")"
   ]
  },
  {
   "cell_type": "code",
   "execution_count": 3,
   "metadata": {},
   "outputs": [
    {
     "name": "stdout",
     "output_type": "stream",
     "text": [
      "<MeetingFacilitator>\tobject has children:\n",
      "    <str>\tmeeting_name:\tpyramidman presentation\n",
      "    <str>\tdate:\t2020-07-05\n",
      "    <list>\tattendants\n",
      "    <str>\taudios_folder:\t../meetings/pyramidman presentation/audi\n",
      "    <str>\treports_folder:\t../meetings/pyramidman presentation/repo\n",
      "    <NoneType>\ttranscriber:\tNone\n",
      "    <NoneType>\tspeech_command_handler:\tNone\n",
      "    <NoneType>\t_stop_command_handler_in_background_func:\tNone\n",
      "    <bool>\t_is_handling_commands:\tFalse\n",
      "    <list>\t_trainscriptions_list\n",
      "\n",
      "  <list>\t_trainscriptions_list has children:\n",
      "\n",
      "  <list>\tattendants has children:\n",
      "\n",
      "\n"
     ]
    }
   ],
   "source": [
    "unwrap(meeting_facilitator, max_level = 1)"
   ]
  },
  {
   "cell_type": "code",
   "execution_count": 4,
   "metadata": {},
   "outputs": [
    {
     "name": "stdout",
     "output_type": "stream",
     "text": [
      "Calibrating microphone for 1 seconds.\n",
      "Calibrated energy threshold:  2749.571083255867\n"
     ]
    }
   ],
   "source": [
    "meeting_facilitator.set_automatic_default_transcriber()"
   ]
  },
  {
   "cell_type": "code",
   "execution_count": 5,
   "metadata": {},
   "outputs": [],
   "source": [
    "meeting_facilitator.transcriber.recognizer.energy_threshold = 1000"
   ]
  },
  {
   "cell_type": "code",
   "execution_count": 6,
   "metadata": {},
   "outputs": [
    {
     "name": "stdout",
     "output_type": "stream",
     "text": [
      "<Recognizer>\tobject has children:\n",
      "    <int>\tenergy_threshold:\t1000\n",
      "    <bool>\tdynamic_energy_threshold:\tFalse\n",
      "    <float>\tdynamic_energy_adjustment_damping:\t0.15\n",
      "    <float>\tdynamic_energy_ratio:\t1.5\n",
      "    <float>\tpause_threshold:\t0.8\n",
      "    <NoneType>\toperation_timeout:\tNone\n",
      "    <float>\tphrase_threshold:\t0.3\n",
      "    <float>\tnon_speaking_duration:\t0.5\n",
      "\n",
      "\n"
     ]
    }
   ],
   "source": [
    "unwrap(meeting_facilitator.transcriber.recognizer, max_level =1)"
   ]
  },
  {
   "cell_type": "code",
   "execution_count": 7,
   "metadata": {},
   "outputs": [],
   "source": [
    "email_config = EmailConfig()\n",
    "meeting_facilitator.set_email_config(email_config)"
   ]
  },
  {
   "cell_type": "code",
   "execution_count": 8,
   "metadata": {},
   "outputs": [],
   "source": [
    "meeting_facilitator.set_default_speech_command_handler()"
   ]
  },
  {
   "cell_type": "code",
   "execution_count": 9,
   "metadata": {},
   "outputs": [],
   "source": [
    "#meeting_facilitator.transcriber.set_automatic_noise_filter(n_fft=2048*1,win_length=2048*1,hop_length=512*2)"
   ]
  },
  {
   "cell_type": "markdown",
   "metadata": {},
   "source": [
    "## Simple usage"
   ]
  },
  {
   "cell_type": "code",
   "execution_count": 10,
   "metadata": {},
   "outputs": [],
   "source": [
    "text =\"\"\"In monotheistic thought, God is conceived of as the supreme being, creator deity, and principal object of faith.[1] God is usually conceived as being omniscient (all-knowing), omnipotent (all-powerful), omnipresent (all-present) and as having an eternal and necessary existence. These attributes are used either in way of analogy or are taken literally. God is most often held to be incorporeal (immaterial).[1][2][3] Incorporeality and corporeality of God are related to conceptions of transcendence (being outside nature) and immanence (being in nature) of God, with positions of synthesis such as the \"immanent transcendence\".\n",
    "\n",
    "Some religions describe God without reference to gender, while others or their translations use sex-specific terminology. Judaism, for example, attributes only a grammatical gender to God, using terms such as \"Him\" or \"Father\" for convenience.[4]\n",
    "\n",
    "God has been conceived as either personal or impersonal. In theism, God is the creator and sustainer of the universe, while in deism, God is the creator, but not the sustainer, of the universe. In pantheism, God is the universe itself. In atheism, there is an absence of belief in God. In agnosticism, the existence of God is deemed unknown or unknowable. God has also been conceived as the source of all moral obligation, and the \"greatest conceivable existent\".[1] Many notable philosophers have developed arguments for and against the existence of God.[5]\n",
    "\n",
    "Monotheists refer to their gods using names prescribed by their respective religions, with some of these names referring to certain cultural ideas about their god's identity and attributes. In the ancient Egyptian era of Atenism, possibly the earliest recorded monotheistic religion, this deity was called Aten,[6] premised on being the one \"true\" Supreme Being and creator of the universe.[7] In the Hebrew Bible and Judaism, Elohim, Adonai, YHWH (Hebrew: יהוה‎) and other names are used as the names of God. Yahweh and Jehovah, possible vocalizations of YHWH, are used in Christianity. In the Christian doctrine of the Trinity, God, coexisting in three \"persons\", is called the Father, the Son, and the Holy Spirit. In Islam, the name Allah is used, while Muslims also have a multitude of titular names for God. In Hinduism, Brahman is often considered a monistic concept of God.[8] In Chinese religion, Shangdi is conceived as the progenitor (first ancestor) of the universe, intrinsic to it and constantly bringing order to it. Other religions have names for the concept of God, including Baha in the Bahá'í Faith,[9] Waheguru in Sikhism,[10] Sang Hyang Widhi Wasa in Balinese Hinduism,[11] and Ahura Mazda in Zoroastrianism.[12]\n",
    "\n",
    "The many different conceptions of God, and competing claims as to God's characteristics, aims, and actions, have led to the development of ideas of omnitheism, pandeism,[13] or a perennial philosophy, which postulates that there is one underlying theological truth, of which all religions express a partial understanding, and as to which \"the devout in the various great world religions are in fact worshipping that one God, but through different, overlapping concepts\"\"]\n",
    "\"\"\"\n",
    "meeting_facilitator._trainscriptions_list = [{\"sentence\":text}]"
   ]
  },
  {
   "cell_type": "code",
   "execution_count": 11,
   "metadata": {
    "scrolled": true
   },
   "outputs": [],
   "source": [
    "speech_command_handler = meeting_facilitator.speech_command_handler"
   ]
  },
  {
   "cell_type": "code",
   "execution_count": 12,
   "metadata": {},
   "outputs": [
    {
     "name": "stdout",
     "output_type": "stream",
     "text": [
      "Egypt who wants coffee. successfully sent the mail\n"
     ]
    }
   ],
   "source": [
    "speech_command_handler.process(\"egypt who wants coffee\")"
   ]
  },
  {
   "cell_type": "code",
   "execution_count": 13,
   "metadata": {},
   "outputs": [
    {
     "name": "stdout",
     "output_type": "stream",
     "text": [
      "Facilitate. "
     ]
    }
   ],
   "source": [
    "speech_command_handler.process(\"facilitate\")\n"
   ]
  },
  {
   "cell_type": "markdown",
   "metadata": {},
   "source": [
    "# System usage "
   ]
  },
  {
   "cell_type": "code",
   "execution_count": 14,
   "metadata": {},
   "outputs": [],
   "source": [
    "meeting_facilitator._trainscriptions_list = []"
   ]
  },
  {
   "cell_type": "code",
   "execution_count": 15,
   "metadata": {},
   "outputs": [
    {
     "name": "stdout",
     "output_type": "stream",
     "text": [
      "And. He misses. Again a save fascinates. As i ate. Facilitate. All at great are worth a legacy. On a lay his lady to a magazine now i should have his caresses societies is posteritate seligenstadt errand. On . They . Till but i you know i did this and it is who was come everybody got to see me . As you know i fernlike everybody was reading down in his desire is is histrionism this lake they were more face in the austerities and like the office. The tone of these men are at the amount. So is crediting was real and that i was a mere place. At surfaces in. They then itineraries men. You the. And william graveson this alabaster. And the other one did. Every and you have to point and that to be attention to you and yours tuckerman me these made her this my three your life as. And they ask you to adele that we. The exact amy dialetto me joe is like a camel you je. And confine. No cousin as i said i and i did that is before the locked down with the earth and was heaven. And like mitigates was my majesty next time you want a made me like to sometimes for you and then on the antecedent on hot argument that. They every one me too you know like they went to ospedaletto the profaneness or to maim job she nerita and and i can't bear outing. Yet at another in. Yes they won't pompeo ple e e dolente the make other to make at nothing out of it and in an outlay. He galituria this is a bit. But ease and then as the day was his endeavour leisure can literati at in front them nor let me was washing her rule. It was melissa there and. He is fine because basically now were. With you and is a bit. I know i want to make you in this. This year the sultan lay in licking venison presentation to do in their name or something or try to get a rest or of me i got nothing is like. As you continue to for all is your for the genoese they all led to do mother. And of oconostota in the engines but like you will use in the ecole batelier's no more as like to. On but like a boa. That is a fiscally i'm not going to he thinks that because you did he manage me in the grease word is pay your day pretending to look at presentations and ready of you still must i still believe you are so much higher and. He made the other people is like a. Another gets a book and then. And that the orsini. Madeleine her which way you get the eagles like. Not noted in wintertide was that . And beginning to use as you run the ship up pyramids then your light pouring made of managing enough laborite are born politeness a conceit and they like you secretively i eat beans like an . Disgusting. The student or what to believe is in his bed the one but hammeth his italian as he was he fell when he saw about a. The liabilities that atlantean at it a case. At a. Ow wow. So may you may leave an change. A lesser i like that that's the deep now is more like. This is the curse if you saggia distressing tation as i pocketed value the like. He see the intense. But isn't it fun it has and is is it had a lesson or on the lesser fanciful from quite on time bore manor a did alison so i had to make all the briton station. As another program and noticed and a life is at the feet so i have kept it like . This and i did at this. It's a lot of like conisby more than a year to do this and elevenpence of . Yea cool. I have another one for dacian. As to having as the bank and i had not. Both to and as. Oh as a financial engleton. Mellermann toes. And . No ancestress but i think i produced it we more than everybody else there be they were very credible. The pastor. I was more like a you go to a team they are really too for or pulliamses. Then to the . No no itinerant. Who. I laughed and then i told him a gasoline to lake. Nation the duet by heaven the gettin culture that keep being as the starlike again like a letter to say may time like the other i do. And then i did it. Setting it won't to do first dealing in money and and be a free gift but. And tell disentary then. But before that he was a tenant. A single tear and. Oh yes i i a is do you want to in the commendation of my juniors of work so i be most of everything we have. I i you and i and your head in judas before i live it like my onener at the communication he had with beaten if you are flageoletti on for as to night he able to marcolina and far . The late wittie to do as. I do it but he elected his. And creates passenger. It is a ten. The estate was a tall and was like a anathematise and canterstein yes. For a question is so you were already glendoveers of ateles day. Instead of the attention is. By them or you told them in. There is the designates forever. As a . Her worship but a cause i gathered don't want to imitation his inaptitude can use the light of the word or as a integration explain to you much better we can not question. So it was very hard soothed. Right so there i was like a not many people men to note woolen manassas like. What did you incite or tool in the morse in a work of base manner so as you know bestow to implement the features of diffunt your . And for this male. He teases. But is this not as a beast be it as they was bein a tolerated. I couldn't take her hands in fear at me then i'll go wiseman to repair they wake one back for ages uller or maria piomingo that ribbon is. This you know is untender stand and lost pieties. Two days integrates sick of time and he had to be less but it elinore and aliabad said i have because i for dentifrice man to kneel near as we. Some lesson or inlets and features were this a referring with easier estates like the basic linkister fred is here something else here i say yes. It is something else and we have done said the indian my fire or other aside lauriston gave you my amateur like you so like is just like men with the beloved another livery to you can you play things ladislas snow these on a case. The recent everything everywhere so bitterly first a case it was a miss bugaboos were there is. I was the afternoon definition pen exactly and as it were red the name of all ever make visionaries this. In vienna proposed to put any title be put lies which content acireale a dear this is treated and now as the idealists are trusted with the elegant venuto say tete. Spurning everything from his pretty leg a very tangible and the cat has been done before it is you can read you some of the foundation or worshipped armenian the nice at these as come by. In the. And the blare blare blare blare and then i give a one do had to festoon plasticity the of. We were . At last elise and you alone flight to a law they want you on one to act and as i hope for a . The isolating i i was in was tiring but mere reports and the parapets doing these cut or vitiating handel o them as a personal pardon. With how is it to get having behind him a cascade is and his like gay somebody histoire cared it also a light as i live without the day of etalage the date of her be. No no leases the last felicities and control from malacca lover but heretical elevation to real systems to to show the right ameres. And the shawanoe cavalierly made despotical could exact cold than with work this is not like a random example this is excited that would worry good not the habitable at the congress so. He was like a gay first i was the first case mistakings which is also not the most funny for i will get better but his after a couple of months of experience suddenly your department changes not only his name but also his steel. We also visited it with ever present like now tools now idealisation were our banking for britomarte management not work well to shoot you the like he was late change in every. Before moistens the buildings burst in panic and ran after back tilly fellowmen beresford is a and he is by the time with this stone here we have him at a guess. Attempt to comply with the news to be i and edifier lost but if they count you will not let such unfortunate defence groener borne i know that such changeful require a change in the church and maybe the creation of new ones. Oh you have rest at the chart section from the tangaloa have a visiting of the structure you contemplate three increasing plea difficult poses benitier musae the changes. Were it as fire and i like a hard edwardes is at ease miss our toes for them to understand and i estimate for the sound will only change the values of already implement frames in the trade but we. "
     ]
    },
    {
     "name": "stdout",
     "output_type": "stream",
     "text": [
      "Actually difficult or it for love reduced in the patisserie the episode whether that was that relentless like slider iteration the for ever rue des dissipating for to know is the want. I listen reply of the dissipated what he came well wishers operation for this as they need a day needed but it also exact red westerhold actually take their companies to her for the. Constantia need to test probosition is on mine in the way but his affinities there came to the commendation and is i think it nice within. That is not a intones in one of em an you go after a conterminous easement and them what is really like. Hilary. So real to us like a anticipation happens with is one of the more compositions it happen people willing chart this awaited . Here we may be weary have it if not you can try to your standpoint as we have. In district to create . So young as then my advice is to my low lie. I was macerates ditte weel. And then it is destined to sinfonie so basically this is how to make any pitch lake entire department were fiber intimate on the tower yes we were in there so it's a word let inquiry at the . Is no river again manage rooney kinder. I like the front and i facing. I so any way you know the head of bed the tactually i had this crushed and then on again miss polly. This is actually caught in this verse like a one button boy from this contradiction and he will get to everybody in the bank but where he had an wessagusset. No i thank maidenlike a dinner my man may will like to mine don't see don't go greatly to patent everybody will get this . And about the sea and you had that in. A man so gustus lethean overstraining the tenth anniversary of the best beat priority which led to the leg of generation and there a hundred and eighty four been de tres but basically you know. For is not perfectly has some one billy is an they raked the sheet out of it. In the aniseseed finally offers it persuasibility of of the opening. Did regards our too delicate and your page with the fellow in visitations indicate how much we songbird by. Like with humor you have a big obtesting get rich when you plead on it a pup up with a fear where you can specify ham which of . For rowanty and in cleaning out the busy adipocere convicted and the green paper window with the text for nations shone a rich well busily along with speeding beside you tolliver basic. Version of lies in their systems. The noise retourner to be desired me to bed for it here and then they would get all this pirouetted than you have this weeping and spinning in the coffee. No there were a road or a emigration to bring the cares and was at oceanedge pandiani at work to see chris put. With words closed as it. My case is a vainglory. To poison merino no i says i was his age you were thinking about it gerando in so but as somebody else would freshen the rest face. I did had to care now did not bury le on gabriel as. I do not send her to see marian and i belisarius i other okay and then when they were the pursuit only part i didn't develop like aladdin design was a apart. It was it was better i six guys that nobody any one did probably and in follows tender it was impossible to understand a monster and made busts like my no cojohuacan as that we know her worth lady and is let in in . Were odette one and it was crapshooters and able so that i now eminence a one as i and i made this late. I. I neither by a sensation as i was as the tiger not hers exerts what it would happen with him i know why doesn't he be so much prayer. It was a ridiculous and a worse this entity was maisie but this guy but he isn't birkmyre said consecration ablington dition he was later to prove him provided by. An so persuasive an and it does not follow her from purposes and the year i'm afraid in this case it wouldn't do to a love guessing from the telepagrams i am can help you for selling one of this book. Like a war amalgam when i strike so bad then estates the wear of this lady perpendicularly as is you you just you try and to attack the merarite the tree and then as the as. Yes this is the one alternative and it is yet his tastes the list is . Well as his late yes we looked. They was that they should. The word smarting he appreciated too much in a bank in byron. They fear as if he. I would like to be a baby listened in your firelight. I i i on her eyatonkawee like i did because i want to. Now. But then. So then you can and you were like the best brought ben. His parents in the far bided day beseech more credit. And i think the miners face . Rome. And here was i do it when your dinginess o bein read me but the white italian i mean we can actually see them. Can the bellman for boreali another. The bellman. His master on a night of interpretable wood the bill there. The. I like the lad i mean the laboratory. I can make game out of piles. They might yet have to be have to be there. But this i have a place where you put coat. Later from cold he said shared and nest. Yes yes i'll torment for. Please let. And having my case. And i would like to show the people to be open sure and so on. This basically. Here on the ionian. Since the. When were ye so much. Here that have pretend then purely man as her other prayer here. Also i guess. Her flesh propitiousness cross. As for the passengers. Really peroration to. And these of the games had created he was more. I think i only pulled the other which. They make it. One is. In a eight lady came to bilious. For the lady. The southern who. And. Inside. Over the world to. The crow meadows. It's a criminal. Then as. I copy it elinor. One. O o my god to me a television. You are a sad tender would we were. Things also even to be. And a. It was a random or his canaries every sake and in his society not to hit a something as to die when you get a better being. A amandine very visibilities speak to you for i like it is like he was nothing now but this this word it was among the worst. Said carlo life is like this may. For let. As no one could see them put. This one was have been mind leverage but then a man sometimes i use in ventirose with his. This is the. And on to all. Matravers. I myself. And he sang at exact not paula i still of monte. Oh page man. I was. Should be who to bateman. Tell. I know what is. A man is a man in. Some were promised me. It is except command from the keeper. And i thought your hand. It should more with my. I. The vase was were have more did wool yea and this would run away from bad one life . But there was many a visitor created this word physics. I. A play with this i. On a given masons but polite would find it to live a lamia. I reason but they were or other was like monaker maria level or gave the veils of created. If the time is a. Ah here is. As you increase the mass and the. Oh isn't it dan for the fright so that it goes inside all was serene on nor to have done with this for it's before. I guess he can rise breathe and in the learned something you know the man you critter i string gravity gifts. Oh yes it is a almost in the using. Rich and relocated. Go open. A. Most small. Oh go. His remote option. I some. Whatever i give. Only way i used to be the pantiles commands here three inannatuma but you get the point of there are some vision. With the fore house maybe it was a pose to get the ball inside it so changed him that no. But any. It was. Any ideas. I now. Meanwhile in cross office. A. It is you. No i had . I refilled going with tomatoes. But then with what there good rattleton one could we made the heroine the dictator for the engine. He is and is the target competition. I. I mean what . I. But it ouasioto art to great. And i hope for i. O course oosoever coition you can talk to join up in the deinotherium. So. A. I see see. And . It was a bitter egotists tenderness. Oh my satiation didn't ran. A livening on yon. As an omen of what. The suite. "
     ]
    }
   ],
   "source": [
    "meeting_facilitator.start()\n"
   ]
  },
  {
   "cell_type": "code",
   "execution_count": 18,
   "metadata": {},
   "outputs": [],
   "source": [
    "meeting_facilitator.stop()"
   ]
  },
  {
   "cell_type": "markdown",
   "metadata": {},
   "source": [
    "## Handling of transcriptions"
   ]
  },
  {
   "cell_type": "code",
   "execution_count": null,
   "metadata": {},
   "outputs": [],
   "source": [
    "meeting_facilitator._trainscriptions_list"
   ]
  },
  {
   "cell_type": "code",
   "execution_count": null,
   "metadata": {},
   "outputs": [],
   "source": [
    "meeting_facilitator.process_transcriptions()"
   ]
  },
  {
   "cell_type": "markdown",
   "metadata": {},
   "source": [
    "## Meeting Facilitator Control panel\n",
    "\n",
    "Small UI to visualize how the process is doing."
   ]
  },
  {
   "cell_type": "code",
   "execution_count": null,
   "metadata": {},
   "outputs": [],
   "source": [
    "import ipywidgets as widgets\n",
    "import plotly.graph_objs as go\n",
    "from IPython.display import display"
   ]
  },
  {
   "cell_type": "code",
   "execution_count": null,
   "metadata": {},
   "outputs": [],
   "source": [
    "## Global variables\n",
    "mic = meeting_facilitator.transcriber.microphone\n",
    "r = meeting_facilitator.transcriber.recognizer\n",
    "\n",
    "# Box with the recordings to show.\n",
    "figure_box = widgets.Box([go.FigureWidget()], layout = {\"width\":\"70%\", \"height\":\"600px\"})\n",
    "\n",
    "######### Panel widgets \n",
    "\n",
    "## Recording menu\n",
    "recording_title_output = widgets.Output()\n",
    "with recording_title_output:\n",
    "    print(\"Recording options:\")\n",
    "duration_input = widgets.FloatText(value=4, description='Duration:', disabled=False)\n",
    "offset_input = widgets.FloatText(value=1, description='Offset:', disabled=False)\n",
    "button_record = widgets.Button(value=False, description='Start', button_style='', icon='check')\n",
    "saving_file_name = widgets.Text(value=\"example.wav\", description='Save file:', disabled=False)\n",
    "\n",
    "# Create main Box \n",
    "recording_box = widgets.VBox([recording_title_output,saving_file_name,duration_input,offset_input, button_record], layout={'border': '1px solid black'})\n",
    "recorder_box = widgets.HBox([recording_box, figure_box])\n",
    "\n",
    "        \n",
    "def folder_input_submit_callback(folder_input):\n",
    "    files_in_folder = get_folder_files(folder_input.value) \n",
    "    files_dropdown.options= files_in_folder\n",
    "    files_dropdown.value=files_in_folder[0]\n",
    "    \n",
    "def start_meeting_callback(button):\n",
    "    folder_input = \"../audios/temp/\"\n",
    "    if button.description == \"Start\":\n",
    "        button.description = \"Recording\"\n",
    "        meeting_facilitator.start()\n",
    "        \n",
    "def stop_meeting_callback(button):\n",
    "    folder_input = \"../audios/temp/\"\n",
    "    if button.description == \"Stopping\":\n",
    "        button.description = \"Recording\"\n",
    "        meeting_facilitator.start()\n",
    "\n",
    "        \n",
    "def start_meeting_callback():\n",
    "    \n",
    "# Assign callback functions\n",
    "button_record.on_click(record_button_callback)\n",
    "\n",
    "\n",
    "display(recorder_box)"
   ]
  },
  {
   "cell_type": "code",
   "execution_count": null,
   "metadata": {},
   "outputs": [],
   "source": []
  }
 ],
 "metadata": {
  "kernelspec": {
   "display_name": "Python 3",
   "language": "python",
   "name": "python3"
  },
  "language_info": {
   "codemirror_mode": {
    "name": "ipython",
    "version": 3
   },
   "file_extension": ".py",
   "mimetype": "text/x-python",
   "name": "python",
   "nbconvert_exporter": "python",
   "pygments_lexer": "ipython3",
   "version": "3.7.4"
  }
 },
 "nbformat": 4,
 "nbformat_minor": 2
}
