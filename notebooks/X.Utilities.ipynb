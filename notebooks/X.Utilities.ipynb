{
 "cells": [
  {
   "cell_type": "markdown",
   "metadata": {},
   "source": [
    "# Utilities\n",
    "\n",
    "In this document we play and document with other utilities of the pyramidman system such as the sending of emails of the generation of reports."
   ]
  },
  {
   "cell_type": "code",
   "execution_count": 24,
   "metadata": {},
   "outputs": [
    {
     "name": "stdout",
     "output_type": "stream",
     "text": [
      "The autoreload extension is already loaded. To reload it, use:\n",
      "  %reload_ext autoreload\n"
     ]
    }
   ],
   "source": [
    "%load_ext autoreload\n",
    "%autoreload 2\n",
    "\n",
    "from pyramidman.unwrapper import unwrap"
   ]
  },
  {
   "cell_type": "markdown",
   "metadata": {},
   "source": [
    "## 1. Mailing system"
   ]
  },
  {
   "cell_type": "code",
   "execution_count": 2,
   "metadata": {},
   "outputs": [],
   "source": [
    "from pyramidman.email import Email, EmailConfig"
   ]
  },
  {
   "cell_type": "code",
   "execution_count": 25,
   "metadata": {},
   "outputs": [
    {
     "name": "stdout",
     "output_type": "stream",
     "text": [
      "<EmailConfig>\tobject has children:\n",
      "    <str>\tuser:\tiotubes.dk@gmail.com\n",
      "    <str>\tpwd:\tIotubes1\n",
      "    <list>\trecipients\n",
      "    <str>\tsubject:\t[Thesis] Results from execution\n",
      "    <str>\tbody:\t\n",
      "\n",
      "  <list>\trecipients has children:\n",
      "      <str>\trecipients[0]:\tmanuwhs@gmail.com\n",
      "\n",
      "\n"
     ]
    }
   ],
   "source": [
    "email = Email()\n",
    "email_config = EmailConfig()\n",
    "\n",
    "unwrap(email_config)"
   ]
  },
  {
   "cell_type": "code",
   "execution_count": 7,
   "metadata": {},
   "outputs": [
    {
     "name": "stdout",
     "output_type": "stream",
     "text": [
      "successfully sent the mail\n"
     ]
    }
   ],
   "source": [
    "def send_email(email_config):\n",
    "    email = Email(email_config.user,email_config.pwd,email_config.recipients)\n",
    "    email.create_msgRoot(subject = email_config.subject )\n",
    "\n",
    "    email.add_HTML(email_config.body )\n",
    "    email.send_email()\n",
    "\n",
    "send_email(email_config)"
   ]
  },
  {
   "cell_type": "markdown",
   "metadata": {},
   "source": [
    "## 2. Report generation"
   ]
  },
  {
   "cell_type": "code",
   "execution_count": 36,
   "metadata": {},
   "outputs": [],
   "source": [
    "from pyramidman.Thoth import Papyrus"
   ]
  },
  {
   "cell_type": "code",
   "execution_count": 37,
   "metadata": {},
   "outputs": [
    {
     "name": "stdout",
     "output_type": "stream",
     "text": [
      "<Papyrus>\tobject has children:\n",
      "    <str>\ttitle:\tpyramidman presentation\n",
      "    <str>\treport_type:\tmeeting\n",
      "    <str>\tdate:\t2019-12-26 12:20:06.576308\n",
      "    <NoneType>\tattendants:\tNone\n",
      "    <NoneType>\tdocument:\tNone\n",
      "    <str>\tlogo_filepath:\t../img/pyramidman_logo2.png\n",
      "\n",
      "\n"
     ]
    }
   ],
   "source": [
    "papyrus = Papyrus()\n",
    "unwrap(papyrus)"
   ]
  },
  {
   "cell_type": "code",
   "execution_count": 35,
   "metadata": {},
   "outputs": [],
   "source": [
    "report_filepath = \"../reports/presentation2.docx\"\n",
    "papyrus.create_document(report_filepath)"
   ]
  },
  {
   "cell_type": "markdown",
   "metadata": {},
   "source": [
    "## Complex combinations"
   ]
  },
  {
   "cell_type": "code",
   "execution_count": 38,
   "metadata": {},
   "outputs": [
    {
     "name": "stdout",
     "output_type": "stream",
     "text": [
      "successfully sent the mail\n"
     ]
    }
   ],
   "source": [
    "email = Email(email_config.user,email_config.pwd,email_config.recipients)\n",
    "email.create_msgRoot(subject = email_config.subject )\n",
    "\n",
    "email.add_HTML(email_config.body )\n",
    "email.add_file(report_filepath)\n",
    "email.send_email()"
   ]
  },
  {
   "cell_type": "code",
   "execution_count": null,
   "metadata": {},
   "outputs": [],
   "source": []
  }
 ],
 "metadata": {
  "kernelspec": {
   "display_name": "Python 3",
   "language": "python",
   "name": "python3"
  },
  "language_info": {
   "codemirror_mode": {
    "name": "ipython",
    "version": 3
   },
   "file_extension": ".py",
   "mimetype": "text/x-python",
   "name": "python",
   "nbconvert_exporter": "python",
   "pygments_lexer": "ipython3",
   "version": "3.7.4"
  }
 },
 "nbformat": 4,
 "nbformat_minor": 2
}
