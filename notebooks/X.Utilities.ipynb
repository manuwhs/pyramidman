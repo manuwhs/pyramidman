{
 "cells": [
  {
   "cell_type": "markdown",
   "metadata": {},
   "source": [
    "# Utilities\n",
    "\n",
    "In this document we play and document with other utilities of the pyramidman system such as the sending of emails of the generation of reports."
   ]
  },
  {
   "cell_type": "code",
   "execution_count": 1,
   "metadata": {},
   "outputs": [],
   "source": [
    "%load_ext autoreload\n",
    "%autoreload 2\n",
    "\n",
    "from pyramidman.unwrapper import unwrap\n",
    "from pyramidman.speech_commands import SpeechCommandsHandler"
   ]
  },
  {
   "cell_type": "markdown",
   "metadata": {},
   "source": [
    "## 1. Mailing system"
   ]
  },
  {
   "cell_type": "code",
   "execution_count": 2,
   "metadata": {},
   "outputs": [],
   "source": [
    "from pyramidman.email import Email, EmailConfig"
   ]
  },
  {
   "cell_type": "code",
   "execution_count": 3,
   "metadata": {},
   "outputs": [
    {
     "name": "stdout",
     "output_type": "stream",
     "text": [
      "<EmailConfig>\tobject has children:\n",
      "    <str>\tuser:\tpyramidman.damvad@gmail.com\n",
      "    <str>\tpwd:\thowdoesitscale\n",
      "    <list>\trecipients\n",
      "    <str>\tsubject:\t[Meeting] Report of meeting\n",
      "    <str>\tbody:\t\n",
      "\n",
      "  <list>\trecipients has children:\n",
      "      <str>\trecipients[0]:\tmanuwhs@gmail.com\n",
      "\n",
      "\n"
     ]
    }
   ],
   "source": [
    "email = Email()\n",
    "email_config = EmailConfig()\n",
    "\n",
    "unwrap(email_config)"
   ]
  },
  {
   "cell_type": "code",
   "execution_count": 4,
   "metadata": {},
   "outputs": [
    {
     "name": "stdout",
     "output_type": "stream",
     "text": [
      "successfully sent the mail\n"
     ]
    }
   ],
   "source": [
    "def send_email(email_config):\n",
    "    email = Email(email_config.user,email_config.pwd,email_config.recipients)\n",
    "    email.create_msgRoot(subject = email_config.subject )\n",
    "\n",
    "    email.add_HTML(email_config.body )\n",
    "    email.send_email()\n",
    "\n",
    "send_email(email_config)"
   ]
  },
  {
   "cell_type": "markdown",
   "metadata": {},
   "source": [
    "## 2. Report generation"
   ]
  },
  {
   "cell_type": "code",
   "execution_count": 5,
   "metadata": {},
   "outputs": [],
   "source": [
    "from pyramidman.Thoth import Papyrus"
   ]
  },
  {
   "cell_type": "code",
   "execution_count": 6,
   "metadata": {},
   "outputs": [
    {
     "name": "stdout",
     "output_type": "stream",
     "text": [
      "<Papyrus>\tobject has children:\n",
      "    <str>\ttitle:\tpyramidman presentation\n",
      "    <str>\treport_type:\tmeeting\n",
      "    <str>\tdate:\t2020-01-02 17:41:22.597341\n",
      "    <NoneType>\tattendants:\tNone\n",
      "    <NoneType>\tdocument:\tNone\n",
      "    <str>\tlogo_filepath:\t../img/pyramidman_logo2.png\n",
      "\n",
      "\n"
     ]
    }
   ],
   "source": [
    "papyrus = Papyrus()\n",
    "unwrap(papyrus)"
   ]
  },
  {
   "cell_type": "code",
   "execution_count": 7,
   "metadata": {},
   "outputs": [],
   "source": [
    "report_filepath = \"../reports/presentation5.docx\"\n",
    "papyrus.create_document(report_filepath)"
   ]
  },
  {
   "cell_type": "markdown",
   "metadata": {},
   "source": [
    "## Complex combinations"
   ]
  },
  {
   "cell_type": "code",
   "execution_count": 8,
   "metadata": {},
   "outputs": [
    {
     "name": "stdout",
     "output_type": "stream",
     "text": [
      "successfully sent the mail\n"
     ]
    }
   ],
   "source": [
    "email = Email(email_config.user,email_config.pwd,email_config.recipients)\n",
    "email.create_msgRoot(subject = email_config.subject )\n",
    "\n",
    "email.add_HTML(email_config.body )\n",
    "email.add_file(report_filepath)\n",
    "email.send_email()"
   ]
  },
  {
   "cell_type": "markdown",
   "metadata": {},
   "source": [
    "# 3. Text summarization"
   ]
  },
  {
   "cell_type": "code",
   "execution_count": 9,
   "metadata": {},
   "outputs": [
    {
     "name": "stdout",
     "output_type": "stream",
     "text": [
      "0.1637     1  minimal generating sets\n",
      "[minimal generating sets]\n",
      "0.1440     4  systems\n",
      "[systems, systems, systems, a system]\n",
      "0.1200     3  solutions\n",
      "[solutions, solutions, solutions]\n",
      "0.1081     1  mixed types\n",
      "[mixed types]\n",
      "0.1080     1  strict inequations\n",
      "[strict inequations]\n",
      "0.1080     1  nonstrict inequations\n",
      "[nonstrict inequations]\n",
      "0.1063     1  diophantine equations\n",
      "[Diophantine equations]\n",
      "0.1044     1  a minimal supporting set\n",
      "[a minimal supporting set]\n",
      "0.1036     1  linear constraints\n",
      "[linear constraints]\n",
      "0.0954     1  a minimal set\n",
      "[a minimal set]\n",
      "0.0938     1  upper bounds\n",
      "[Upper bounds]\n",
      "0.0826     1  algorithms\n",
      "[algorithms]\n",
      "0.0824     1  natural numbers\n",
      "[natural numbers]\n",
      "0.0823     1  components\n",
      "[components]\n",
      "0.0814     1  diophantine\n",
      "[Diophantine]\n",
      "0.0810     1  all the considered types systems\n",
      "[all the considered types systems]\n",
      "0.0734     2  compatibility\n",
      "[Compatibility, compatibility]\n",
      "0.0716     1  construction\n",
      "[construction]\n",
      "0.0701     1  the set\n",
      "[the set]\n",
      "0.0651     2  criteria\n",
      "[Criteria, These criteria]\n",
      "0.0608     1  the corresponding algorithms\n",
      "[the corresponding algorithms]\n",
      "0.0537     1  all types\n",
      "[all types]\n"
     ]
    }
   ],
   "source": [
    "import spacy\n",
    "import pytextrank\n",
    "\n",
    "# example text\n",
    "text = \"Compatibility of systems of linear constraints over the set of natural numbers. Criteria of compatibility of a system of linear Diophantine equations, strict inequations, and nonstrict inequations are considered. Upper bounds for components of a minimal set of solutions and algorithms of construction of minimal generating sets of solutions for all types of systems are given. These criteria and the corresponding algorithms for constructing a minimal supporting set of solutions can be used in solving all the considered types systems and systems of mixed types.\"\n",
    "\n",
    "# load a spaCy model, depending on language, scale, etc.\n",
    "nlp = spacy.load(\"en_core_web_sm\")\n",
    "\n",
    "# add PyTextRank to the spaCy pipeline\n",
    "tr = pytextrank.TextRank()\n",
    "nlp.add_pipe(tr.PipelineComponent, name=\"textrank\", last=True)\n",
    "\n",
    "doc = nlp(text)\n",
    "\n",
    "# examine the top-ranked phrases in the document\n",
    "for p in doc._.phrases:\n",
    "    print(\"{:.4f} {:5d}  {}\".format(p.rank, p.count, p.text))\n",
    "    print(p.chunks)"
   ]
  },
  {
   "cell_type": "code",
   "execution_count": 19,
   "metadata": {},
   "outputs": [
    {
     "data": {
      "text/plain": [
       "0.0"
      ]
     },
     "execution_count": 19,
     "metadata": {},
     "output_type": "execute_result"
    }
   ],
   "source": [
    "doc."
   ]
  },
  {
   "cell_type": "markdown",
   "metadata": {},
   "source": [
    "# 4. Command Handler\n",
    "\n",
    "This class handles the commands."
   ]
  },
  {
   "cell_type": "code",
   "execution_count": 10,
   "metadata": {},
   "outputs": [],
   "source": [
    "speech_command_handler = SpeechCommandsHandler(mode = \"active\")"
   ]
  },
  {
   "cell_type": "code",
   "execution_count": 11,
   "metadata": {},
   "outputs": [
    {
     "name": "stdout",
     "output_type": "stream",
     "text": [
      "<SpeechCommandsHandler>\tobject has children:\n",
      "    <str>\tkeyword:\tpyramid man\n",
      "    <str>\tmode:\tactive\n",
      "    <list>\tcommands\n",
      "\n",
      "  <list>\tcommands has children:\n",
      "      <dict>\tcommands[0]\n",
      "\n",
      "    <dict>\tcommands[0] has children:\n",
      "        <str>\tname:\tmusic_player\n",
      "        <list>\tsentences\n",
      "        <list>\tsentences\n",
      "        <list>\targs\n",
      "\n",
      "      <list>\targs has children:\n",
      "          <AudioParameters>\targs[0]\n",
      "\n",
      "        <AudioParameters>\targs[0] has children:\n",
      "            <int>\tchunk:\t1024\n",
      "            <int>\tsample_format:\t8\n",
      "            <NoneType>\tsubtype:\tNone\n",
      "            <int>\tchannels:\t1\n",
      "            <int>\tsample_rate:\t48000\n",
      "            <int>\tinput_device_index:\t0\n",
      "\n",
      "      <list>\tsentences has children:\n",
      "          <str>\tsentences[0]:\tplay music\n",
      "\n",
      "      <list>\tsentences has children:\n",
      "          <str>\tsentences[0]:\tplay music\n",
      "          <str>\tsentences[0]:\tplay music\n",
      "\n",
      "\n"
     ]
    }
   ],
   "source": [
    "unwrap(speech_command_handler)"
   ]
  },
  {
   "cell_type": "code",
   "execution_count": 12,
   "metadata": {},
   "outputs": [
    {
     "data": {
      "text/plain": [
       "[{'name': 'music_player',\n",
       "  'sentences': ['play music'],\n",
       "  'function': <function pyramidman.speech_commands.play_generic_sentence(audio_params, folder='../audios/temp/')>,\n",
       "  'args': [<pyramidman.audio_parameters.AudioParameters at 0x7f9a0b19c4d0>]}]"
      ]
     },
     "execution_count": 12,
     "metadata": {},
     "output_type": "execute_result"
    }
   ],
   "source": [
    "speech_command_handler.commands"
   ]
  },
  {
   "cell_type": "code",
   "execution_count": 13,
   "metadata": {
    "scrolled": true
   },
   "outputs": [
    {
     "name": "stdout",
     "output_type": "stream",
     "text": [
      "processing  the pyramid man play music\n",
      "keyword detected\n",
      "playing\n"
     ]
    }
   ],
   "source": [
    "speech_command_handler.process(\"the pyramid man play music\")"
   ]
  },
  {
   "cell_type": "code",
   "execution_count": null,
   "metadata": {},
   "outputs": [],
   "source": []
  }
 ],
 "metadata": {
  "kernelspec": {
   "display_name": "Python 3",
   "language": "python",
   "name": "python3"
  },
  "language_info": {
   "codemirror_mode": {
    "name": "ipython",
    "version": 3
   },
   "file_extension": ".py",
   "mimetype": "text/x-python",
   "name": "python",
   "nbconvert_exporter": "python",
   "pygments_lexer": "ipython3",
   "version": "3.7.4"
  }
 },
 "nbformat": 4,
 "nbformat_minor": 2
}
