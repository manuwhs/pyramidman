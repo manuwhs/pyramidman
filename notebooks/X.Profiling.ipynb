{
 "cells": [
  {
   "cell_type": "markdown",
   "metadata": {},
   "source": [
    "# Profiling of code\n",
    "\n",
    "Sometimes it will be more proper with lprun and the other one just testing and plotting the performance according to the size of the documents."
   ]
  },
  {
   "cell_type": "code",
   "execution_count": 2,
   "metadata": {},
   "outputs": [
    {
     "name": "stdout",
     "output_type": "stream",
     "text": [
      "Fee pyramidman.Seshat\n"
     ]
    },
    {
     "name": "stderr",
     "output_type": "stream",
     "text": [
      "/home/montoya/anaconda3/envs/python36/lib/python3.7/site-packages/tqdm/autonotebook.py:17: TqdmExperimentalWarning: Using `tqdm.autonotebook.tqdm` in notebook mode. Use `tqdm.tqdm` instead to force console mode (e.g. in jupyter console)\n",
      "  \" (e.g. in jupyter console)\", TqdmExperimentalWarning)\n"
     ]
    }
   ],
   "source": [
    "%load_ext autoreload\n",
    "%autoreload 2\n",
    "%load_ext line_profiler\n",
    "from pyramidman.speech_commands import SpeechCommandsHandler\n",
    "from pyramidman.Seshat import Transcriber\n",
    "from pyramidman.unwrapper import unwrap\n",
    "from pyramidman.meeting_facilitator import MeetingFacilitator\n",
    "from pyramidman.email import EmailConfig\n",
    "from pyramidman.noisereduce_optimized import reduce_noise_optimized\n",
    "from pyramidman.listener import listen\n",
    "from pyramidman.basic_audio_IO import record_audio"
   ]
  },
  {
   "cell_type": "markdown",
   "metadata": {},
   "source": [
    "## Initialize models and load data"
   ]
  },
  {
   "cell_type": "code",
   "execution_count": 3,
   "metadata": {},
   "outputs": [
    {
     "name": "stdout",
     "output_type": "stream",
     "text": [
      "Calibrating microphone for 1 seconds.\n",
      "Calibrated energy threshold:  1210.4821236134335\n"
     ]
    }
   ],
   "source": [
    "email_config = EmailConfig()\n",
    "\n",
    "meeting_facilitator = MeetingFacilitator(\"my_meeting\")\n",
    "meeting_facilitator.set_automatic_default_transcriber()\n",
    "meeting_facilitator.set_email_config(email_config)\n",
    "meeting_facilitator.set_default_speech_command_handler()"
   ]
  },
  {
   "cell_type": "code",
   "execution_count": 4,
   "metadata": {},
   "outputs": [],
   "source": [
    "meeting_facilitator.transcriber.set_automatic_noise_filter(n_fft=2048*1,\n",
    "                                   win_length=2048*1,\n",
    "                                   hop_length=512*2)"
   ]
  },
  {
   "cell_type": "markdown",
   "metadata": {},
   "source": [
    "## 1. Data adquisition thread\n",
    "\n",
    "Settings: 48.000 rate and 2048 chunks.\n",
    "\n",
    "From playing around with the read function:\n",
    "- With no data preprocessing, 98.4 of the time is invested in waiting for the chunck. 1.2 for reading the buffer.\n",
    "- With data preprocessing, then 70% is waiting, and 30 is to process the chunks"
   ]
  },
  {
   "cell_type": "code",
   "execution_count": 5,
   "metadata": {},
   "outputs": [],
   "source": [
    "def listen_profiling(audio_filter = lambda x:x):\n",
    "    with meeting_facilitator.transcriber.microphone as source:\n",
    "        r = meeting_facilitator.transcriber.recognizer\n",
    "        audio = listen(r, source, timeout = 0, phrase_time_limit=5, chunk_preprocessing= audio_filter)"
   ]
  },
  {
   "cell_type": "code",
   "execution_count": 6,
   "metadata": {},
   "outputs": [
    {
     "name": "stdout",
     "output_type": "stream",
     "text": [
      "\n",
      "*** Profile printout saved to text file '../profiling/profiling_time_listening'. \n"
     ]
    }
   ],
   "source": [
    "%lprun -T ../profiling/profiling_time_listening -f listen listen_profiling() "
   ]
  },
  {
   "cell_type": "code",
   "execution_count": 7,
   "metadata": {},
   "outputs": [
    {
     "name": "stdout",
     "output_type": "stream",
     "text": [
      "\n",
      "*** Profile printout saved to text file '../profiling/profiling_time_listening_noise_reduce_f'. \n"
     ]
    }
   ],
   "source": [
    "%lprun -T ../profiling/profiling_time_listening_noise_reduce_f -f reduce_noise_optimized listen_profiling(meeting_facilitator.transcriber.audio_filter) "
   ]
  },
  {
   "cell_type": "code",
   "execution_count": 8,
   "metadata": {},
   "outputs": [
    {
     "name": "stdout",
     "output_type": "stream",
     "text": [
      "\n",
      "*** Profile printout saved to text file '../profiling/profiling_time_listening_noise_reduce'. \n"
     ]
    }
   ],
   "source": [
    "%lprun -T ../profiling/profiling_time_listening_noise_reduce -f listen listen_profiling(meeting_facilitator.transcriber.audio_filter) "
   ]
  },
  {
   "cell_type": "code",
   "execution_count": 9,
   "metadata": {},
   "outputs": [
    {
     "name": "stdout",
     "output_type": "stream",
     "text": [
      "\n",
      "*** Profile printout saved to text file '../profiling/profiling_time_listening_noise_reduce'. \n"
     ]
    }
   ],
   "source": [
    "%lprun -T ../profiling/profiling_time_listening_noise_reduce -f listen listen_profiling(meeting_facilitator.transcriber.audio_filter) "
   ]
  },
  {
   "cell_type": "markdown",
   "metadata": {},
   "source": [
    "## 2. Transcription"
   ]
  },
  {
   "cell_type": "code",
   "execution_count": 11,
   "metadata": {},
   "outputs": [],
   "source": [
    "filepath  = \"../audios/standard/english.wav\"\n",
    "filepath  = \"../audios/standard/sep.wav\""
   ]
  },
  {
   "cell_type": "code",
   "execution_count": 12,
   "metadata": {},
   "outputs": [
    {
     "name": "stdout",
     "output_type": "stream",
     "text": [
      "Recording\n",
      "Finished recording\n"
     ]
    }
   ],
   "source": [
    "record_audio(meeting_facilitator.transcriber.audio_params, filename = filepath, seconds = 10)"
   ]
  },
  {
   "cell_type": "code",
   "execution_count": 80,
   "metadata": {},
   "outputs": [
    {
     "data": {
      "text/plain": [
       "{'sentence': 'hello my friend that',\n",
       " 'words': [{'word': 'hello', 'start_time ': 0.0, 'duration': 5.42},\n",
       "  {'word': 'my', 'start_time ': 5.44, 'duration': 0.34},\n",
       "  {'word': 'friend', 'start_time ': 5.8, 'duration': 1.86},\n",
       "  {'word': 'that', 'start_time ': 8.14, 'duration': 0.3}],\n",
       " 'confidence': -17.595313706775393}"
      ]
     },
     "execution_count": 80,
     "metadata": {},
     "output_type": "execute_result"
    }
   ],
   "source": [
    "meeting_facilitator.transcriber.transcribe(filepath, True)"
   ]
  },
  {
   "cell_type": "code",
   "execution_count": 14,
   "metadata": {},
   "outputs": [],
   "source": [
    "from pyramidman.deepspeech_tools import transcribe"
   ]
  },
  {
   "cell_type": "code",
   "execution_count": 15,
   "metadata": {},
   "outputs": [
    {
     "name": "stdout",
     "output_type": "stream",
     "text": [
      "\n",
      "*** Profile printout saved to text file '../profiling/transcriber'. \n"
     ]
    }
   ],
   "source": [
    "%lprun -T ../profiling/transcriber -f transcribe  meeting_facilitator.transcriber.transcribe(filepath)"
   ]
  },
  {
   "cell_type": "code",
   "execution_count": 16,
   "metadata": {},
   "outputs": [
    {
     "name": "stdout",
     "output_type": "stream",
     "text": [
      "\n",
      "*** Profile printout saved to text file '../profiling/transcriber'. \n"
     ]
    }
   ],
   "source": [
    "%lprun -T ../profiling/transcriber -f meeting_facilitator.transcriber.transcribe  meeting_facilitator.transcriber.transcribe(filepath)"
   ]
  },
  {
   "cell_type": "markdown",
   "metadata": {},
   "source": [
    "## 3. Command processing"
   ]
  },
  {
   "cell_type": "code",
   "execution_count": 39,
   "metadata": {},
   "outputs": [],
   "source": [
    "from pyramidman.subprocess import call_subprocess"
   ]
  },
  {
   "cell_type": "code",
   "execution_count": 76,
   "metadata": {},
   "outputs": [],
   "source": [
    "output, error, return_code = call_subprocess(f\"python ../scripts/transcriber.py --audio {filepath}\")"
   ]
  },
  {
   "cell_type": "code",
   "execution_count": 77,
   "metadata": {},
   "outputs": [
    {
     "data": {
      "text/plain": [
       "'{\"sentence\": \"hello my friend that\", \"words\": [{\"word\": \"hello\", \"start_time \": 0.0, \"duration\": 5.42}, {\"word\": \"my\", \"start_time \": 5.44, \"duration\": 0.34}, {\"word\": \"friend\", \"start_time \": 5.8, \"duration\": 1.86}, {\"word\": \"that\", \"start_time \": 8.14, \"duration\": 0.3}], \"confidence\": -17.595313706775393}\\n'"
      ]
     },
     "execution_count": 77,
     "metadata": {},
     "output_type": "execute_result"
    }
   ],
   "source": [
    "output"
   ]
  },
  {
   "cell_type": "code",
   "execution_count": 78,
   "metadata": {},
   "outputs": [
    {
     "data": {
      "text/plain": [
       "{'sentence': 'hello my friend that',\n",
       " 'words': [{'word': 'hello', 'start_time ': 0.0, 'duration': 5.42},\n",
       "  {'word': 'my', 'start_time ': 5.44, 'duration': 0.34},\n",
       "  {'word': 'friend', 'start_time ': 5.8, 'duration': 1.86},\n",
       "  {'word': 'that', 'start_time ': 8.14, 'duration': 0.3}],\n",
       " 'confidence': -17.595313706775393}"
      ]
     },
     "execution_count": 78,
     "metadata": {},
     "output_type": "execute_result"
    }
   ],
   "source": [
    "json.loads(output)"
   ]
  },
  {
   "cell_type": "code",
   "execution_count": 75,
   "metadata": {},
   "outputs": [],
   "source": [
    "import json\n",
    "import pickle"
   ]
  },
  {
   "cell_type": "code",
   "execution_count": 74,
   "metadata": {},
   "outputs": [
    {
     "data": {
      "text/plain": [
       "{'sentence': 'hello my friend that',\n",
       " 'words': [{'word': 'hello', 'start_time ': 0.0, 'duration': 5.42},\n",
       "  {'word': 'my', 'start_time ': 5.44, 'duration': 0.34},\n",
       "  {'word': 'friend', 'start_time ': 5.8, 'duration': 1.86},\n",
       "  {'word': 'that', 'start_time ': 8.14, 'duration': 0.3}],\n",
       " 'characters': <Swig Object of type 'Metadata *' at 0x7f92f93ce270>,\n",
       " 'confidence': -17.595313706775393}"
      ]
     },
     "execution_count": 74,
     "metadata": {},
     "output_type": "execute_result"
    }
   ],
   "source": [
    "meeting_facilitator.transcriber.transcribe(filepath, 0)"
   ]
  },
  {
   "cell_type": "code",
   "execution_count": null,
   "metadata": {},
   "outputs": [],
   "source": []
  }
 ],
 "metadata": {
  "kernelspec": {
   "display_name": "Python 3",
   "language": "python",
   "name": "python3"
  },
  "language_info": {
   "codemirror_mode": {
    "name": "ipython",
    "version": 3
   },
   "file_extension": ".py",
   "mimetype": "text/x-python",
   "name": "python",
   "nbconvert_exporter": "python",
   "pygments_lexer": "ipython3",
   "version": "3.7.4"
  }
 },
 "nbformat": 4,
 "nbformat_minor": 2
}
