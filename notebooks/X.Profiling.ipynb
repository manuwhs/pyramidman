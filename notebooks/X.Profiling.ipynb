{
 "cells": [
  {
   "cell_type": "markdown",
   "metadata": {},
   "source": [
    "# Profiling of code\n",
    "\n",
    "Sometimes it will be more proper with lprun and the other one just testing and plotting the performance according to the size of the documents."
   ]
  },
  {
   "cell_type": "code",
   "execution_count": 2,
   "metadata": {},
   "outputs": [
    {
     "name": "stdout",
     "output_type": "stream",
     "text": [
      "Fee pyramidman.Seshat\n"
     ]
    },
    {
     "name": "stderr",
     "output_type": "stream",
     "text": [
      "/home/montoya/anaconda3/envs/python36/lib/python3.7/site-packages/tqdm/autonotebook.py:17: TqdmExperimentalWarning: Using `tqdm.autonotebook.tqdm` in notebook mode. Use `tqdm.tqdm` instead to force console mode (e.g. in jupyter console)\n",
      "  \" (e.g. in jupyter console)\", TqdmExperimentalWarning)\n"
     ]
    }
   ],
   "source": [
    "%load_ext autoreload\n",
    "%autoreload 2\n",
    "%load_ext line_profiler\n",
    "from pyramidman.speech_commands import SpeechCommandsHandler\n",
    "from pyramidman.Seshat import Transcriber\n",
    "from pyramidman.unwrapper import unwrap\n",
    "from pyramidman.meeting_facilitator import MeetingFacilitator\n",
    "from pyramidman.email import EmailConfig\n",
    "from pyramidman.noisereduce_optimized import reduce_noise_optimized\n",
    "from pyramidman.listener import listen\n",
    "from pyramidman.basic_audio_IO import record_audio"
   ]
  },
  {
   "cell_type": "markdown",
   "metadata": {},
   "source": [
    "## Initialize models and load data"
   ]
  },
  {
   "cell_type": "code",
   "execution_count": 3,
   "metadata": {},
   "outputs": [
    {
     "name": "stdout",
     "output_type": "stream",
     "text": [
      "Calibrating microphone for 1 seconds.\n",
      "Calibrated energy threshold:  1210.4821236134335\n"
     ]
    }
   ],
   "source": [
    "email_config = EmailConfig()\n",
    "\n",
    "meeting_facilitator = MeetingFacilitator(\"my_meeting\")\n",
    "meeting_facilitator.set_automatic_default_transcriber()\n",
    "meeting_facilitator.set_email_config(email_config)\n",
    "meeting_facilitator.set_default_speech_command_handler()"
   ]
  },
  {
   "cell_type": "code",
   "execution_count": 4,
   "metadata": {},
   "outputs": [],
   "source": [
    "meeting_facilitator.transcriber.set_automatic_noise_filter(n_fft=2048*1,\n",
    "                                   win_length=2048*1,\n",
    "                                   hop_length=512*2)"
   ]
  },
  {
   "cell_type": "markdown",
   "metadata": {},
   "source": [
    "## 1. Data adquisition thread\n",
    "\n",
    "Settings: 48.000 rate and 2048 chunks.\n",
    "\n",
    "From playing around with the read function:\n",
    "- With no data preprocessing, 98.4 of the time is invested in waiting for the chunck. 1.2 for reading the buffer.\n",
    "- With data preprocessing, then 70% is waiting, and 30 is to process the chunks"
   ]
  },
  {
   "cell_type": "code",
   "execution_count": 5,
   "metadata": {},
   "outputs": [],
   "source": [
    "def listen_profiling(audio_filter = lambda x:x):\n",
    "    with meeting_facilitator.transcriber.microphone as source:\n",
    "        r = meeting_facilitator.transcriber.recognizer\n",
    "        audio = listen(r, source, timeout = 0, phrase_time_limit=5, chunk_preprocessing= audio_filter)"
   ]
  },
  {
   "cell_type": "code",
   "execution_count": 6,
   "metadata": {},
   "outputs": [
    {
     "name": "stdout",
     "output_type": "stream",
     "text": [
      "\n",
      "*** Profile printout saved to text file '../profiling/profiling_time_listening'. \n"
     ]
    }
   ],
   "source": [
    "%lprun -T ../profiling/profiling_time_listening -f listen listen_profiling() "
   ]
  },
  {
   "cell_type": "code",
   "execution_count": 7,
   "metadata": {},
   "outputs": [
    {
     "name": "stdout",
     "output_type": "stream",
     "text": [
      "\n",
      "*** Profile printout saved to text file '../profiling/profiling_time_listening_noise_reduce_f'. \n"
     ]
    }
   ],
   "source": [
    "%lprun -T ../profiling/profiling_time_listening_noise_reduce_f -f reduce_noise_optimized listen_profiling(meeting_facilitator.transcriber.audio_filter) "
   ]
  },
  {
   "cell_type": "code",
   "execution_count": 8,
   "metadata": {},
   "outputs": [
    {
     "name": "stdout",
     "output_type": "stream",
     "text": [
      "\n",
      "*** Profile printout saved to text file '../profiling/profiling_time_listening_noise_reduce'. \n"
     ]
    }
   ],
   "source": [
    "%lprun -T ../profiling/profiling_time_listening_noise_reduce -f listen listen_profiling(meeting_facilitator.transcriber.audio_filter) "
   ]
  },
  {
   "cell_type": "code",
   "execution_count": 9,
   "metadata": {},
   "outputs": [
    {
     "name": "stdout",
     "output_type": "stream",
     "text": [
      "\n",
      "*** Profile printout saved to text file '../profiling/profiling_time_listening_noise_reduce'. \n"
     ]
    }
   ],
   "source": [
    "%lprun -T ../profiling/profiling_time_listening_noise_reduce -f listen listen_profiling(meeting_facilitator.transcriber.audio_filter) "
   ]
  },
  {
   "cell_type": "markdown",
   "metadata": {},
   "source": [
    "## 2. Transcription"
   ]
  },
  {
   "cell_type": "code",
   "execution_count": 11,
   "metadata": {},
   "outputs": [],
   "source": [
    "filepath  = \"../audios/standard/english.wav\"\n",
    "filepath  = \"../audios/standard/sep.wav\""
   ]
  },
  {
   "cell_type": "code",
   "execution_count": 12,
   "metadata": {},
   "outputs": [
    {
     "name": "stdout",
     "output_type": "stream",
     "text": [
      "Recording\n",
      "Finished recording\n"
     ]
    }
   ],
   "source": [
    "record_audio(meeting_facilitator.transcriber.audio_params, filename = filepath, seconds = 10)"
   ]
  },
  {
   "cell_type": "code",
   "execution_count": 80,
   "metadata": {},
   "outputs": [
    {
     "data": {
      "text/plain": [
       "{'sentence': 'hello my friend that',\n",
       " 'words': [{'word': 'hello', 'start_time ': 0.0, 'duration': 5.42},\n",
       "  {'word': 'my', 'start_time ': 5.44, 'duration': 0.34},\n",
       "  {'word': 'friend', 'start_time ': 5.8, 'duration': 1.86},\n",
       "  {'word': 'that', 'start_time ': 8.14, 'duration': 0.3}],\n",
       " 'confidence': -17.595313706775393}"
      ]
     },
     "execution_count": 80,
     "metadata": {},
     "output_type": "execute_result"
    }
   ],
   "source": [
    "meeting_facilitator.transcriber.transcribe(filepath, True)"
   ]
  },
  {
   "cell_type": "code",
   "execution_count": 14,
   "metadata": {},
   "outputs": [],
   "source": [
    "from pyramidman.deepspeech_tools import transcribe"
   ]
  },
  {
   "cell_type": "code",
   "execution_count": 15,
   "metadata": {},
   "outputs": [
    {
     "name": "stdout",
     "output_type": "stream",
     "text": [
      "\n",
      "*** Profile printout saved to text file '../profiling/transcriber'. \n"
     ]
    }
   ],
   "source": [
    "%lprun -T ../profiling/transcriber -f transcribe  meeting_facilitator.transcriber.transcribe(filepath)"
   ]
  },
  {
   "cell_type": "code",
   "execution_count": 16,
   "metadata": {},
   "outputs": [
    {
     "name": "stdout",
     "output_type": "stream",
     "text": [
      "\n",
      "*** Profile printout saved to text file '../profiling/transcriber'. \n"
     ]
    }
   ],
   "source": [
    "%lprun -T ../profiling/transcriber -f meeting_facilitator.transcriber.transcribe  meeting_facilitator.transcriber.transcribe(filepath)"
   ]
  },
  {
   "cell_type": "markdown",
   "metadata": {},
   "source": [
    "## 3. Command processing"
   ]
  },
  {
   "cell_type": "code",
   "execution_count": 37,
   "metadata": {},
   "outputs": [
    {
     "name": "stdout",
     "output_type": "stream",
     "text": [
      "main line\n",
      "module name: __main__\n",
      "parent process: 3661\n",
      "process id: 24721\n"
     ]
    },
    {
     "ename": "KeyboardInterrupt",
     "evalue": "",
     "output_type": "error",
     "traceback": [
      "\u001b[0;31m---------------------------------------------------------------------------\u001b[0m",
      "\u001b[0;31mKeyboardInterrupt\u001b[0m                         Traceback (most recent call last)",
      "\u001b[0;32m<ipython-input-37-fd27fc2c3e62>\u001b[0m in \u001b[0;36m<module>\u001b[0;34m\u001b[0m\n\u001b[1;32m     22\u001b[0m \u001b[0;34m\u001b[0m\u001b[0m\n\u001b[1;32m     23\u001b[0m \u001b[0;34m\u001b[0m\u001b[0m\n\u001b[0;32m---> 24\u001b[0;31m \u001b[0minfo\u001b[0m\u001b[0;34m(\u001b[0m\u001b[0;34m'main line'\u001b[0m\u001b[0;34m)\u001b[0m\u001b[0;34m\u001b[0m\u001b[0;34m\u001b[0m\u001b[0m\n\u001b[0m\u001b[1;32m     25\u001b[0m \u001b[0mp\u001b[0m \u001b[0;34m=\u001b[0m \u001b[0mProcess\u001b[0m\u001b[0;34m(\u001b[0m\u001b[0mtarget\u001b[0m\u001b[0;34m=\u001b[0m\u001b[0mf\u001b[0m\u001b[0;34m,\u001b[0m \u001b[0margs\u001b[0m\u001b[0;34m=\u001b[0m\u001b[0;34m(\u001b[0m\u001b[0;34m'bob'\u001b[0m\u001b[0;34m,\u001b[0m\u001b[0;34m)\u001b[0m\u001b[0;34m)\u001b[0m\u001b[0;34m\u001b[0m\u001b[0;34m\u001b[0m\u001b[0m\n\u001b[1;32m     26\u001b[0m \u001b[0mp\u001b[0m\u001b[0;34m.\u001b[0m\u001b[0mstart\u001b[0m\u001b[0;34m(\u001b[0m\u001b[0;34m)\u001b[0m\u001b[0;34m\u001b[0m\u001b[0;34m\u001b[0m\u001b[0m\n",
      "\u001b[0;32m<ipython-input-37-fd27fc2c3e62>\u001b[0m in \u001b[0;36minfo\u001b[0;34m(title)\u001b[0m\n\u001b[1;32m     14\u001b[0m     \u001b[0maudio_params\u001b[0m\u001b[0;34m.\u001b[0m\u001b[0mset_default_input_parameters\u001b[0m\u001b[0;34m(\u001b[0m\u001b[0;34m)\u001b[0m\u001b[0;34m\u001b[0m\u001b[0;34m\u001b[0m\u001b[0m\n\u001b[1;32m     15\u001b[0m     \u001b[0mfilepath\u001b[0m  \u001b[0;34m=\u001b[0m \u001b[0;34m\"../audios/standard/sep.wav\"\u001b[0m\u001b[0;34m\u001b[0m\u001b[0;34m\u001b[0m\u001b[0m\n\u001b[0;32m---> 16\u001b[0;31m     \u001b[0mplay_audio\u001b[0m\u001b[0;34m(\u001b[0m\u001b[0maudio_params\u001b[0m\u001b[0;34m,\u001b[0m \u001b[0mfilepath\u001b[0m\u001b[0;34m)\u001b[0m\u001b[0;34m\u001b[0m\u001b[0;34m\u001b[0m\u001b[0m\n\u001b[0m\u001b[1;32m     17\u001b[0m     \u001b[0;31m# re = self.transcriber(audio)\u001b[0m\u001b[0;34m\u001b[0m\u001b[0;34m\u001b[0m\u001b[0;34m\u001b[0m\u001b[0m\n\u001b[1;32m     18\u001b[0m \u001b[0;34m\u001b[0m\u001b[0m\n",
      "\u001b[0;32m~/Desktop/VScode/pyramidman/pyramidman/basic_audio_IO.py\u001b[0m in \u001b[0;36mplay_audio\u001b[0;34m(audio_parameters, filename)\u001b[0m\n\u001b[1;32m     23\u001b[0m \u001b[0;34m\u001b[0m\u001b[0m\n\u001b[1;32m     24\u001b[0m     \u001b[0;32mwhile\u001b[0m \u001b[0mdata\u001b[0m \u001b[0;34m!=\u001b[0m \u001b[0;34mb''\u001b[0m\u001b[0;34m:\u001b[0m\u001b[0;34m\u001b[0m\u001b[0;34m\u001b[0m\u001b[0m\n\u001b[0;32m---> 25\u001b[0;31m         \u001b[0mstream\u001b[0m\u001b[0;34m.\u001b[0m\u001b[0mwrite\u001b[0m\u001b[0;34m(\u001b[0m\u001b[0mdata\u001b[0m\u001b[0;34m)\u001b[0m\u001b[0;34m\u001b[0m\u001b[0;34m\u001b[0m\u001b[0m\n\u001b[0m\u001b[1;32m     26\u001b[0m         \u001b[0mdata\u001b[0m \u001b[0;34m=\u001b[0m \u001b[0mwf\u001b[0m\u001b[0;34m.\u001b[0m\u001b[0mreadframes\u001b[0m\u001b[0;34m(\u001b[0m\u001b[0maudio_parameters\u001b[0m\u001b[0;34m.\u001b[0m\u001b[0mchunk\u001b[0m\u001b[0;34m)\u001b[0m\u001b[0;34m\u001b[0m\u001b[0;34m\u001b[0m\u001b[0m\n\u001b[1;32m     27\u001b[0m         \u001b[0;31m# print(data)\u001b[0m\u001b[0;34m\u001b[0m\u001b[0;34m\u001b[0m\u001b[0;34m\u001b[0m\u001b[0m\n",
      "\u001b[0;32m~/anaconda3/envs/python36/lib/python3.7/site-packages/pyaudio.py\u001b[0m in \u001b[0;36mwrite\u001b[0;34m(self, frames, num_frames, exception_on_underflow)\u001b[0m\n\u001b[1;32m    584\u001b[0m \u001b[0;34m\u001b[0m\u001b[0m\n\u001b[1;32m    585\u001b[0m         pa.write_stream(self._stream, frames, num_frames,\n\u001b[0;32m--> 586\u001b[0;31m                         exception_on_underflow)\n\u001b[0m\u001b[1;32m    587\u001b[0m \u001b[0;34m\u001b[0m\u001b[0m\n\u001b[1;32m    588\u001b[0m \u001b[0;34m\u001b[0m\u001b[0m\n",
      "\u001b[0;31mKeyboardInterrupt\u001b[0m: "
     ]
    }
   ],
   "source": [
    "from multiprocessing import Process\n",
    "import os\n",
    "\n",
    "from pyramidman.basic_audio_IO import play_audio\n",
    "from pyramidman.audio_parameters import AudioParameters\n",
    "\n",
    "def info(title):\n",
    "    print(title)\n",
    "    print('module name:', __name__)\n",
    "    print('parent process:', os.getppid())\n",
    "    print('process id:', os.getpid())\n",
    "    audio_params = AudioParameters()\n",
    "    audio_params.set_sysdefault_microphone_index()\n",
    "    audio_params.set_default_input_parameters()\n",
    "    filepath  = \"../audios/standard/sep.wav\"\n",
    "    play_audio(audio_params, filepath)\n",
    "    # re = self.transcriber(audio)\n",
    "\n",
    "def f(name):\n",
    "    info('function f')\n",
    "    print('hello', name)\n",
    "\n",
    "\n",
    "info('main line')\n",
    "p = Process(target=f, args=('bob',))\n",
    "p.start()\n",
    "p.join()"
   ]
  },
  {
   "cell_type": "code",
   "execution_count": 34,
   "metadata": {},
   "outputs": [
    {
     "ename": "NameError",
     "evalue": "name 'audio_params' is not defined",
     "output_type": "error",
     "traceback": [
      "\u001b[0;31m---------------------------------------------------------------------------\u001b[0m",
      "\u001b[0;31mNameError\u001b[0m                                 Traceback (most recent call last)",
      "\u001b[0;32m<ipython-input-34-b1992f64dd8d>\u001b[0m in \u001b[0;36m<module>\u001b[0;34m\u001b[0m\n\u001b[0;32m----> 1\u001b[0;31m \u001b[0munwrap\u001b[0m\u001b[0;34m(\u001b[0m\u001b[0maudio_params\u001b[0m\u001b[0;34m)\u001b[0m\u001b[0;34m\u001b[0m\u001b[0;34m\u001b[0m\u001b[0m\n\u001b[0m",
      "\u001b[0;31mNameError\u001b[0m: name 'audio_params' is not defined"
     ]
    }
   ],
   "source": [
    "unwrap(audio_params)"
   ]
  },
  {
   "cell_type": "code",
   "execution_count": 39,
   "metadata": {},
   "outputs": [],
   "source": [
    "from pyramidman.subprocess import call_subprocess"
   ]
  },
  {
   "cell_type": "code",
   "execution_count": 76,
   "metadata": {},
   "outputs": [],
   "source": [
    "output, error, return_code = call_subprocess(f\"python ../scripts/transcriber.py --audio {filepath}\")"
   ]
  },
  {
   "cell_type": "code",
   "execution_count": 77,
   "metadata": {},
   "outputs": [
    {
     "data": {
      "text/plain": [
       "'{\"sentence\": \"hello my friend that\", \"words\": [{\"word\": \"hello\", \"start_time \": 0.0, \"duration\": 5.42}, {\"word\": \"my\", \"start_time \": 5.44, \"duration\": 0.34}, {\"word\": \"friend\", \"start_time \": 5.8, \"duration\": 1.86}, {\"word\": \"that\", \"start_time \": 8.14, \"duration\": 0.3}], \"confidence\": -17.595313706775393}\\n'"
      ]
     },
     "execution_count": 77,
     "metadata": {},
     "output_type": "execute_result"
    }
   ],
   "source": [
    "output"
   ]
  },
  {
   "cell_type": "code",
   "execution_count": 78,
   "metadata": {},
   "outputs": [
    {
     "data": {
      "text/plain": [
       "{'sentence': 'hello my friend that',\n",
       " 'words': [{'word': 'hello', 'start_time ': 0.0, 'duration': 5.42},\n",
       "  {'word': 'my', 'start_time ': 5.44, 'duration': 0.34},\n",
       "  {'word': 'friend', 'start_time ': 5.8, 'duration': 1.86},\n",
       "  {'word': 'that', 'start_time ': 8.14, 'duration': 0.3}],\n",
       " 'confidence': -17.595313706775393}"
      ]
     },
     "execution_count": 78,
     "metadata": {},
     "output_type": "execute_result"
    }
   ],
   "source": [
    "json.loads(output)"
   ]
  },
  {
   "cell_type": "code",
   "execution_count": 75,
   "metadata": {},
   "outputs": [],
   "source": [
    "import json\n",
    "import pickle"
   ]
  },
  {
   "cell_type": "code",
   "execution_count": 74,
   "metadata": {},
   "outputs": [
    {
     "data": {
      "text/plain": [
       "{'sentence': 'hello my friend that',\n",
       " 'words': [{'word': 'hello', 'start_time ': 0.0, 'duration': 5.42},\n",
       "  {'word': 'my', 'start_time ': 5.44, 'duration': 0.34},\n",
       "  {'word': 'friend', 'start_time ': 5.8, 'duration': 1.86},\n",
       "  {'word': 'that', 'start_time ': 8.14, 'duration': 0.3}],\n",
       " 'characters': <Swig Object of type 'Metadata *' at 0x7f92f93ce270>,\n",
       " 'confidence': -17.595313706775393}"
      ]
     },
     "execution_count": 74,
     "metadata": {},
     "output_type": "execute_result"
    }
   ],
   "source": [
    "meeting_facilitator.transcriber.transcribe(filepath, 0)"
   ]
  },
  {
   "cell_type": "code",
   "execution_count": null,
   "metadata": {},
   "outputs": [],
   "source": []
  }
 ],
 "metadata": {
  "kernelspec": {
   "display_name": "Python 3",
   "language": "python",
   "name": "python3"
  },
  "language_info": {
   "codemirror_mode": {
    "name": "ipython",
    "version": 3
   },
   "file_extension": ".py",
   "mimetype": "text/x-python",
   "name": "python",
   "nbconvert_exporter": "python",
   "pygments_lexer": "ipython3",
   "version": "3.7.4"
  }
 },
 "nbformat": 4,
 "nbformat_minor": 2
}
